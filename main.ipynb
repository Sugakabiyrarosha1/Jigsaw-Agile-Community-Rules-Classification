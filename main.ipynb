{
 "cells": [
  {
   "cell_type": "code",
   "execution_count": null,
   "id": "d7fd7a63",
   "metadata": {},
   "outputs": [
    {
     "name": "stdout",
     "output_type": "stream",
     "text": [
      "Device: cpu\n",
      "Total combos: 1728 | Completed in CSV: 27\n",
      "\n",
      "=== Trial 1/200 | idx=27 ===\n",
      "{'seq_len': 200, 'emb_dim': 192, 'conv_blocks': 1, 'channels_start': 128, 'channel_growth': 'x1.5', 'kernel_sizes': '3-5-7', 'dropout': 0.25, 'weight_decay': 0.0002, 'label_smoothing': 0.03, 'learning_rate': 0.0008, 'batch_size': 128, 'epochs': 8, 'loss_fn': 'bce_logits'}\n"
     ]
    },
    {
     "name": "stderr",
     "output_type": "stream",
     "text": [
      "                                                          \r"
     ]
    },
    {
     "name": "stdout",
     "output_type": "stream",
     "text": [
      "[SCRATCH] Epoch 1/8 AUC=0.76391 ACC=0.6798 (best 0.76391, patience 0/3)\n"
     ]
    },
    {
     "name": "stderr",
     "output_type": "stream",
     "text": [
      "                                                          \r"
     ]
    },
    {
     "name": "stdout",
     "output_type": "stream",
     "text": [
      "[SCRATCH] Epoch 2/8 AUC=0.79005 ACC=0.6921 (best 0.79005, patience 0/3)\n"
     ]
    },
    {
     "name": "stderr",
     "output_type": "stream",
     "text": [
      "                                                          \r"
     ]
    },
    {
     "name": "stdout",
     "output_type": "stream",
     "text": [
      "[SCRATCH] Epoch 3/8 AUC=0.80017 ACC=0.7291 (best 0.80017, patience 0/3)\n"
     ]
    },
    {
     "name": "stderr",
     "output_type": "stream",
     "text": [
      "                                                          \r"
     ]
    },
    {
     "name": "stdout",
     "output_type": "stream",
     "text": [
      "[SCRATCH] Epoch 4/8 AUC=0.80735 ACC=0.7094 (best 0.80735, patience 0/3)\n"
     ]
    },
    {
     "name": "stderr",
     "output_type": "stream",
     "text": [
      "                                                          \r"
     ]
    },
    {
     "name": "stdout",
     "output_type": "stream",
     "text": [
      "[SCRATCH] Epoch 5/8 AUC=0.80282 ACC=0.7241 (best 0.80735, patience 1/3)\n"
     ]
    },
    {
     "name": "stderr",
     "output_type": "stream",
     "text": [
      "                                                          \r"
     ]
    },
    {
     "name": "stdout",
     "output_type": "stream",
     "text": [
      "[SCRATCH] Epoch 6/8 AUC=0.80473 ACC=0.7143 (best 0.80735, patience 2/3)\n"
     ]
    },
    {
     "name": "stderr",
     "output_type": "stream",
     "text": [
      "                                                          \r"
     ]
    },
    {
     "name": "stdout",
     "output_type": "stream",
     "text": [
      "[SCRATCH] Epoch 7/8 AUC=0.80294 ACC=0.7020 (best 0.80735, patience 3/3)\n",
      "Early stopping: no improvement.\n",
      "\n",
      "=== Trial 2/200 | idx=28 ===\n",
      "{'seq_len': 224, 'emb_dim': 192, 'conv_blocks': 2, 'channels_start': 128, 'channel_growth': 'x1.5', 'kernel_sizes': '3-5-7', 'dropout': 0.2, 'weight_decay': 0.0001, 'label_smoothing': 0.03, 'learning_rate': 0.0012, 'batch_size': 64, 'epochs': 8, 'loss_fn': 'bce_logits'}\n"
     ]
    },
    {
     "name": "stderr",
     "output_type": "stream",
     "text": [
      "                                                          \r"
     ]
    },
    {
     "name": "stdout",
     "output_type": "stream",
     "text": [
      "[SCRATCH] Epoch 1/8 AUC=0.78012 ACC=0.7069 (best 0.78012, patience 0/3)\n"
     ]
    },
    {
     "name": "stderr",
     "output_type": "stream",
     "text": [
      "                                                          \r"
     ]
    },
    {
     "name": "stdout",
     "output_type": "stream",
     "text": [
      "[SCRATCH] Epoch 2/8 AUC=0.76367 ACC=0.5739 (best 0.78012, patience 1/3)\n"
     ]
    },
    {
     "name": "stderr",
     "output_type": "stream",
     "text": [
      "                                                          \r"
     ]
    },
    {
     "name": "stdout",
     "output_type": "stream",
     "text": [
      "[SCRATCH] Epoch 3/8 AUC=0.78784 ACC=0.7020 (best 0.78784, patience 0/3)\n"
     ]
    },
    {
     "name": "stderr",
     "output_type": "stream",
     "text": [
      "                                                          \r"
     ]
    },
    {
     "name": "stdout",
     "output_type": "stream",
     "text": [
      "[SCRATCH] Epoch 4/8 AUC=0.78886 ACC=0.6847 (best 0.78886, patience 0/3)\n"
     ]
    },
    {
     "name": "stderr",
     "output_type": "stream",
     "text": [
      "                                                          \r"
     ]
    },
    {
     "name": "stdout",
     "output_type": "stream",
     "text": [
      "[SCRATCH] Epoch 5/8 AUC=0.78481 ACC=0.7044 (best 0.78886, patience 1/3)\n"
     ]
    },
    {
     "name": "stderr",
     "output_type": "stream",
     "text": [
      "                                                          \r"
     ]
    },
    {
     "name": "stdout",
     "output_type": "stream",
     "text": [
      "[SCRATCH] Epoch 6/8 AUC=0.75070 ACC=0.6847 (best 0.78886, patience 2/3)\n"
     ]
    },
    {
     "name": "stderr",
     "output_type": "stream",
     "text": [
      "                                                          \r"
     ]
    },
    {
     "name": "stdout",
     "output_type": "stream",
     "text": [
      "[SCRATCH] Epoch 7/8 AUC=0.78791 ACC=0.7143 (best 0.78886, patience 3/3)\n",
      "Early stopping: no improvement.\n",
      "\n",
      "=== Trial 3/200 | idx=29 ===\n",
      "{'seq_len': 256, 'emb_dim': 160, 'conv_blocks': 1, 'channels_start': 160, 'channel_growth': 'x1.5', 'kernel_sizes': '3-5-7', 'dropout': 0.25, 'weight_decay': 0.0001, 'label_smoothing': 0.03, 'learning_rate': 0.001, 'batch_size': 64, 'epochs': 8, 'loss_fn': 'bce_logits'}\n"
     ]
    },
    {
     "name": "stderr",
     "output_type": "stream",
     "text": [
      "                                                          \r"
     ]
    },
    {
     "name": "stdout",
     "output_type": "stream",
     "text": [
      "[SCRATCH] Epoch 1/8 AUC=0.79507 ACC=0.6305 (best 0.79507, patience 0/3)\n"
     ]
    },
    {
     "name": "stderr",
     "output_type": "stream",
     "text": [
      "                                                          \r"
     ]
    },
    {
     "name": "stdout",
     "output_type": "stream",
     "text": [
      "[SCRATCH] Epoch 2/8 AUC=0.78029 ACC=0.6897 (best 0.79507, patience 1/3)\n"
     ]
    },
    {
     "name": "stderr",
     "output_type": "stream",
     "text": [
      "                                                          \r"
     ]
    },
    {
     "name": "stdout",
     "output_type": "stream",
     "text": [
      "[SCRATCH] Epoch 3/8 AUC=0.77803 ACC=0.6970 (best 0.79507, patience 2/3)\n"
     ]
    },
    {
     "name": "stderr",
     "output_type": "stream",
     "text": [
      "                                                          \r"
     ]
    },
    {
     "name": "stdout",
     "output_type": "stream",
     "text": [
      "[SCRATCH] Epoch 4/8 AUC=0.79085 ACC=0.7094 (best 0.79507, patience 3/3)\n",
      "Early stopping: no improvement.\n",
      "\n",
      "=== Trial 4/200 | idx=30 ===\n",
      "{'seq_len': 200, 'emb_dim': 128, 'conv_blocks': 2, 'channels_start': 128, 'channel_growth': 'x1.5', 'kernel_sizes': '3-5-7', 'dropout': 0.25, 'weight_decay': 0.0001, 'label_smoothing': 0.03, 'learning_rate': 0.001, 'batch_size': 128, 'epochs': 8, 'loss_fn': 'bce_logits'}\n"
     ]
    },
    {
     "name": "stderr",
     "output_type": "stream",
     "text": [
      "                                                          \r"
     ]
    },
    {
     "name": "stdout",
     "output_type": "stream",
     "text": [
      "[SCRATCH] Epoch 1/8 AUC=0.74779 ACC=0.5665 (best 0.74779, patience 0/3)\n"
     ]
    },
    {
     "name": "stderr",
     "output_type": "stream",
     "text": [
      "                                                          \r"
     ]
    },
    {
     "name": "stdout",
     "output_type": "stream",
     "text": [
      "[SCRATCH] Epoch 2/8 AUC=0.78502 ACC=0.7143 (best 0.78502, patience 0/3)\n"
     ]
    },
    {
     "name": "stderr",
     "output_type": "stream",
     "text": [
      "                                                          \r"
     ]
    },
    {
     "name": "stdout",
     "output_type": "stream",
     "text": [
      "[SCRATCH] Epoch 3/8 AUC=0.75303 ACC=0.7020 (best 0.78502, patience 1/3)\n"
     ]
    },
    {
     "name": "stderr",
     "output_type": "stream",
     "text": [
      "                                                          \r"
     ]
    },
    {
     "name": "stdout",
     "output_type": "stream",
     "text": [
      "[SCRATCH] Epoch 4/8 AUC=0.73672 ACC=0.5345 (best 0.78502, patience 2/3)\n"
     ]
    },
    {
     "name": "stderr",
     "output_type": "stream",
     "text": [
      "                                                          \r"
     ]
    },
    {
     "name": "stdout",
     "output_type": "stream",
     "text": [
      "[SCRATCH] Epoch 5/8 AUC=0.77330 ACC=0.6847 (best 0.78502, patience 3/3)\n",
      "Early stopping: no improvement.\n",
      "\n",
      "=== Trial 5/200 | idx=31 ===\n",
      "{'seq_len': 224, 'emb_dim': 192, 'conv_blocks': 2, 'channels_start': 128, 'channel_growth': 'x1.5', 'kernel_sizes': '3-5-7', 'dropout': 0.25, 'weight_decay': 0.0001, 'label_smoothing': 0.03, 'learning_rate': 0.001, 'batch_size': 64, 'epochs': 8, 'loss_fn': 'bce_logits'}\n"
     ]
    },
    {
     "name": "stderr",
     "output_type": "stream",
     "text": [
      "                                                          \r"
     ]
    },
    {
     "name": "stdout",
     "output_type": "stream",
     "text": [
      "[SCRATCH] Epoch 1/8 AUC=0.76791 ACC=0.6995 (best 0.76791, patience 0/3)\n"
     ]
    },
    {
     "name": "stderr",
     "output_type": "stream",
     "text": [
      "                                                          \r"
     ]
    },
    {
     "name": "stdout",
     "output_type": "stream",
     "text": [
      "[SCRATCH] Epoch 2/8 AUC=0.77735 ACC=0.6182 (best 0.77735, patience 0/3)\n"
     ]
    },
    {
     "name": "stderr",
     "output_type": "stream",
     "text": [
      "                                                          \r"
     ]
    },
    {
     "name": "stdout",
     "output_type": "stream",
     "text": [
      "[SCRATCH] Epoch 3/8 AUC=0.79801 ACC=0.7143 (best 0.79801, patience 0/3)\n"
     ]
    },
    {
     "name": "stderr",
     "output_type": "stream",
     "text": [
      "                                                          \r"
     ]
    },
    {
     "name": "stdout",
     "output_type": "stream",
     "text": [
      "[SCRATCH] Epoch 4/8 AUC=0.79869 ACC=0.6872 (best 0.79869, patience 0/3)\n"
     ]
    },
    {
     "name": "stderr",
     "output_type": "stream",
     "text": [
      "                                                          \r"
     ]
    },
    {
     "name": "stdout",
     "output_type": "stream",
     "text": [
      "[SCRATCH] Epoch 5/8 AUC=0.79602 ACC=0.6921 (best 0.79869, patience 1/3)\n"
     ]
    },
    {
     "name": "stderr",
     "output_type": "stream",
     "text": [
      "                                                          \r"
     ]
    },
    {
     "name": "stdout",
     "output_type": "stream",
     "text": [
      "[SCRATCH] Epoch 6/8 AUC=0.79692 ACC=0.7143 (best 0.79869, patience 2/3)\n"
     ]
    },
    {
     "name": "stderr",
     "output_type": "stream",
     "text": [
      "                                                          \r"
     ]
    },
    {
     "name": "stdout",
     "output_type": "stream",
     "text": [
      "[SCRATCH] Epoch 7/8 AUC=0.79786 ACC=0.7143 (best 0.79869, patience 3/3)\n",
      "Early stopping: no improvement.\n",
      "\n",
      "=== Trial 6/200 | idx=32 ===\n",
      "{'seq_len': 200, 'emb_dim': 160, 'conv_blocks': 1, 'channels_start': 160, 'channel_growth': 'x1.5', 'kernel_sizes': '3-5-7', 'dropout': 0.25, 'weight_decay': 0.0002, 'label_smoothing': 0.03, 'learning_rate': 0.001, 'batch_size': 64, 'epochs': 8, 'loss_fn': 'bce_logits'}\n"
     ]
    },
    {
     "name": "stderr",
     "output_type": "stream",
     "text": [
      "                                                          \r"
     ]
    },
    {
     "name": "stdout",
     "output_type": "stream",
     "text": [
      "[SCRATCH] Epoch 1/8 AUC=0.79381 ACC=0.6084 (best 0.79381, patience 0/3)\n"
     ]
    },
    {
     "name": "stderr",
     "output_type": "stream",
     "text": [
      "                                                          \r"
     ]
    },
    {
     "name": "stdout",
     "output_type": "stream",
     "text": [
      "[SCRATCH] Epoch 2/8 AUC=0.78371 ACC=0.6897 (best 0.79381, patience 1/3)\n"
     ]
    },
    {
     "name": "stderr",
     "output_type": "stream",
     "text": [
      "                                                          \r"
     ]
    },
    {
     "name": "stdout",
     "output_type": "stream",
     "text": [
      "[SCRATCH] Epoch 3/8 AUC=0.78910 ACC=0.6921 (best 0.79381, patience 2/3)\n"
     ]
    },
    {
     "name": "stderr",
     "output_type": "stream",
     "text": [
      "                                                          \r"
     ]
    },
    {
     "name": "stdout",
     "output_type": "stream",
     "text": [
      "[SCRATCH] Epoch 4/8 AUC=0.79612 ACC=0.7143 (best 0.79612, patience 0/3)\n"
     ]
    },
    {
     "name": "stderr",
     "output_type": "stream",
     "text": [
      "                                                          \r"
     ]
    },
    {
     "name": "stdout",
     "output_type": "stream",
     "text": [
      "[SCRATCH] Epoch 5/8 AUC=0.78510 ACC=0.6995 (best 0.79612, patience 1/3)\n"
     ]
    },
    {
     "name": "stderr",
     "output_type": "stream",
     "text": [
      "                                                          \r"
     ]
    },
    {
     "name": "stdout",
     "output_type": "stream",
     "text": [
      "[SCRATCH] Epoch 6/8 AUC=0.77752 ACC=0.6921 (best 0.79612, patience 2/3)\n"
     ]
    },
    {
     "name": "stderr",
     "output_type": "stream",
     "text": [
      "                                                          \r"
     ]
    },
    {
     "name": "stdout",
     "output_type": "stream",
     "text": [
      "[SCRATCH] Epoch 7/8 AUC=0.77813 ACC=0.6970 (best 0.79612, patience 3/3)\n",
      "Early stopping: no improvement.\n",
      "\n",
      "=== Trial 7/200 | idx=33 ===\n",
      "{'seq_len': 256, 'emb_dim': 192, 'conv_blocks': 2, 'channels_start': 128, 'channel_growth': 'x1.5', 'kernel_sizes': '3-5-7', 'dropout': 0.2, 'weight_decay': 0.0002, 'label_smoothing': 0.0, 'learning_rate': 0.0012, 'batch_size': 128, 'epochs': 8, 'loss_fn': 'bce_logits'}\n"
     ]
    },
    {
     "name": "stderr",
     "output_type": "stream",
     "text": [
      "                                                          \r"
     ]
    },
    {
     "name": "stdout",
     "output_type": "stream",
     "text": [
      "[SCRATCH] Epoch 1/8 AUC=0.75248 ACC=0.5148 (best 0.75248, patience 0/3)\n"
     ]
    },
    {
     "name": "stderr",
     "output_type": "stream",
     "text": [
      "                                                          \r"
     ]
    },
    {
     "name": "stdout",
     "output_type": "stream",
     "text": [
      "[SCRATCH] Epoch 2/8 AUC=0.77954 ACC=0.5714 (best 0.77954, patience 0/3)\n"
     ]
    },
    {
     "name": "stderr",
     "output_type": "stream",
     "text": [
      "                                                          \r"
     ]
    },
    {
     "name": "stdout",
     "output_type": "stream",
     "text": [
      "[SCRATCH] Epoch 3/8 AUC=0.80367 ACC=0.7167 (best 0.80367, patience 0/3)\n"
     ]
    },
    {
     "name": "stderr",
     "output_type": "stream",
     "text": [
      "                                                          \r"
     ]
    },
    {
     "name": "stdout",
     "output_type": "stream",
     "text": [
      "[SCRATCH] Epoch 4/8 AUC=0.78782 ACC=0.7192 (best 0.80367, patience 1/3)\n"
     ]
    },
    {
     "name": "stderr",
     "output_type": "stream",
     "text": [
      "                                                          \r"
     ]
    },
    {
     "name": "stdout",
     "output_type": "stream",
     "text": [
      "[SCRATCH] Epoch 5/8 AUC=0.79420 ACC=0.6946 (best 0.80367, patience 2/3)\n"
     ]
    },
    {
     "name": "stderr",
     "output_type": "stream",
     "text": [
      "                                                          \r"
     ]
    },
    {
     "name": "stdout",
     "output_type": "stream",
     "text": [
      "[SCRATCH] Epoch 6/8 AUC=0.77269 ACC=0.6921 (best 0.80367, patience 3/3)\n",
      "Early stopping: no improvement.\n",
      "\n",
      "=== Trial 8/200 | idx=34 ===\n",
      "{'seq_len': 224, 'emb_dim': 192, 'conv_blocks': 1, 'channels_start': 128, 'channel_growth': 'x1.5', 'kernel_sizes': '3-5-7', 'dropout': 0.2, 'weight_decay': 0.0002, 'label_smoothing': 0.03, 'learning_rate': 0.001, 'batch_size': 64, 'epochs': 8, 'loss_fn': 'bce_logits'}\n"
     ]
    },
    {
     "name": "stderr",
     "output_type": "stream",
     "text": [
      "                                                          \r"
     ]
    },
    {
     "name": "stdout",
     "output_type": "stream",
     "text": [
      "[SCRATCH] Epoch 1/8 AUC=0.73791 ACC=0.6675 (best 0.73791, patience 0/3)\n"
     ]
    },
    {
     "name": "stderr",
     "output_type": "stream",
     "text": [
      "                                                          \r"
     ]
    },
    {
     "name": "stdout",
     "output_type": "stream",
     "text": [
      "[SCRATCH] Epoch 2/8 AUC=0.79913 ACC=0.6970 (best 0.79913, patience 0/3)\n"
     ]
    },
    {
     "name": "stderr",
     "output_type": "stream",
     "text": [
      "                                                          \r"
     ]
    },
    {
     "name": "stdout",
     "output_type": "stream",
     "text": [
      "[SCRATCH] Epoch 3/8 AUC=0.80684 ACC=0.7217 (best 0.80684, patience 0/3)\n"
     ]
    },
    {
     "name": "stderr",
     "output_type": "stream",
     "text": [
      "                                                          \r"
     ]
    },
    {
     "name": "stdout",
     "output_type": "stream",
     "text": [
      "[SCRATCH] Epoch 4/8 AUC=0.79073 ACC=0.7118 (best 0.80684, patience 1/3)\n"
     ]
    },
    {
     "name": "stderr",
     "output_type": "stream",
     "text": [
      "                                                          \r"
     ]
    },
    {
     "name": "stdout",
     "output_type": "stream",
     "text": [
      "[SCRATCH] Epoch 5/8 AUC=0.78587 ACC=0.7044 (best 0.80684, patience 2/3)\n"
     ]
    },
    {
     "name": "stderr",
     "output_type": "stream",
     "text": [
      "                                                          \r"
     ]
    },
    {
     "name": "stdout",
     "output_type": "stream",
     "text": [
      "[SCRATCH] Epoch 6/8 AUC=0.78206 ACC=0.7094 (best 0.80684, patience 3/3)\n",
      "Early stopping: no improvement.\n",
      "\n",
      "=== Trial 9/200 | idx=35 ===\n",
      "{'seq_len': 256, 'emb_dim': 160, 'conv_blocks': 2, 'channels_start': 128, 'channel_growth': 'x1.5', 'kernel_sizes': '3-5-7', 'dropout': 0.25, 'weight_decay': 0.0002, 'label_smoothing': 0.03, 'learning_rate': 0.0012, 'batch_size': 64, 'epochs': 8, 'loss_fn': 'bce_logits'}\n"
     ]
    },
    {
     "name": "stderr",
     "output_type": "stream",
     "text": [
      "                                                          \r"
     ]
    },
    {
     "name": "stdout",
     "output_type": "stream",
     "text": [
      "[SCRATCH] Epoch 1/8 AUC=0.74245 ACC=0.6650 (best 0.74245, patience 0/3)\n"
     ]
    },
    {
     "name": "stderr",
     "output_type": "stream",
     "text": [
      "                                                          \r"
     ]
    },
    {
     "name": "stdout",
     "output_type": "stream",
     "text": [
      "[SCRATCH] Epoch 2/8 AUC=0.77396 ACC=0.7069 (best 0.77396, patience 0/3)\n"
     ]
    },
    {
     "name": "stderr",
     "output_type": "stream",
     "text": [
      "                                                          \r"
     ]
    },
    {
     "name": "stdout",
     "output_type": "stream",
     "text": [
      "[SCRATCH] Epoch 3/8 AUC=0.77488 ACC=0.7118 (best 0.77488, patience 0/3)\n"
     ]
    },
    {
     "name": "stderr",
     "output_type": "stream",
     "text": [
      "                                                          \r"
     ]
    },
    {
     "name": "stdout",
     "output_type": "stream",
     "text": [
      "[SCRATCH] Epoch 4/8 AUC=0.77891 ACC=0.6995 (best 0.77891, patience 0/3)\n"
     ]
    },
    {
     "name": "stderr",
     "output_type": "stream",
     "text": [
      "                                                          \r"
     ]
    },
    {
     "name": "stdout",
     "output_type": "stream",
     "text": [
      "[SCRATCH] Epoch 5/8 AUC=0.76796 ACC=0.6995 (best 0.77891, patience 1/3)\n"
     ]
    },
    {
     "name": "stderr",
     "output_type": "stream",
     "text": [
      "                                                          \r"
     ]
    },
    {
     "name": "stdout",
     "output_type": "stream",
     "text": [
      "[SCRATCH] Epoch 6/8 AUC=0.77689 ACC=0.6970 (best 0.77891, patience 2/3)\n"
     ]
    },
    {
     "name": "stderr",
     "output_type": "stream",
     "text": [
      "                                                          \r"
     ]
    },
    {
     "name": "stdout",
     "output_type": "stream",
     "text": [
      "[SCRATCH] Epoch 7/8 AUC=0.78583 ACC=0.6946 (best 0.78583, patience 0/3)\n"
     ]
    },
    {
     "name": "stderr",
     "output_type": "stream",
     "text": [
      "                                                          \r"
     ]
    },
    {
     "name": "stdout",
     "output_type": "stream",
     "text": [
      "[SCRATCH] Epoch 8/8 AUC=0.77803 ACC=0.6798 (best 0.78583, patience 1/3)\n",
      "\n",
      "=== Trial 10/200 | idx=36 ===\n",
      "{'seq_len': 256, 'emb_dim': 192, 'conv_blocks': 1, 'channels_start': 128, 'channel_growth': 'x1.5', 'kernel_sizes': '3-5-7', 'dropout': 0.2, 'weight_decay': 0.0001, 'label_smoothing': 0.0, 'learning_rate': 0.001, 'batch_size': 64, 'epochs': 8, 'loss_fn': 'bce_logits'}\n"
     ]
    },
    {
     "name": "stderr",
     "output_type": "stream",
     "text": [
      "                                                          \r"
     ]
    },
    {
     "name": "stdout",
     "output_type": "stream",
     "text": [
      "[SCRATCH] Epoch 1/8 AUC=0.73121 ACC=0.6724 (best 0.73121, patience 0/3)\n"
     ]
    },
    {
     "name": "stderr",
     "output_type": "stream",
     "text": [
      "                                                          \r"
     ]
    },
    {
     "name": "stdout",
     "output_type": "stream",
     "text": [
      "[SCRATCH] Epoch 2/8 AUC=0.79570 ACC=0.7044 (best 0.79570, patience 0/3)\n"
     ]
    },
    {
     "name": "stderr",
     "output_type": "stream",
     "text": [
      "                                                          \r"
     ]
    },
    {
     "name": "stdout",
     "output_type": "stream",
     "text": [
      "[SCRATCH] Epoch 3/8 AUC=0.80007 ACC=0.7291 (best 0.80007, patience 0/3)\n"
     ]
    },
    {
     "name": "stderr",
     "output_type": "stream",
     "text": [
      "                                                          \r"
     ]
    },
    {
     "name": "stdout",
     "output_type": "stream",
     "text": [
      "[SCRATCH] Epoch 4/8 AUC=0.78840 ACC=0.7118 (best 0.80007, patience 1/3)\n"
     ]
    },
    {
     "name": "stderr",
     "output_type": "stream",
     "text": [
      "                                                          \r"
     ]
    },
    {
     "name": "stdout",
     "output_type": "stream",
     "text": [
      "[SCRATCH] Epoch 5/8 AUC=0.78956 ACC=0.7044 (best 0.80007, patience 2/3)\n"
     ]
    },
    {
     "name": "stderr",
     "output_type": "stream",
     "text": [
      "                                                          \r"
     ]
    },
    {
     "name": "stdout",
     "output_type": "stream",
     "text": [
      "[SCRATCH] Epoch 6/8 AUC=0.78512 ACC=0.7044 (best 0.80007, patience 3/3)\n",
      "Early stopping: no improvement.\n",
      "\n",
      "=== Trial 11/200 | idx=37 ===\n",
      "{'seq_len': 256, 'emb_dim': 192, 'conv_blocks': 1, 'channels_start': 128, 'channel_growth': 'x1.5', 'kernel_sizes': '3-5-7', 'dropout': 0.2, 'weight_decay': 0.0001, 'label_smoothing': 0.0, 'learning_rate': 0.0012, 'batch_size': 64, 'epochs': 8, 'loss_fn': 'bce_logits'}\n"
     ]
    },
    {
     "name": "stderr",
     "output_type": "stream",
     "text": [
      "                                                          \r"
     ]
    },
    {
     "name": "stdout",
     "output_type": "stream",
     "text": [
      "[SCRATCH] Epoch 1/8 AUC=0.73956 ACC=0.6995 (best 0.73956, patience 0/3)\n"
     ]
    },
    {
     "name": "stderr",
     "output_type": "stream",
     "text": [
      "                                                          \r"
     ]
    },
    {
     "name": "stdout",
     "output_type": "stream",
     "text": [
      "[SCRATCH] Epoch 2/8 AUC=0.78434 ACC=0.7118 (best 0.78434, patience 0/3)\n"
     ]
    },
    {
     "name": "stderr",
     "output_type": "stream",
     "text": [
      "                                                          \r"
     ]
    },
    {
     "name": "stdout",
     "output_type": "stream",
     "text": [
      "[SCRATCH] Epoch 3/8 AUC=0.80211 ACC=0.7118 (best 0.80211, patience 0/3)\n"
     ]
    },
    {
     "name": "stderr",
     "output_type": "stream",
     "text": [
      "                                                          \r"
     ]
    },
    {
     "name": "stdout",
     "output_type": "stream",
     "text": [
      "[SCRATCH] Epoch 4/8 AUC=0.79080 ACC=0.7020 (best 0.80211, patience 1/3)\n"
     ]
    },
    {
     "name": "stderr",
     "output_type": "stream",
     "text": [
      "                                                          \r"
     ]
    },
    {
     "name": "stdout",
     "output_type": "stream",
     "text": [
      "[SCRATCH] Epoch 5/8 AUC=0.79010 ACC=0.6970 (best 0.80211, patience 2/3)\n"
     ]
    },
    {
     "name": "stderr",
     "output_type": "stream",
     "text": [
      "                                                          \r"
     ]
    },
    {
     "name": "stdout",
     "output_type": "stream",
     "text": [
      "[SCRATCH] Epoch 6/8 AUC=0.79755 ACC=0.7217 (best 0.80211, patience 3/3)\n",
      "Early stopping: no improvement.\n",
      "\n",
      "=== Trial 12/200 | idx=38 ===\n",
      "{'seq_len': 224, 'emb_dim': 160, 'conv_blocks': 2, 'channels_start': 160, 'channel_growth': 'x1.5', 'kernel_sizes': '3-5-7', 'dropout': 0.25, 'weight_decay': 0.0001, 'label_smoothing': 0.03, 'learning_rate': 0.0008, 'batch_size': 128, 'epochs': 8, 'loss_fn': 'bce_logits'}\n"
     ]
    },
    {
     "name": "stderr",
     "output_type": "stream",
     "text": [
      "                                                          \r"
     ]
    },
    {
     "name": "stdout",
     "output_type": "stream",
     "text": [
      "[SCRATCH] Epoch 1/8 AUC=0.68495 ACC=0.4901 (best 0.68495, patience 0/3)\n"
     ]
    },
    {
     "name": "stderr",
     "output_type": "stream",
     "text": [
      "                                                          \r"
     ]
    },
    {
     "name": "stdout",
     "output_type": "stream",
     "text": [
      "[SCRATCH] Epoch 2/8 AUC=0.77100 ACC=0.6946 (best 0.77100, patience 0/3)\n"
     ]
    },
    {
     "name": "stderr",
     "output_type": "stream",
     "text": [
      "                                                          \r"
     ]
    },
    {
     "name": "stdout",
     "output_type": "stream",
     "text": [
      "[SCRATCH] Epoch 3/8 AUC=0.78396 ACC=0.6970 (best 0.78396, patience 0/3)\n"
     ]
    },
    {
     "name": "stderr",
     "output_type": "stream",
     "text": [
      "                                                          \r"
     ]
    },
    {
     "name": "stdout",
     "output_type": "stream",
     "text": [
      "[SCRATCH] Epoch 4/8 AUC=0.77704 ACC=0.7020 (best 0.78396, patience 1/3)\n"
     ]
    },
    {
     "name": "stderr",
     "output_type": "stream",
     "text": [
      "                                                          \r"
     ]
    },
    {
     "name": "stdout",
     "output_type": "stream",
     "text": [
      "[SCRATCH] Epoch 5/8 AUC=0.75864 ACC=0.6675 (best 0.78396, patience 2/3)\n"
     ]
    },
    {
     "name": "stderr",
     "output_type": "stream",
     "text": [
      "                                                          \r"
     ]
    },
    {
     "name": "stdout",
     "output_type": "stream",
     "text": [
      "[SCRATCH] Epoch 6/8 AUC=0.75951 ACC=0.6749 (best 0.78396, patience 3/3)\n",
      "Early stopping: no improvement.\n",
      "\n",
      "=== Trial 13/200 | idx=39 ===\n",
      "{'seq_len': 224, 'emb_dim': 192, 'conv_blocks': 1, 'channels_start': 128, 'channel_growth': 'x1.5', 'kernel_sizes': '3-5-7', 'dropout': 0.25, 'weight_decay': 0.0002, 'label_smoothing': 0.0, 'learning_rate': 0.001, 'batch_size': 128, 'epochs': 8, 'loss_fn': 'bce_logits'}\n"
     ]
    },
    {
     "name": "stderr",
     "output_type": "stream",
     "text": [
      "                                                          \r"
     ]
    },
    {
     "name": "stdout",
     "output_type": "stream",
     "text": [
      "[SCRATCH] Epoch 1/8 AUC=0.76852 ACC=0.6207 (best 0.76852, patience 0/3)\n"
     ]
    },
    {
     "name": "stderr",
     "output_type": "stream",
     "text": [
      "                                                          \r"
     ]
    },
    {
     "name": "stdout",
     "output_type": "stream",
     "text": [
      "[SCRATCH] Epoch 2/8 AUC=0.79150 ACC=0.6921 (best 0.79150, patience 0/3)\n"
     ]
    },
    {
     "name": "stderr",
     "output_type": "stream",
     "text": [
      "                                                          \r"
     ]
    },
    {
     "name": "stdout",
     "output_type": "stream",
     "text": [
      "[SCRATCH] Epoch 3/8 AUC=0.79633 ACC=0.7365 (best 0.79633, patience 0/3)\n"
     ]
    },
    {
     "name": "stderr",
     "output_type": "stream",
     "text": [
      "                                                          \r"
     ]
    },
    {
     "name": "stdout",
     "output_type": "stream",
     "text": [
      "[SCRATCH] Epoch 4/8 AUC=0.80587 ACC=0.7192 (best 0.80587, patience 0/3)\n"
     ]
    },
    {
     "name": "stderr",
     "output_type": "stream",
     "text": [
      "                                                          \r"
     ]
    },
    {
     "name": "stdout",
     "output_type": "stream",
     "text": [
      "[SCRATCH] Epoch 5/8 AUC=0.79638 ACC=0.7069 (best 0.80587, patience 1/3)\n"
     ]
    },
    {
     "name": "stderr",
     "output_type": "stream",
     "text": [
      "                                                          \r"
     ]
    },
    {
     "name": "stdout",
     "output_type": "stream",
     "text": [
      "[SCRATCH] Epoch 6/8 AUC=0.79536 ACC=0.7143 (best 0.80587, patience 2/3)\n"
     ]
    },
    {
     "name": "stderr",
     "output_type": "stream",
     "text": [
      "                                                          \r"
     ]
    },
    {
     "name": "stdout",
     "output_type": "stream",
     "text": [
      "[SCRATCH] Epoch 7/8 AUC=0.78917 ACC=0.7069 (best 0.80587, patience 3/3)\n",
      "Early stopping: no improvement.\n",
      "\n",
      "=== Trial 14/200 | idx=40 ===\n",
      "{'seq_len': 256, 'emb_dim': 192, 'conv_blocks': 1, 'channels_start': 128, 'channel_growth': 'x1.5', 'kernel_sizes': '3-5-7', 'dropout': 0.25, 'weight_decay': 0.0001, 'label_smoothing': 0.03, 'learning_rate': 0.001, 'batch_size': 128, 'epochs': 8, 'loss_fn': 'bce_logits'}\n"
     ]
    },
    {
     "name": "stderr",
     "output_type": "stream",
     "text": [
      "                                                          \r"
     ]
    },
    {
     "name": "stdout",
     "output_type": "stream",
     "text": [
      "[SCRATCH] Epoch 1/8 AUC=0.76978 ACC=0.6232 (best 0.76978, patience 0/3)\n"
     ]
    },
    {
     "name": "stderr",
     "output_type": "stream",
     "text": [
      "                                                          \r"
     ]
    },
    {
     "name": "stdout",
     "output_type": "stream",
     "text": [
      "[SCRATCH] Epoch 2/8 AUC=0.78701 ACC=0.6946 (best 0.78701, patience 0/3)\n"
     ]
    },
    {
     "name": "stderr",
     "output_type": "stream",
     "text": [
      "                                                          \r"
     ]
    },
    {
     "name": "stdout",
     "output_type": "stream",
     "text": [
      "[SCRATCH] Epoch 3/8 AUC=0.79558 ACC=0.7266 (best 0.79558, patience 0/3)\n"
     ]
    },
    {
     "name": "stderr",
     "output_type": "stream",
     "text": [
      "                                                          \r"
     ]
    },
    {
     "name": "stdout",
     "output_type": "stream",
     "text": [
      "[SCRATCH] Epoch 4/8 AUC=0.80012 ACC=0.7118 (best 0.80012, patience 0/3)\n"
     ]
    },
    {
     "name": "stderr",
     "output_type": "stream",
     "text": [
      "                                                          \r"
     ]
    },
    {
     "name": "stdout",
     "output_type": "stream",
     "text": [
      "[SCRATCH] Epoch 5/8 AUC=0.79022 ACC=0.7241 (best 0.80012, patience 1/3)\n"
     ]
    },
    {
     "name": "stderr",
     "output_type": "stream",
     "text": [
      "                                                          \r"
     ]
    },
    {
     "name": "stdout",
     "output_type": "stream",
     "text": [
      "[SCRATCH] Epoch 6/8 AUC=0.78447 ACC=0.7192 (best 0.80012, patience 2/3)\n"
     ]
    },
    {
     "name": "stderr",
     "output_type": "stream",
     "text": [
      "                                                          \r"
     ]
    },
    {
     "name": "stdout",
     "output_type": "stream",
     "text": [
      "[SCRATCH] Epoch 7/8 AUC=0.79311 ACC=0.7217 (best 0.80012, patience 3/3)\n",
      "Early stopping: no improvement.\n",
      "\n",
      "=== Trial 15/200 | idx=41 ===\n",
      "{'seq_len': 224, 'emb_dim': 192, 'conv_blocks': 1, 'channels_start': 128, 'channel_growth': 'x1.5', 'kernel_sizes': '3-5-7', 'dropout': 0.25, 'weight_decay': 0.0001, 'label_smoothing': 0.03, 'learning_rate': 0.001, 'batch_size': 128, 'epochs': 8, 'loss_fn': 'bce_logits'}\n"
     ]
    },
    {
     "name": "stderr",
     "output_type": "stream",
     "text": [
      "                                                          \r"
     ]
    },
    {
     "name": "stdout",
     "output_type": "stream",
     "text": [
      "[SCRATCH] Epoch 1/8 AUC=0.76765 ACC=0.6232 (best 0.76765, patience 0/3)\n"
     ]
    },
    {
     "name": "stderr",
     "output_type": "stream",
     "text": [
      "                                                          \r"
     ]
    },
    {
     "name": "stdout",
     "output_type": "stream",
     "text": [
      "[SCRATCH] Epoch 2/8 AUC=0.79189 ACC=0.7020 (best 0.79189, patience 0/3)\n"
     ]
    },
    {
     "name": "stderr",
     "output_type": "stream",
     "text": [
      "                                                          \r"
     ]
    },
    {
     "name": "stdout",
     "output_type": "stream",
     "text": [
      "[SCRATCH] Epoch 3/8 AUC=0.79328 ACC=0.7167 (best 0.79328, patience 0/3)\n"
     ]
    },
    {
     "name": "stderr",
     "output_type": "stream",
     "text": [
      "                                                          \r"
     ]
    },
    {
     "name": "stdout",
     "output_type": "stream",
     "text": [
      "[SCRATCH] Epoch 4/8 AUC=0.80199 ACC=0.7266 (best 0.80199, patience 0/3)\n"
     ]
    },
    {
     "name": "stderr",
     "output_type": "stream",
     "text": [
      "                                                          \r"
     ]
    },
    {
     "name": "stdout",
     "output_type": "stream",
     "text": [
      "[SCRATCH] Epoch 5/8 AUC=0.78925 ACC=0.7020 (best 0.80199, patience 1/3)\n"
     ]
    },
    {
     "name": "stderr",
     "output_type": "stream",
     "text": [
      "                                                          \r"
     ]
    },
    {
     "name": "stdout",
     "output_type": "stream",
     "text": [
      "[SCRATCH] Epoch 6/8 AUC=0.79602 ACC=0.7167 (best 0.80199, patience 2/3)\n"
     ]
    },
    {
     "name": "stderr",
     "output_type": "stream",
     "text": [
      "                                                          \r"
     ]
    },
    {
     "name": "stdout",
     "output_type": "stream",
     "text": [
      "[SCRATCH] Epoch 7/8 AUC=0.79046 ACC=0.7094 (best 0.80199, patience 3/3)\n",
      "Early stopping: no improvement.\n",
      "\n",
      "=== Trial 16/200 | idx=42 ===\n",
      "{'seq_len': 200, 'emb_dim': 160, 'conv_blocks': 1, 'channels_start': 160, 'channel_growth': 'x1.5', 'kernel_sizes': '3-5-7', 'dropout': 0.2, 'weight_decay': 0.0002, 'label_smoothing': 0.03, 'learning_rate': 0.001, 'batch_size': 64, 'epochs': 8, 'loss_fn': 'bce_logits'}\n"
     ]
    },
    {
     "name": "stderr",
     "output_type": "stream",
     "text": [
      "                                                          \r"
     ]
    },
    {
     "name": "stdout",
     "output_type": "stream",
     "text": [
      "[SCRATCH] Epoch 1/8 AUC=0.78391 ACC=0.6478 (best 0.78391, patience 0/3)\n"
     ]
    },
    {
     "name": "stderr",
     "output_type": "stream",
     "text": [
      "                                                          \r"
     ]
    },
    {
     "name": "stdout",
     "output_type": "stream",
     "text": [
      "[SCRATCH] Epoch 2/8 AUC=0.79519 ACC=0.7143 (best 0.79519, patience 0/3)\n"
     ]
    },
    {
     "name": "stderr",
     "output_type": "stream",
     "text": [
      "                                                          \r"
     ]
    },
    {
     "name": "stdout",
     "output_type": "stream",
     "text": [
      "[SCRATCH] Epoch 3/8 AUC=0.78947 ACC=0.7044 (best 0.79519, patience 1/3)\n"
     ]
    },
    {
     "name": "stderr",
     "output_type": "stream",
     "text": [
      "                                                          \r"
     ]
    },
    {
     "name": "stdout",
     "output_type": "stream",
     "text": [
      "[SCRATCH] Epoch 4/8 AUC=0.79667 ACC=0.7217 (best 0.79667, patience 0/3)\n"
     ]
    },
    {
     "name": "stderr",
     "output_type": "stream",
     "text": [
      "                                                          \r"
     ]
    },
    {
     "name": "stdout",
     "output_type": "stream",
     "text": [
      "[SCRATCH] Epoch 5/8 AUC=0.79354 ACC=0.7044 (best 0.79667, patience 1/3)\n"
     ]
    },
    {
     "name": "stderr",
     "output_type": "stream",
     "text": [
      "                                                          \r"
     ]
    },
    {
     "name": "stdout",
     "output_type": "stream",
     "text": [
      "[SCRATCH] Epoch 6/8 AUC=0.78107 ACC=0.6995 (best 0.79667, patience 2/3)\n"
     ]
    },
    {
     "name": "stderr",
     "output_type": "stream",
     "text": [
      "                                                          \r"
     ]
    },
    {
     "name": "stdout",
     "output_type": "stream",
     "text": [
      "[SCRATCH] Epoch 7/8 AUC=0.78376 ACC=0.7069 (best 0.79667, patience 3/3)\n",
      "Early stopping: no improvement.\n",
      "\n",
      "=== Trial 17/200 | idx=43 ===\n",
      "{'seq_len': 256, 'emb_dim': 160, 'conv_blocks': 1, 'channels_start': 160, 'channel_growth': 'x1.5', 'kernel_sizes': '3-5-7', 'dropout': 0.2, 'weight_decay': 0.0001, 'label_smoothing': 0.0, 'learning_rate': 0.001, 'batch_size': 128, 'epochs': 8, 'loss_fn': 'bce_logits'}\n"
     ]
    },
    {
     "name": "stderr",
     "output_type": "stream",
     "text": [
      "                                                          \r"
     ]
    },
    {
     "name": "stdout",
     "output_type": "stream",
     "text": [
      "[SCRATCH] Epoch 1/8 AUC=0.76891 ACC=0.5394 (best 0.76891, patience 0/3)\n"
     ]
    },
    {
     "name": "stderr",
     "output_type": "stream",
     "text": [
      "                                                          \r"
     ]
    },
    {
     "name": "stdout",
     "output_type": "stream",
     "text": [
      "[SCRATCH] Epoch 2/8 AUC=0.78660 ACC=0.6576 (best 0.78660, patience 0/3)\n"
     ]
    },
    {
     "name": "stderr",
     "output_type": "stream",
     "text": [
      "                                                          \r"
     ]
    },
    {
     "name": "stdout",
     "output_type": "stream",
     "text": [
      "[SCRATCH] Epoch 3/8 AUC=0.78510 ACC=0.6872 (best 0.78660, patience 1/3)\n"
     ]
    },
    {
     "name": "stderr",
     "output_type": "stream",
     "text": [
      "                                                          \r"
     ]
    },
    {
     "name": "stdout",
     "output_type": "stream",
     "text": [
      "[SCRATCH] Epoch 4/8 AUC=0.79655 ACC=0.7094 (best 0.79655, patience 0/3)\n"
     ]
    },
    {
     "name": "stderr",
     "output_type": "stream",
     "text": [
      "                                                          \r"
     ]
    },
    {
     "name": "stdout",
     "output_type": "stream",
     "text": [
      "[SCRATCH] Epoch 5/8 AUC=0.79274 ACC=0.7044 (best 0.79655, patience 1/3)\n"
     ]
    },
    {
     "name": "stderr",
     "output_type": "stream",
     "text": [
      "                                                          \r"
     ]
    },
    {
     "name": "stdout",
     "output_type": "stream",
     "text": [
      "[SCRATCH] Epoch 6/8 AUC=0.78762 ACC=0.6921 (best 0.79655, patience 2/3)\n"
     ]
    },
    {
     "name": "stderr",
     "output_type": "stream",
     "text": [
      "                                                          \r"
     ]
    },
    {
     "name": "stdout",
     "output_type": "stream",
     "text": [
      "[SCRATCH] Epoch 7/8 AUC=0.79092 ACC=0.6946 (best 0.79655, patience 3/3)\n",
      "Early stopping: no improvement.\n",
      "\n",
      "=== Trial 18/200 | idx=44 ===\n",
      "{'seq_len': 256, 'emb_dim': 128, 'conv_blocks': 2, 'channels_start': 160, 'channel_growth': 'x1.5', 'kernel_sizes': '3-5-7', 'dropout': 0.25, 'weight_decay': 0.0002, 'label_smoothing': 0.0, 'learning_rate': 0.0008, 'batch_size': 64, 'epochs': 8, 'loss_fn': 'bce_logits'}\n"
     ]
    },
    {
     "name": "stderr",
     "output_type": "stream",
     "text": [
      "                                                          \r"
     ]
    },
    {
     "name": "stdout",
     "output_type": "stream",
     "text": [
      "[SCRATCH] Epoch 1/8 AUC=0.77811 ACC=0.5714 (best 0.77811, patience 0/3)\n"
     ]
    },
    {
     "name": "stderr",
     "output_type": "stream",
     "text": [
      "                                                          \r"
     ]
    },
    {
     "name": "stdout",
     "output_type": "stream",
     "text": [
      "[SCRATCH] Epoch 2/8 AUC=0.78100 ACC=0.7020 (best 0.78100, patience 0/3)\n"
     ]
    },
    {
     "name": "stderr",
     "output_type": "stream",
     "text": [
      "                                                          \r"
     ]
    },
    {
     "name": "stdout",
     "output_type": "stream",
     "text": [
      "[SCRATCH] Epoch 3/8 AUC=0.77859 ACC=0.7094 (best 0.78100, patience 1/3)\n"
     ]
    },
    {
     "name": "stderr",
     "output_type": "stream",
     "text": [
      "                                                          \r"
     ]
    },
    {
     "name": "stdout",
     "output_type": "stream",
     "text": [
      "[SCRATCH] Epoch 4/8 AUC=0.77333 ACC=0.7020 (best 0.78100, patience 2/3)\n"
     ]
    },
    {
     "name": "stderr",
     "output_type": "stream",
     "text": [
      "                                                          \r"
     ]
    },
    {
     "name": "stdout",
     "output_type": "stream",
     "text": [
      "[SCRATCH] Epoch 5/8 AUC=0.75985 ACC=0.6478 (best 0.78100, patience 3/3)\n",
      "Early stopping: no improvement.\n",
      "\n",
      "=== Trial 19/200 | idx=45 ===\n",
      "{'seq_len': 200, 'emb_dim': 160, 'conv_blocks': 2, 'channels_start': 128, 'channel_growth': 'x1.5', 'kernel_sizes': '3-5-7', 'dropout': 0.2, 'weight_decay': 0.0002, 'label_smoothing': 0.03, 'learning_rate': 0.001, 'batch_size': 64, 'epochs': 8, 'loss_fn': 'bce_logits'}\n"
     ]
    },
    {
     "name": "stderr",
     "output_type": "stream",
     "text": [
      "                                                          \r"
     ]
    },
    {
     "name": "stdout",
     "output_type": "stream",
     "text": [
      "[SCRATCH] Epoch 1/8 AUC=0.75104 ACC=0.6823 (best 0.75104, patience 0/3)\n"
     ]
    },
    {
     "name": "stderr",
     "output_type": "stream",
     "text": [
      "                                                          \r"
     ]
    },
    {
     "name": "stdout",
     "output_type": "stream",
     "text": [
      "[SCRATCH] Epoch 2/8 AUC=0.74345 ACC=0.6650 (best 0.75104, patience 1/3)\n"
     ]
    },
    {
     "name": "stderr",
     "output_type": "stream",
     "text": [
      "                                                          \r"
     ]
    },
    {
     "name": "stdout",
     "output_type": "stream",
     "text": [
      "[SCRATCH] Epoch 3/8 AUC=0.76954 ACC=0.6946 (best 0.76954, patience 0/3)\n"
     ]
    },
    {
     "name": "stderr",
     "output_type": "stream",
     "text": [
      "                                                          \r"
     ]
    },
    {
     "name": "stdout",
     "output_type": "stream",
     "text": [
      "[SCRATCH] Epoch 4/8 AUC=0.76325 ACC=0.6749 (best 0.76954, patience 1/3)\n"
     ]
    },
    {
     "name": "stderr",
     "output_type": "stream",
     "text": [
      "                                                          \r"
     ]
    },
    {
     "name": "stdout",
     "output_type": "stream",
     "text": [
      "[SCRATCH] Epoch 5/8 AUC=0.75694 ACC=0.6429 (best 0.76954, patience 2/3)\n"
     ]
    },
    {
     "name": "stderr",
     "output_type": "stream",
     "text": [
      "                                                          \r"
     ]
    },
    {
     "name": "stdout",
     "output_type": "stream",
     "text": [
      "[SCRATCH] Epoch 6/8 AUC=0.76398 ACC=0.6798 (best 0.76954, patience 3/3)\n",
      "Early stopping: no improvement.\n",
      "\n",
      "=== Trial 20/200 | idx=46 ===\n",
      "{'seq_len': 256, 'emb_dim': 128, 'conv_blocks': 2, 'channels_start': 128, 'channel_growth': 'x1.5', 'kernel_sizes': '3-5-7', 'dropout': 0.25, 'weight_decay': 0.0001, 'label_smoothing': 0.03, 'learning_rate': 0.0008, 'batch_size': 128, 'epochs': 8, 'loss_fn': 'bce_logits'}\n"
     ]
    },
    {
     "name": "stderr",
     "output_type": "stream",
     "text": [
      "                                                          \r"
     ]
    },
    {
     "name": "stdout",
     "output_type": "stream",
     "text": [
      "[SCRATCH] Epoch 1/8 AUC=0.74206 ACC=0.6429 (best 0.74206, patience 0/3)\n"
     ]
    },
    {
     "name": "stderr",
     "output_type": "stream",
     "text": [
      "                                                          \r"
     ]
    },
    {
     "name": "stdout",
     "output_type": "stream",
     "text": [
      "[SCRATCH] Epoch 2/8 AUC=0.78706 ACC=0.6823 (best 0.78706, patience 0/3)\n"
     ]
    },
    {
     "name": "stderr",
     "output_type": "stream",
     "text": [
      "                                                          \r"
     ]
    },
    {
     "name": "stdout",
     "output_type": "stream",
     "text": [
      "[SCRATCH] Epoch 3/8 AUC=0.74415 ACC=0.6700 (best 0.78706, patience 1/3)\n"
     ]
    },
    {
     "name": "stderr",
     "output_type": "stream",
     "text": [
      "                                                          \r"
     ]
    },
    {
     "name": "stdout",
     "output_type": "stream",
     "text": [
      "[SCRATCH] Epoch 4/8 AUC=0.75454 ACC=0.6355 (best 0.78706, patience 2/3)\n"
     ]
    },
    {
     "name": "stderr",
     "output_type": "stream",
     "text": [
      "                                                          \r"
     ]
    },
    {
     "name": "stdout",
     "output_type": "stream",
     "text": [
      "[SCRATCH] Epoch 5/8 AUC=0.75197 ACC=0.6650 (best 0.78706, patience 3/3)\n",
      "Early stopping: no improvement.\n",
      "\n",
      "=== Trial 21/200 | idx=47 ===\n",
      "{'seq_len': 200, 'emb_dim': 192, 'conv_blocks': 1, 'channels_start': 128, 'channel_growth': 'x1.5', 'kernel_sizes': '3-5-7', 'dropout': 0.2, 'weight_decay': 0.0002, 'label_smoothing': 0.03, 'learning_rate': 0.0008, 'batch_size': 64, 'epochs': 8, 'loss_fn': 'bce_logits'}\n"
     ]
    },
    {
     "name": "stderr",
     "output_type": "stream",
     "text": [
      "                                                          \r"
     ]
    },
    {
     "name": "stdout",
     "output_type": "stream",
     "text": [
      "[SCRATCH] Epoch 1/8 AUC=0.74971 ACC=0.6773 (best 0.74971, patience 0/3)\n"
     ]
    },
    {
     "name": "stderr",
     "output_type": "stream",
     "text": [
      "                                                          \r"
     ]
    },
    {
     "name": "stdout",
     "output_type": "stream",
     "text": [
      "[SCRATCH] Epoch 2/8 AUC=0.79925 ACC=0.6970 (best 0.79925, patience 0/3)\n"
     ]
    },
    {
     "name": "stderr",
     "output_type": "stream",
     "text": [
      "                                                          \r"
     ]
    },
    {
     "name": "stdout",
     "output_type": "stream",
     "text": [
      "[SCRATCH] Epoch 3/8 AUC=0.81485 ACC=0.7340 (best 0.81485, patience 0/3)\n"
     ]
    },
    {
     "name": "stderr",
     "output_type": "stream",
     "text": [
      "                                                          \r"
     ]
    },
    {
     "name": "stdout",
     "output_type": "stream",
     "text": [
      "[SCRATCH] Epoch 4/8 AUC=0.79595 ACC=0.7118 (best 0.81485, patience 1/3)\n"
     ]
    },
    {
     "name": "stderr",
     "output_type": "stream",
     "text": [
      "                                                          \r"
     ]
    },
    {
     "name": "stdout",
     "output_type": "stream",
     "text": [
      "[SCRATCH] Epoch 5/8 AUC=0.79973 ACC=0.7094 (best 0.81485, patience 2/3)\n"
     ]
    },
    {
     "name": "stderr",
     "output_type": "stream",
     "text": [
      "                                                          \r"
     ]
    },
    {
     "name": "stdout",
     "output_type": "stream",
     "text": [
      "[SCRATCH] Epoch 6/8 AUC=0.78507 ACC=0.6995 (best 0.81485, patience 3/3)\n",
      "Early stopping: no improvement.\n",
      "\n",
      "=== Trial 22/200 | idx=48 ===\n",
      "{'seq_len': 224, 'emb_dim': 128, 'conv_blocks': 1, 'channels_start': 160, 'channel_growth': 'x1.5', 'kernel_sizes': '3-5-7', 'dropout': 0.2, 'weight_decay': 0.0001, 'label_smoothing': 0.0, 'learning_rate': 0.001, 'batch_size': 128, 'epochs': 8, 'loss_fn': 'bce_logits'}\n"
     ]
    },
    {
     "name": "stderr",
     "output_type": "stream",
     "text": [
      "                                                          \r"
     ]
    },
    {
     "name": "stdout",
     "output_type": "stream",
     "text": [
      "[SCRATCH] Epoch 1/8 AUC=0.73816 ACC=0.6626 (best 0.73816, patience 0/3)\n"
     ]
    },
    {
     "name": "stderr",
     "output_type": "stream",
     "text": [
      "                                                          \r"
     ]
    },
    {
     "name": "stdout",
     "output_type": "stream",
     "text": [
      "[SCRATCH] Epoch 2/8 AUC=0.76760 ACC=0.7118 (best 0.76760, patience 0/3)\n"
     ]
    },
    {
     "name": "stderr",
     "output_type": "stream",
     "text": [
      "                                                          \r"
     ]
    },
    {
     "name": "stdout",
     "output_type": "stream",
     "text": [
      "[SCRATCH] Epoch 3/8 AUC=0.78282 ACC=0.7389 (best 0.78282, patience 0/3)\n"
     ]
    },
    {
     "name": "stderr",
     "output_type": "stream",
     "text": [
      "                                                          \r"
     ]
    },
    {
     "name": "stdout",
     "output_type": "stream",
     "text": [
      "[SCRATCH] Epoch 4/8 AUC=0.79522 ACC=0.7488 (best 0.79522, patience 0/3)\n"
     ]
    },
    {
     "name": "stderr",
     "output_type": "stream",
     "text": [
      "                                                          \r"
     ]
    },
    {
     "name": "stdout",
     "output_type": "stream",
     "text": [
      "[SCRATCH] Epoch 5/8 AUC=0.78774 ACC=0.7340 (best 0.79522, patience 1/3)\n"
     ]
    },
    {
     "name": "stderr",
     "output_type": "stream",
     "text": [
      "                                                          \r"
     ]
    },
    {
     "name": "stdout",
     "output_type": "stream",
     "text": [
      "[SCRATCH] Epoch 6/8 AUC=0.78971 ACC=0.7241 (best 0.79522, patience 2/3)\n"
     ]
    },
    {
     "name": "stderr",
     "output_type": "stream",
     "text": [
      "                                                          \r"
     ]
    },
    {
     "name": "stdout",
     "output_type": "stream",
     "text": [
      "[SCRATCH] Epoch 7/8 AUC=0.79512 ACC=0.6946 (best 0.79522, patience 3/3)\n",
      "Early stopping: no improvement.\n",
      "\n",
      "=== Trial 23/200 | idx=49 ===\n",
      "{'seq_len': 256, 'emb_dim': 128, 'conv_blocks': 2, 'channels_start': 128, 'channel_growth': 'x1.5', 'kernel_sizes': '3-5-7', 'dropout': 0.25, 'weight_decay': 0.0001, 'label_smoothing': 0.03, 'learning_rate': 0.0008, 'batch_size': 64, 'epochs': 8, 'loss_fn': 'bce_logits'}\n"
     ]
    },
    {
     "name": "stderr",
     "output_type": "stream",
     "text": [
      "                                                          \r"
     ]
    },
    {
     "name": "stdout",
     "output_type": "stream",
     "text": [
      "[SCRATCH] Epoch 1/8 AUC=0.76757 ACC=0.6970 (best 0.76757, patience 0/3)\n"
     ]
    },
    {
     "name": "stderr",
     "output_type": "stream",
     "text": [
      "                                                          \r"
     ]
    },
    {
     "name": "stdout",
     "output_type": "stream",
     "text": [
      "[SCRATCH] Epoch 2/8 AUC=0.80891 ACC=0.7241 (best 0.80891, patience 0/3)\n"
     ]
    },
    {
     "name": "stderr",
     "output_type": "stream",
     "text": [
      "                                                          \r"
     ]
    },
    {
     "name": "stdout",
     "output_type": "stream",
     "text": [
      "[SCRATCH] Epoch 3/8 AUC=0.76682 ACC=0.7192 (best 0.80891, patience 1/3)\n"
     ]
    },
    {
     "name": "stderr",
     "output_type": "stream",
     "text": [
      "                                                          \r"
     ]
    },
    {
     "name": "stdout",
     "output_type": "stream",
     "text": [
      "[SCRATCH] Epoch 4/8 AUC=0.76590 ACC=0.5640 (best 0.80891, patience 2/3)\n"
     ]
    },
    {
     "name": "stderr",
     "output_type": "stream",
     "text": [
      "                                                          \r"
     ]
    },
    {
     "name": "stdout",
     "output_type": "stream",
     "text": [
      "[SCRATCH] Epoch 5/8 AUC=0.78282 ACC=0.6823 (best 0.80891, patience 3/3)\n",
      "Early stopping: no improvement.\n",
      "\n",
      "=== Trial 24/200 | idx=50 ===\n",
      "{'seq_len': 224, 'emb_dim': 160, 'conv_blocks': 2, 'channels_start': 160, 'channel_growth': 'x1.5', 'kernel_sizes': '3-5-7', 'dropout': 0.2, 'weight_decay': 0.0002, 'label_smoothing': 0.0, 'learning_rate': 0.001, 'batch_size': 64, 'epochs': 8, 'loss_fn': 'bce_logits'}\n"
     ]
    },
    {
     "name": "stderr",
     "output_type": "stream",
     "text": [
      "                                                          \r"
     ]
    },
    {
     "name": "stdout",
     "output_type": "stream",
     "text": [
      "[SCRATCH] Epoch 1/8 AUC=0.78973 ACC=0.6872 (best 0.78973, patience 0/3)\n"
     ]
    },
    {
     "name": "stderr",
     "output_type": "stream",
     "text": [
      "                                                          \r"
     ]
    },
    {
     "name": "stdout",
     "output_type": "stream",
     "text": [
      "[SCRATCH] Epoch 2/8 AUC=0.78874 ACC=0.6626 (best 0.78973, patience 1/3)\n"
     ]
    },
    {
     "name": "stderr",
     "output_type": "stream",
     "text": [
      "                                                          \r"
     ]
    },
    {
     "name": "stdout",
     "output_type": "stream",
     "text": [
      "[SCRATCH] Epoch 3/8 AUC=0.78859 ACC=0.5936 (best 0.78973, patience 2/3)\n"
     ]
    },
    {
     "name": "stderr",
     "output_type": "stream",
     "text": [
      "                                                          \r"
     ]
    },
    {
     "name": "stdout",
     "output_type": "stream",
     "text": [
      "[SCRATCH] Epoch 4/8 AUC=0.75318 ACC=0.6897 (best 0.78973, patience 3/3)\n",
      "Early stopping: no improvement.\n",
      "\n",
      "=== Trial 25/200 | idx=51 ===\n",
      "{'seq_len': 200, 'emb_dim': 128, 'conv_blocks': 2, 'channels_start': 128, 'channel_growth': 'x1.5', 'kernel_sizes': '3-5-7', 'dropout': 0.25, 'weight_decay': 0.0001, 'label_smoothing': 0.03, 'learning_rate': 0.0012, 'batch_size': 64, 'epochs': 8, 'loss_fn': 'bce_logits'}\n"
     ]
    },
    {
     "name": "stderr",
     "output_type": "stream",
     "text": [
      "                                                          \r"
     ]
    },
    {
     "name": "stdout",
     "output_type": "stream",
     "text": [
      "[SCRATCH] Epoch 1/8 AUC=0.76595 ACC=0.6970 (best 0.76595, patience 0/3)\n"
     ]
    },
    {
     "name": "stderr",
     "output_type": "stream",
     "text": [
      "                                                          \r"
     ]
    },
    {
     "name": "stdout",
     "output_type": "stream",
     "text": [
      "[SCRATCH] Epoch 2/8 AUC=0.77799 ACC=0.7241 (best 0.77799, patience 0/3)\n"
     ]
    },
    {
     "name": "stderr",
     "output_type": "stream",
     "text": [
      "                                                          \r"
     ]
    },
    {
     "name": "stdout",
     "output_type": "stream",
     "text": [
      "[SCRATCH] Epoch 3/8 AUC=0.75813 ACC=0.6946 (best 0.77799, patience 1/3)\n"
     ]
    },
    {
     "name": "stderr",
     "output_type": "stream",
     "text": [
      "                                                          \r"
     ]
    },
    {
     "name": "stdout",
     "output_type": "stream",
     "text": [
      "[SCRATCH] Epoch 4/8 AUC=0.76194 ACC=0.5714 (best 0.77799, patience 2/3)\n"
     ]
    },
    {
     "name": "stderr",
     "output_type": "stream",
     "text": [
      "                                                          \r"
     ]
    },
    {
     "name": "stdout",
     "output_type": "stream",
     "text": [
      "[SCRATCH] Epoch 5/8 AUC=0.76323 ACC=0.6355 (best 0.77799, patience 3/3)\n",
      "Early stopping: no improvement.\n",
      "\n",
      "=== Trial 26/200 | idx=52 ===\n",
      "{'seq_len': 200, 'emb_dim': 128, 'conv_blocks': 2, 'channels_start': 128, 'channel_growth': 'x1.5', 'kernel_sizes': '3-5-7', 'dropout': 0.2, 'weight_decay': 0.0002, 'label_smoothing': 0.0, 'learning_rate': 0.0008, 'batch_size': 64, 'epochs': 8, 'loss_fn': 'bce_logits'}\n"
     ]
    },
    {
     "name": "stderr",
     "output_type": "stream",
     "text": [
      "                                                          \r"
     ]
    },
    {
     "name": "stdout",
     "output_type": "stream",
     "text": [
      "[SCRATCH] Epoch 1/8 AUC=0.74772 ACC=0.6847 (best 0.74772, patience 0/3)\n"
     ]
    },
    {
     "name": "stderr",
     "output_type": "stream",
     "text": [
      "                                                          \r"
     ]
    },
    {
     "name": "stdout",
     "output_type": "stream",
     "text": [
      "[SCRATCH] Epoch 2/8 AUC=0.78961 ACC=0.6921 (best 0.78961, patience 0/3)\n"
     ]
    },
    {
     "name": "stderr",
     "output_type": "stream",
     "text": [
      "                                                          \r"
     ]
    },
    {
     "name": "stdout",
     "output_type": "stream",
     "text": [
      "[SCRATCH] Epoch 3/8 AUC=0.75354 ACC=0.6798 (best 0.78961, patience 1/3)\n"
     ]
    },
    {
     "name": "stderr",
     "output_type": "stream",
     "text": [
      "                                                          \r"
     ]
    },
    {
     "name": "stdout",
     "output_type": "stream",
     "text": [
      "[SCRATCH] Epoch 4/8 AUC=0.76796 ACC=0.5640 (best 0.78961, patience 2/3)\n"
     ]
    },
    {
     "name": "stderr",
     "output_type": "stream",
     "text": [
      "                                                          \r"
     ]
    },
    {
     "name": "stdout",
     "output_type": "stream",
     "text": [
      "[SCRATCH] Epoch 5/8 AUC=0.76842 ACC=0.6700 (best 0.78961, patience 3/3)\n",
      "Early stopping: no improvement.\n",
      "\n",
      "=== Trial 27/200 | idx=53 ===\n",
      "{'seq_len': 200, 'emb_dim': 192, 'conv_blocks': 2, 'channels_start': 160, 'channel_growth': 'x1.5', 'kernel_sizes': '3-5-7', 'dropout': 0.2, 'weight_decay': 0.0001, 'label_smoothing': 0.0, 'learning_rate': 0.0012, 'batch_size': 64, 'epochs': 8, 'loss_fn': 'bce_logits'}\n"
     ]
    },
    {
     "name": "stderr",
     "output_type": "stream",
     "text": [
      "                                                          \r"
     ]
    },
    {
     "name": "stdout",
     "output_type": "stream",
     "text": [
      "[SCRATCH] Epoch 1/8 AUC=0.78167 ACC=0.6872 (best 0.78167, patience 0/3)\n"
     ]
    },
    {
     "name": "stderr",
     "output_type": "stream",
     "text": [
      "                                                          \r"
     ]
    },
    {
     "name": "stdout",
     "output_type": "stream",
     "text": [
      "[SCRATCH] Epoch 2/8 AUC=0.79150 ACC=0.6182 (best 0.79150, patience 0/3)\n"
     ]
    },
    {
     "name": "stderr",
     "output_type": "stream",
     "text": [
      "                                                          \r"
     ]
    },
    {
     "name": "stdout",
     "output_type": "stream",
     "text": [
      "[SCRATCH] Epoch 3/8 AUC=0.78978 ACC=0.7118 (best 0.79150, patience 1/3)\n"
     ]
    },
    {
     "name": "stderr",
     "output_type": "stream",
     "text": [
      "                                                          \r"
     ]
    },
    {
     "name": "stdout",
     "output_type": "stream",
     "text": [
      "[SCRATCH] Epoch 4/8 AUC=0.78578 ACC=0.7192 (best 0.79150, patience 2/3)\n"
     ]
    },
    {
     "name": "stderr",
     "output_type": "stream",
     "text": [
      "                                                          \r"
     ]
    },
    {
     "name": "stdout",
     "output_type": "stream",
     "text": [
      "[SCRATCH] Epoch 5/8 AUC=0.79070 ACC=0.7094 (best 0.79150, patience 3/3)\n",
      "Early stopping: no improvement.\n",
      "\n",
      "=== Trial 28/200 | idx=54 ===\n",
      "{'seq_len': 256, 'emb_dim': 192, 'conv_blocks': 1, 'channels_start': 128, 'channel_growth': 'x1.5', 'kernel_sizes': '3-5-7', 'dropout': 0.25, 'weight_decay': 0.0001, 'label_smoothing': 0.0, 'learning_rate': 0.001, 'batch_size': 64, 'epochs': 8, 'loss_fn': 'bce_logits'}\n"
     ]
    },
    {
     "name": "stderr",
     "output_type": "stream",
     "text": [
      "                                                          \r"
     ]
    },
    {
     "name": "stdout",
     "output_type": "stream",
     "text": [
      "[SCRATCH] Epoch 1/8 AUC=0.74932 ACC=0.6872 (best 0.74932, patience 0/3)\n"
     ]
    },
    {
     "name": "stderr",
     "output_type": "stream",
     "text": [
      "                                                          \r"
     ]
    },
    {
     "name": "stdout",
     "output_type": "stream",
     "text": [
      "[SCRATCH] Epoch 2/8 AUC=0.78971 ACC=0.7192 (best 0.78971, patience 0/3)\n"
     ]
    },
    {
     "name": "stderr",
     "output_type": "stream",
     "text": [
      "                                                          \r"
     ]
    },
    {
     "name": "stdout",
     "output_type": "stream",
     "text": [
      "[SCRATCH] Epoch 3/8 AUC=0.79862 ACC=0.7217 (best 0.79862, patience 0/3)\n"
     ]
    },
    {
     "name": "stderr",
     "output_type": "stream",
     "text": [
      "                                                          \r"
     ]
    },
    {
     "name": "stdout",
     "output_type": "stream",
     "text": [
      "[SCRATCH] Epoch 4/8 AUC=0.79915 ACC=0.7217 (best 0.79915, patience 0/3)\n"
     ]
    },
    {
     "name": "stderr",
     "output_type": "stream",
     "text": [
      "                                                          \r"
     ]
    },
    {
     "name": "stdout",
     "output_type": "stream",
     "text": [
      "[SCRATCH] Epoch 5/8 AUC=0.79563 ACC=0.7118 (best 0.79915, patience 1/3)\n"
     ]
    },
    {
     "name": "stderr",
     "output_type": "stream",
     "text": [
      "                                                          \r"
     ]
    },
    {
     "name": "stdout",
     "output_type": "stream",
     "text": [
      "[SCRATCH] Epoch 6/8 AUC=0.79716 ACC=0.6970 (best 0.79915, patience 2/3)\n"
     ]
    },
    {
     "name": "stderr",
     "output_type": "stream",
     "text": [
      "                                                          \r"
     ]
    },
    {
     "name": "stdout",
     "output_type": "stream",
     "text": [
      "[SCRATCH] Epoch 7/8 AUC=0.80245 ACC=0.7266 (best 0.80245, patience 0/3)\n"
     ]
    },
    {
     "name": "stderr",
     "output_type": "stream",
     "text": [
      "                                                          \r"
     ]
    },
    {
     "name": "stdout",
     "output_type": "stream",
     "text": [
      "[SCRATCH] Epoch 8/8 AUC=0.80126 ACC=0.7315 (best 0.80245, patience 1/3)\n",
      "\n",
      "=== Trial 29/200 | idx=55 ===\n",
      "{'seq_len': 224, 'emb_dim': 192, 'conv_blocks': 1, 'channels_start': 128, 'channel_growth': 'x1.5', 'kernel_sizes': '3-5-7', 'dropout': 0.25, 'weight_decay': 0.0002, 'label_smoothing': 0.0, 'learning_rate': 0.0008, 'batch_size': 128, 'epochs': 8, 'loss_fn': 'bce_logits'}\n"
     ]
    },
    {
     "name": "stderr",
     "output_type": "stream",
     "text": [
      "                                                          \r"
     ]
    },
    {
     "name": "stdout",
     "output_type": "stream",
     "text": [
      "[SCRATCH] Epoch 1/8 AUC=0.76374 ACC=0.6798 (best 0.76374, patience 0/3)\n"
     ]
    },
    {
     "name": "stderr",
     "output_type": "stream",
     "text": [
      "                                                          \r"
     ]
    },
    {
     "name": "stdout",
     "output_type": "stream",
     "text": [
      "[SCRATCH] Epoch 2/8 AUC=0.78998 ACC=0.6946 (best 0.78998, patience 0/3)\n"
     ]
    },
    {
     "name": "stderr",
     "output_type": "stream",
     "text": [
      "                                                          \r"
     ]
    },
    {
     "name": "stdout",
     "output_type": "stream",
     "text": [
      "[SCRATCH] Epoch 3/8 AUC=0.80228 ACC=0.7266 (best 0.80228, patience 0/3)\n"
     ]
    },
    {
     "name": "stderr",
     "output_type": "stream",
     "text": [
      "                                                          \r"
     ]
    },
    {
     "name": "stdout",
     "output_type": "stream",
     "text": [
      "[SCRATCH] Epoch 4/8 AUC=0.80852 ACC=0.7020 (best 0.80852, patience 0/3)\n"
     ]
    },
    {
     "name": "stderr",
     "output_type": "stream",
     "text": [
      "                                                          \r"
     ]
    },
    {
     "name": "stdout",
     "output_type": "stream",
     "text": [
      "[SCRATCH] Epoch 5/8 AUC=0.80689 ACC=0.7266 (best 0.80852, patience 1/3)\n"
     ]
    },
    {
     "name": "stderr",
     "output_type": "stream",
     "text": [
      "                                                          \r"
     ]
    },
    {
     "name": "stdout",
     "output_type": "stream",
     "text": [
      "[SCRATCH] Epoch 6/8 AUC=0.80774 ACC=0.7020 (best 0.80852, patience 2/3)\n"
     ]
    },
    {
     "name": "stderr",
     "output_type": "stream",
     "text": [
      "                                                          \r"
     ]
    },
    {
     "name": "stdout",
     "output_type": "stream",
     "text": [
      "[SCRATCH] Epoch 7/8 AUC=0.80624 ACC=0.7069 (best 0.80852, patience 3/3)\n",
      "Early stopping: no improvement.\n",
      "\n",
      "=== Trial 30/200 | idx=56 ===\n",
      "{'seq_len': 200, 'emb_dim': 160, 'conv_blocks': 2, 'channels_start': 160, 'channel_growth': 'x1.5', 'kernel_sizes': '3-5-7', 'dropout': 0.2, 'weight_decay': 0.0001, 'label_smoothing': 0.03, 'learning_rate': 0.001, 'batch_size': 128, 'epochs': 8, 'loss_fn': 'bce_logits'}\n"
     ]
    },
    {
     "name": "stderr",
     "output_type": "stream",
     "text": [
      "                                                          \r"
     ]
    },
    {
     "name": "stdout",
     "output_type": "stream",
     "text": [
      "[SCRATCH] Epoch 1/8 AUC=0.71699 ACC=0.4951 (best 0.71699, patience 0/3)\n"
     ]
    },
    {
     "name": "stderr",
     "output_type": "stream",
     "text": [
      "                                                          \r"
     ]
    },
    {
     "name": "stdout",
     "output_type": "stream",
     "text": [
      "[SCRATCH] Epoch 2/8 AUC=0.78002 ACC=0.7044 (best 0.78002, patience 0/3)\n"
     ]
    },
    {
     "name": "stderr",
     "output_type": "stream",
     "text": [
      "                                                          \r"
     ]
    },
    {
     "name": "stdout",
     "output_type": "stream",
     "text": [
      "[SCRATCH] Epoch 3/8 AUC=0.78641 ACC=0.6773 (best 0.78641, patience 0/3)\n"
     ]
    },
    {
     "name": "stderr",
     "output_type": "stream",
     "text": [
      "                                                          \r"
     ]
    },
    {
     "name": "stdout",
     "output_type": "stream",
     "text": [
      "[SCRATCH] Epoch 4/8 AUC=0.75886 ACC=0.6527 (best 0.78641, patience 1/3)\n"
     ]
    },
    {
     "name": "stderr",
     "output_type": "stream",
     "text": [
      "                                                          \r"
     ]
    },
    {
     "name": "stdout",
     "output_type": "stream",
     "text": [
      "[SCRATCH] Epoch 5/8 AUC=0.76311 ACC=0.6897 (best 0.78641, patience 2/3)\n"
     ]
    },
    {
     "name": "stderr",
     "output_type": "stream",
     "text": [
      "                                                          \r"
     ]
    },
    {
     "name": "stdout",
     "output_type": "stream",
     "text": [
      "[SCRATCH] Epoch 6/8 AUC=0.76364 ACC=0.6552 (best 0.78641, patience 3/3)\n",
      "Early stopping: no improvement.\n",
      "\n",
      "=== Trial 31/200 | idx=57 ===\n",
      "{'seq_len': 256, 'emb_dim': 192, 'conv_blocks': 2, 'channels_start': 128, 'channel_growth': 'x1.5', 'kernel_sizes': '3-5-7', 'dropout': 0.25, 'weight_decay': 0.0002, 'label_smoothing': 0.0, 'learning_rate': 0.001, 'batch_size': 128, 'epochs': 8, 'loss_fn': 'bce_logits'}\n"
     ]
    },
    {
     "name": "stderr",
     "output_type": "stream",
     "text": [
      "                                                          \r"
     ]
    },
    {
     "name": "stdout",
     "output_type": "stream",
     "text": [
      "[SCRATCH] Epoch 1/8 AUC=0.76311 ACC=0.5025 (best 0.76311, patience 0/3)\n"
     ]
    },
    {
     "name": "stderr",
     "output_type": "stream",
     "text": [
      "                                                          \r"
     ]
    },
    {
     "name": "stdout",
     "output_type": "stream",
     "text": [
      "[SCRATCH] Epoch 2/8 AUC=0.77617 ACC=0.6084 (best 0.77617, patience 0/3)\n"
     ]
    },
    {
     "name": "stderr",
     "output_type": "stream",
     "text": [
      "                                                          \r"
     ]
    },
    {
     "name": "stdout",
     "output_type": "stream",
     "text": [
      "[SCRATCH] Epoch 3/8 AUC=0.79704 ACC=0.7118 (best 0.79704, patience 0/3)\n"
     ]
    },
    {
     "name": "stderr",
     "output_type": "stream",
     "text": [
      "                                                          \r"
     ]
    },
    {
     "name": "stdout",
     "output_type": "stream",
     "text": [
      "[SCRATCH] Epoch 4/8 AUC=0.79500 ACC=0.7365 (best 0.79704, patience 1/3)\n"
     ]
    },
    {
     "name": "stderr",
     "output_type": "stream",
     "text": [
      "                                                          \r"
     ]
    },
    {
     "name": "stdout",
     "output_type": "stream",
     "text": [
      "[SCRATCH] Epoch 5/8 AUC=0.79898 ACC=0.7069 (best 0.79898, patience 0/3)\n"
     ]
    },
    {
     "name": "stderr",
     "output_type": "stream",
     "text": [
      "                                                          \r"
     ]
    },
    {
     "name": "stdout",
     "output_type": "stream",
     "text": [
      "[SCRATCH] Epoch 6/8 AUC=0.78282 ACC=0.6823 (best 0.79898, patience 1/3)\n"
     ]
    },
    {
     "name": "stderr",
     "output_type": "stream",
     "text": [
      "                                                          \r"
     ]
    },
    {
     "name": "stdout",
     "output_type": "stream",
     "text": [
      "[SCRATCH] Epoch 7/8 AUC=0.79379 ACC=0.6946 (best 0.79898, patience 2/3)\n"
     ]
    },
    {
     "name": "stderr",
     "output_type": "stream",
     "text": [
      "                                                          \r"
     ]
    },
    {
     "name": "stdout",
     "output_type": "stream",
     "text": [
      "[SCRATCH] Epoch 8/8 AUC=0.76614 ACC=0.7118 (best 0.79898, patience 3/3)\n",
      "Early stopping: no improvement.\n",
      "\n",
      "=== Trial 32/200 | idx=58 ===\n",
      "{'seq_len': 256, 'emb_dim': 192, 'conv_blocks': 2, 'channels_start': 160, 'channel_growth': 'x1.5', 'kernel_sizes': '3-5-7', 'dropout': 0.2, 'weight_decay': 0.0001, 'label_smoothing': 0.0, 'learning_rate': 0.0008, 'batch_size': 64, 'epochs': 8, 'loss_fn': 'bce_logits'}\n"
     ]
    },
    {
     "name": "stderr",
     "output_type": "stream",
     "text": [
      "                                                          \r"
     ]
    },
    {
     "name": "stdout",
     "output_type": "stream",
     "text": [
      "[SCRATCH] Epoch 1/8 AUC=0.76381 ACC=0.6330 (best 0.76381, patience 0/3)\n"
     ]
    },
    {
     "name": "stderr",
     "output_type": "stream",
     "text": [
      "                                                          \r"
     ]
    },
    {
     "name": "stdout",
     "output_type": "stream",
     "text": [
      "[SCRATCH] Epoch 2/8 AUC=0.79660 ACC=0.6552 (best 0.79660, patience 0/3)\n"
     ]
    },
    {
     "name": "stderr",
     "output_type": "stream",
     "text": [
      "                                                          \r"
     ]
    },
    {
     "name": "stdout",
     "output_type": "stream",
     "text": [
      "[SCRATCH] Epoch 3/8 AUC=0.80066 ACC=0.7094 (best 0.80066, patience 0/3)\n"
     ]
    },
    {
     "name": "stderr",
     "output_type": "stream",
     "text": [
      "                                                          \r"
     ]
    },
    {
     "name": "stdout",
     "output_type": "stream",
     "text": [
      "[SCRATCH] Epoch 4/8 AUC=0.79061 ACC=0.6847 (best 0.80066, patience 1/3)\n"
     ]
    },
    {
     "name": "stderr",
     "output_type": "stream",
     "text": [
      "                                                          \r"
     ]
    },
    {
     "name": "stdout",
     "output_type": "stream",
     "text": [
      "[SCRATCH] Epoch 5/8 AUC=0.79556 ACC=0.6823 (best 0.80066, patience 2/3)\n"
     ]
    },
    {
     "name": "stderr",
     "output_type": "stream",
     "text": [
      "                                                          \r"
     ]
    },
    {
     "name": "stdout",
     "output_type": "stream",
     "text": [
      "[SCRATCH] Epoch 6/8 AUC=0.76648 ACC=0.6749 (best 0.80066, patience 3/3)\n",
      "Early stopping: no improvement.\n",
      "\n",
      "=== Trial 33/200 | idx=59 ===\n",
      "{'seq_len': 200, 'emb_dim': 128, 'conv_blocks': 1, 'channels_start': 128, 'channel_growth': 'x1.5', 'kernel_sizes': '3-5-7', 'dropout': 0.2, 'weight_decay': 0.0002, 'label_smoothing': 0.0, 'learning_rate': 0.001, 'batch_size': 64, 'epochs': 8, 'loss_fn': 'bce_logits'}\n"
     ]
    },
    {
     "name": "stderr",
     "output_type": "stream",
     "text": [
      "                                                          \r"
     ]
    },
    {
     "name": "stdout",
     "output_type": "stream",
     "text": [
      "[SCRATCH] Epoch 1/8 AUC=0.74677 ACC=0.6773 (best 0.74677, patience 0/3)\n"
     ]
    },
    {
     "name": "stderr",
     "output_type": "stream",
     "text": [
      "                                                          \r"
     ]
    },
    {
     "name": "stdout",
     "output_type": "stream",
     "text": [
      "[SCRATCH] Epoch 2/8 AUC=0.76930 ACC=0.7094 (best 0.76930, patience 0/3)\n"
     ]
    },
    {
     "name": "stderr",
     "output_type": "stream",
     "text": [
      "                                                          \r"
     ]
    },
    {
     "name": "stdout",
     "output_type": "stream",
     "text": [
      "[SCRATCH] Epoch 3/8 AUC=0.77408 ACC=0.7069 (best 0.77408, patience 0/3)\n"
     ]
    },
    {
     "name": "stderr",
     "output_type": "stream",
     "text": [
      "                                                          \r"
     ]
    },
    {
     "name": "stdout",
     "output_type": "stream",
     "text": [
      "[SCRATCH] Epoch 4/8 AUC=0.77796 ACC=0.6872 (best 0.77796, patience 0/3)\n"
     ]
    },
    {
     "name": "stderr",
     "output_type": "stream",
     "text": [
      "                                                          \r"
     ]
    },
    {
     "name": "stdout",
     "output_type": "stream",
     "text": [
      "[SCRATCH] Epoch 5/8 AUC=0.78330 ACC=0.6921 (best 0.78330, patience 0/3)\n"
     ]
    },
    {
     "name": "stderr",
     "output_type": "stream",
     "text": [
      "                                                          \r"
     ]
    },
    {
     "name": "stdout",
     "output_type": "stream",
     "text": [
      "[SCRATCH] Epoch 6/8 AUC=0.76830 ACC=0.6798 (best 0.78330, patience 1/3)\n"
     ]
    },
    {
     "name": "stderr",
     "output_type": "stream",
     "text": [
      "                                                          \r"
     ]
    },
    {
     "name": "stdout",
     "output_type": "stream",
     "text": [
      "[SCRATCH] Epoch 7/8 AUC=0.77667 ACC=0.6970 (best 0.78330, patience 2/3)\n"
     ]
    },
    {
     "name": "stderr",
     "output_type": "stream",
     "text": [
      "                                                          \r"
     ]
    },
    {
     "name": "stdout",
     "output_type": "stream",
     "text": [
      "[SCRATCH] Epoch 8/8 AUC=0.76214 ACC=0.6921 (best 0.78330, patience 3/3)\n",
      "Early stopping: no improvement.\n",
      "\n",
      "=== Trial 34/200 | idx=60 ===\n",
      "{'seq_len': 200, 'emb_dim': 128, 'conv_blocks': 1, 'channels_start': 160, 'channel_growth': 'x1.5', 'kernel_sizes': '3-5-7', 'dropout': 0.2, 'weight_decay': 0.0002, 'label_smoothing': 0.03, 'learning_rate': 0.0012, 'batch_size': 128, 'epochs': 8, 'loss_fn': 'bce_logits'}\n"
     ]
    },
    {
     "name": "stderr",
     "output_type": "stream",
     "text": [
      "                                                          \r"
     ]
    },
    {
     "name": "stdout",
     "output_type": "stream",
     "text": [
      "[SCRATCH] Epoch 1/8 AUC=0.75296 ACC=0.6650 (best 0.75296, patience 0/3)\n"
     ]
    },
    {
     "name": "stderr",
     "output_type": "stream",
     "text": [
      "                                                          \r"
     ]
    },
    {
     "name": "stdout",
     "output_type": "stream",
     "text": [
      "[SCRATCH] Epoch 2/8 AUC=0.76760 ACC=0.7118 (best 0.76760, patience 0/3)\n"
     ]
    },
    {
     "name": "stderr",
     "output_type": "stream",
     "text": [
      "                                                          \r"
     ]
    },
    {
     "name": "stdout",
     "output_type": "stream",
     "text": [
      "[SCRATCH] Epoch 3/8 AUC=0.78757 ACC=0.7438 (best 0.78757, patience 0/3)\n"
     ]
    },
    {
     "name": "stderr",
     "output_type": "stream",
     "text": [
      "                                                          \r"
     ]
    },
    {
     "name": "stdout",
     "output_type": "stream",
     "text": [
      "[SCRATCH] Epoch 4/8 AUC=0.79667 ACC=0.7562 (best 0.79667, patience 0/3)\n"
     ]
    },
    {
     "name": "stderr",
     "output_type": "stream",
     "text": [
      "                                                          \r"
     ]
    },
    {
     "name": "stdout",
     "output_type": "stream",
     "text": [
      "[SCRATCH] Epoch 5/8 AUC=0.78818 ACC=0.7291 (best 0.79667, patience 1/3)\n"
     ]
    },
    {
     "name": "stderr",
     "output_type": "stream",
     "text": [
      "                                                          \r"
     ]
    },
    {
     "name": "stdout",
     "output_type": "stream",
     "text": [
      "[SCRATCH] Epoch 6/8 AUC=0.78942 ACC=0.7069 (best 0.79667, patience 2/3)\n"
     ]
    },
    {
     "name": "stderr",
     "output_type": "stream",
     "text": [
      "                                                          \r"
     ]
    },
    {
     "name": "stdout",
     "output_type": "stream",
     "text": [
      "[SCRATCH] Epoch 7/8 AUC=0.79051 ACC=0.6872 (best 0.79667, patience 3/3)\n",
      "Early stopping: no improvement.\n",
      "\n",
      "=== Trial 35/200 | idx=61 ===\n",
      "{'seq_len': 256, 'emb_dim': 128, 'conv_blocks': 2, 'channels_start': 128, 'channel_growth': 'x1.5', 'kernel_sizes': '3-5-7', 'dropout': 0.25, 'weight_decay': 0.0001, 'label_smoothing': 0.03, 'learning_rate': 0.001, 'batch_size': 128, 'epochs': 8, 'loss_fn': 'bce_logits'}\n"
     ]
    },
    {
     "name": "stderr",
     "output_type": "stream",
     "text": [
      "                                                          \r"
     ]
    },
    {
     "name": "stdout",
     "output_type": "stream",
     "text": [
      "[SCRATCH] Epoch 1/8 AUC=0.76114 ACC=0.5591 (best 0.76114, patience 0/3)\n"
     ]
    },
    {
     "name": "stderr",
     "output_type": "stream",
     "text": [
      "                                                          \r"
     ]
    },
    {
     "name": "stdout",
     "output_type": "stream",
     "text": [
      "[SCRATCH] Epoch 2/8 AUC=0.77813 ACC=0.7143 (best 0.77813, patience 0/3)\n"
     ]
    },
    {
     "name": "stderr",
     "output_type": "stream",
     "text": [
      "                                                          \r"
     ]
    },
    {
     "name": "stdout",
     "output_type": "stream",
     "text": [
      "[SCRATCH] Epoch 3/8 AUC=0.75420 ACC=0.6872 (best 0.77813, patience 1/3)\n"
     ]
    },
    {
     "name": "stderr",
     "output_type": "stream",
     "text": [
      "                                                          \r"
     ]
    },
    {
     "name": "stdout",
     "output_type": "stream",
     "text": [
      "[SCRATCH] Epoch 4/8 AUC=0.75117 ACC=0.5961 (best 0.77813, patience 2/3)\n"
     ]
    },
    {
     "name": "stderr",
     "output_type": "stream",
     "text": [
      "                                                          \r"
     ]
    },
    {
     "name": "stdout",
     "output_type": "stream",
     "text": [
      "[SCRATCH] Epoch 5/8 AUC=0.77556 ACC=0.7020 (best 0.77813, patience 3/3)\n",
      "Early stopping: no improvement.\n",
      "\n",
      "=== Trial 36/200 | idx=62 ===\n",
      "{'seq_len': 200, 'emb_dim': 160, 'conv_blocks': 2, 'channels_start': 128, 'channel_growth': 'x1.5', 'kernel_sizes': '3-5-7', 'dropout': 0.25, 'weight_decay': 0.0001, 'label_smoothing': 0.03, 'learning_rate': 0.0008, 'batch_size': 64, 'epochs': 8, 'loss_fn': 'bce_logits'}\n"
     ]
    },
    {
     "name": "stderr",
     "output_type": "stream",
     "text": [
      "                                                          \r"
     ]
    },
    {
     "name": "stdout",
     "output_type": "stream",
     "text": [
      "[SCRATCH] Epoch 1/8 AUC=0.74714 ACC=0.6626 (best 0.74714, patience 0/3)\n"
     ]
    },
    {
     "name": "stderr",
     "output_type": "stream",
     "text": [
      "                                                          \r"
     ]
    },
    {
     "name": "stdout",
     "output_type": "stream",
     "text": [
      "[SCRATCH] Epoch 2/8 AUC=0.76641 ACC=0.6970 (best 0.76641, patience 0/3)\n"
     ]
    },
    {
     "name": "stderr",
     "output_type": "stream",
     "text": [
      "                                                          \r"
     ]
    },
    {
     "name": "stdout",
     "output_type": "stream",
     "text": [
      "[SCRATCH] Epoch 3/8 AUC=0.76811 ACC=0.6872 (best 0.76811, patience 0/3)\n"
     ]
    },
    {
     "name": "stderr",
     "output_type": "stream",
     "text": [
      "                                                          \r"
     ]
    },
    {
     "name": "stdout",
     "output_type": "stream",
     "text": [
      "[SCRATCH] Epoch 4/8 AUC=0.76845 ACC=0.6897 (best 0.76845, patience 0/3)\n"
     ]
    },
    {
     "name": "stderr",
     "output_type": "stream",
     "text": [
      "                                                          \r"
     ]
    },
    {
     "name": "stdout",
     "output_type": "stream",
     "text": [
      "[SCRATCH] Epoch 5/8 AUC=0.75002 ACC=0.6773 (best 0.76845, patience 1/3)\n"
     ]
    },
    {
     "name": "stderr",
     "output_type": "stream",
     "text": [
      "                                                          \r"
     ]
    },
    {
     "name": "stdout",
     "output_type": "stream",
     "text": [
      "[SCRATCH] Epoch 6/8 AUC=0.76981 ACC=0.7044 (best 0.76981, patience 0/3)\n"
     ]
    },
    {
     "name": "stderr",
     "output_type": "stream",
     "text": [
      "                                                          \r"
     ]
    },
    {
     "name": "stdout",
     "output_type": "stream",
     "text": [
      "[SCRATCH] Epoch 7/8 AUC=0.77240 ACC=0.7069 (best 0.77240, patience 0/3)\n"
     ]
    },
    {
     "name": "stderr",
     "output_type": "stream",
     "text": [
      "                                                          \r"
     ]
    },
    {
     "name": "stdout",
     "output_type": "stream",
     "text": [
      "[SCRATCH] Epoch 8/8 AUC=0.78226 ACC=0.7069 (best 0.78226, patience 0/3)\n",
      "\n",
      "=== Trial 37/200 | idx=63 ===\n",
      "{'seq_len': 256, 'emb_dim': 192, 'conv_blocks': 2, 'channels_start': 160, 'channel_growth': 'x1.5', 'kernel_sizes': '3-5-7', 'dropout': 0.25, 'weight_decay': 0.0001, 'label_smoothing': 0.03, 'learning_rate': 0.0012, 'batch_size': 128, 'epochs': 8, 'loss_fn': 'bce_logits'}\n"
     ]
    },
    {
     "name": "stderr",
     "output_type": "stream",
     "text": [
      "                                                          \r"
     ]
    },
    {
     "name": "stdout",
     "output_type": "stream",
     "text": [
      "[SCRATCH] Epoch 1/8 AUC=0.76913 ACC=0.4975 (best 0.76913, patience 0/3)\n"
     ]
    },
    {
     "name": "stderr",
     "output_type": "stream",
     "text": [
      "                                                          \r"
     ]
    },
    {
     "name": "stdout",
     "output_type": "stream",
     "text": [
      "[SCRATCH] Epoch 2/8 AUC=0.78837 ACC=0.6872 (best 0.78837, patience 0/3)\n"
     ]
    },
    {
     "name": "stderr",
     "output_type": "stream",
     "text": [
      "                                                          \r"
     ]
    },
    {
     "name": "stdout",
     "output_type": "stream",
     "text": [
      "[SCRATCH] Epoch 3/8 AUC=0.79066 ACC=0.6601 (best 0.79066, patience 0/3)\n"
     ]
    },
    {
     "name": "stderr",
     "output_type": "stream",
     "text": [
      "                                                          \r"
     ]
    },
    {
     "name": "stdout",
     "output_type": "stream",
     "text": [
      "[SCRATCH] Epoch 4/8 AUC=0.79291 ACC=0.7118 (best 0.79291, patience 0/3)\n"
     ]
    },
    {
     "name": "stderr",
     "output_type": "stream",
     "text": [
      "                                                          \r"
     ]
    },
    {
     "name": "stdout",
     "output_type": "stream",
     "text": [
      "[SCRATCH] Epoch 5/8 AUC=0.80636 ACC=0.7069 (best 0.80636, patience 0/3)\n"
     ]
    },
    {
     "name": "stderr",
     "output_type": "stream",
     "text": [
      "                                                          \r"
     ]
    },
    {
     "name": "stdout",
     "output_type": "stream",
     "text": [
      "[SCRATCH] Epoch 6/8 AUC=0.80381 ACC=0.7118 (best 0.80636, patience 1/3)\n"
     ]
    },
    {
     "name": "stderr",
     "output_type": "stream",
     "text": [
      "                                                          \r"
     ]
    },
    {
     "name": "stdout",
     "output_type": "stream",
     "text": [
      "[SCRATCH] Epoch 7/8 AUC=0.78905 ACC=0.6946 (best 0.80636, patience 2/3)\n"
     ]
    },
    {
     "name": "stderr",
     "output_type": "stream",
     "text": [
      "                                                          \r"
     ]
    },
    {
     "name": "stdout",
     "output_type": "stream",
     "text": [
      "[SCRATCH] Epoch 8/8 AUC=0.78138 ACC=0.6798 (best 0.80636, patience 3/3)\n",
      "Early stopping: no improvement.\n",
      "\n",
      "=== Trial 38/200 | idx=64 ===\n",
      "{'seq_len': 224, 'emb_dim': 192, 'conv_blocks': 1, 'channels_start': 160, 'channel_growth': 'x1.5', 'kernel_sizes': '3-5-7', 'dropout': 0.25, 'weight_decay': 0.0001, 'label_smoothing': 0.03, 'learning_rate': 0.0012, 'batch_size': 128, 'epochs': 8, 'loss_fn': 'bce_logits'}\n"
     ]
    },
    {
     "name": "stderr",
     "output_type": "stream",
     "text": [
      "                                                          \r"
     ]
    },
    {
     "name": "stdout",
     "output_type": "stream",
     "text": [
      "[SCRATCH] Epoch 1/8 AUC=0.78602 ACC=0.6995 (best 0.78602, patience 0/3)\n"
     ]
    },
    {
     "name": "stderr",
     "output_type": "stream",
     "text": [
      "                                                          \r"
     ]
    },
    {
     "name": "stdout",
     "output_type": "stream",
     "text": [
      "[SCRATCH] Epoch 2/8 AUC=0.81000 ACC=0.7217 (best 0.81000, patience 0/3)\n"
     ]
    },
    {
     "name": "stderr",
     "output_type": "stream",
     "text": [
      "                                                          \r"
     ]
    },
    {
     "name": "stdout",
     "output_type": "stream",
     "text": [
      "[SCRATCH] Epoch 3/8 AUC=0.81182 ACC=0.7094 (best 0.81182, patience 0/3)\n"
     ]
    },
    {
     "name": "stderr",
     "output_type": "stream",
     "text": [
      "                                                          \r"
     ]
    },
    {
     "name": "stdout",
     "output_type": "stream",
     "text": [
      "[SCRATCH] Epoch 4/8 AUC=0.81274 ACC=0.7143 (best 0.81274, patience 0/3)\n"
     ]
    },
    {
     "name": "stderr",
     "output_type": "stream",
     "text": [
      "                                                          \r"
     ]
    },
    {
     "name": "stdout",
     "output_type": "stream",
     "text": [
      "[SCRATCH] Epoch 5/8 AUC=0.81248 ACC=0.7315 (best 0.81274, patience 1/3)\n"
     ]
    },
    {
     "name": "stderr",
     "output_type": "stream",
     "text": [
      "                                                          \r"
     ]
    },
    {
     "name": "stdout",
     "output_type": "stream",
     "text": [
      "[SCRATCH] Epoch 6/8 AUC=0.80112 ACC=0.7266 (best 0.81274, patience 2/3)\n"
     ]
    },
    {
     "name": "stderr",
     "output_type": "stream",
     "text": [
      "                                                          \r"
     ]
    },
    {
     "name": "stdout",
     "output_type": "stream",
     "text": [
      "[SCRATCH] Epoch 7/8 AUC=0.80847 ACC=0.7488 (best 0.81274, patience 3/3)\n",
      "Early stopping: no improvement.\n",
      "\n",
      "=== Trial 39/200 | idx=65 ===\n",
      "{'seq_len': 224, 'emb_dim': 128, 'conv_blocks': 2, 'channels_start': 160, 'channel_growth': 'x1.5', 'kernel_sizes': '3-5-7', 'dropout': 0.2, 'weight_decay': 0.0001, 'label_smoothing': 0.03, 'learning_rate': 0.0008, 'batch_size': 128, 'epochs': 8, 'loss_fn': 'bce_logits'}\n"
     ]
    },
    {
     "name": "stderr",
     "output_type": "stream",
     "text": [
      "                                                          \r"
     ]
    },
    {
     "name": "stdout",
     "output_type": "stream",
     "text": [
      "[SCRATCH] Epoch 1/8 AUC=0.71711 ACC=0.4926 (best 0.71711, patience 0/3)\n"
     ]
    },
    {
     "name": "stderr",
     "output_type": "stream",
     "text": [
      "                                                          \r"
     ]
    },
    {
     "name": "stdout",
     "output_type": "stream",
     "text": [
      "[SCRATCH] Epoch 2/8 AUC=0.76313 ACC=0.6626 (best 0.76313, patience 0/3)\n"
     ]
    },
    {
     "name": "stderr",
     "output_type": "stream",
     "text": [
      "                                                          \r"
     ]
    },
    {
     "name": "stdout",
     "output_type": "stream",
     "text": [
      "[SCRATCH] Epoch 3/8 AUC=0.77250 ACC=0.6059 (best 0.77250, patience 0/3)\n"
     ]
    },
    {
     "name": "stderr",
     "output_type": "stream",
     "text": [
      "                                                          \r"
     ]
    },
    {
     "name": "stdout",
     "output_type": "stream",
     "text": [
      "[SCRATCH] Epoch 4/8 AUC=0.77478 ACC=0.6700 (best 0.77478, patience 0/3)\n"
     ]
    },
    {
     "name": "stderr",
     "output_type": "stream",
     "text": [
      "                                                          \r"
     ]
    },
    {
     "name": "stdout",
     "output_type": "stream",
     "text": [
      "[SCRATCH] Epoch 5/8 AUC=0.77769 ACC=0.7143 (best 0.77769, patience 0/3)\n"
     ]
    },
    {
     "name": "stderr",
     "output_type": "stream",
     "text": [
      "                                                          \r"
     ]
    },
    {
     "name": "stdout",
     "output_type": "stream",
     "text": [
      "[SCRATCH] Epoch 6/8 AUC=0.77364 ACC=0.7069 (best 0.77769, patience 1/3)\n"
     ]
    },
    {
     "name": "stderr",
     "output_type": "stream",
     "text": [
      "                                                          \r"
     ]
    },
    {
     "name": "stdout",
     "output_type": "stream",
     "text": [
      "[SCRATCH] Epoch 7/8 AUC=0.77177 ACC=0.6626 (best 0.77769, patience 2/3)\n"
     ]
    },
    {
     "name": "stderr",
     "output_type": "stream",
     "text": [
      "                                                          \r"
     ]
    },
    {
     "name": "stdout",
     "output_type": "stream",
     "text": [
      "[SCRATCH] Epoch 8/8 AUC=0.76704 ACC=0.6970 (best 0.77769, patience 3/3)\n",
      "Early stopping: no improvement.\n",
      "\n",
      "=== Trial 40/200 | idx=66 ===\n",
      "{'seq_len': 224, 'emb_dim': 128, 'conv_blocks': 2, 'channels_start': 128, 'channel_growth': 'x1.5', 'kernel_sizes': '3-5-7', 'dropout': 0.2, 'weight_decay': 0.0002, 'label_smoothing': 0.0, 'learning_rate': 0.0008, 'batch_size': 64, 'epochs': 8, 'loss_fn': 'bce_logits'}\n"
     ]
    },
    {
     "name": "stderr",
     "output_type": "stream",
     "text": [
      "                                                          \r"
     ]
    },
    {
     "name": "stdout",
     "output_type": "stream",
     "text": [
      "[SCRATCH] Epoch 1/8 AUC=0.76784 ACC=0.7069 (best 0.76784, patience 0/3)\n"
     ]
    },
    {
     "name": "stderr",
     "output_type": "stream",
     "text": [
      "                                                          \r"
     ]
    },
    {
     "name": "stdout",
     "output_type": "stream",
     "text": [
      "[SCRATCH] Epoch 2/8 AUC=0.78886 ACC=0.6207 (best 0.78886, patience 0/3)\n"
     ]
    },
    {
     "name": "stderr",
     "output_type": "stream",
     "text": [
      "                                                          \r"
     ]
    },
    {
     "name": "stdout",
     "output_type": "stream",
     "text": [
      "[SCRATCH] Epoch 3/8 AUC=0.75556 ACC=0.6527 (best 0.78886, patience 1/3)\n"
     ]
    },
    {
     "name": "stderr",
     "output_type": "stream",
     "text": [
      "                                                          \r"
     ]
    },
    {
     "name": "stdout",
     "output_type": "stream",
     "text": [
      "[SCRATCH] Epoch 4/8 AUC=0.76990 ACC=0.5961 (best 0.78886, patience 2/3)\n"
     ]
    },
    {
     "name": "stderr",
     "output_type": "stream",
     "text": [
      "                                                          \r"
     ]
    },
    {
     "name": "stdout",
     "output_type": "stream",
     "text": [
      "[SCRATCH] Epoch 5/8 AUC=0.77109 ACC=0.6897 (best 0.78886, patience 3/3)\n",
      "Early stopping: no improvement.\n",
      "\n",
      "=== Trial 41/200 | idx=67 ===\n",
      "{'seq_len': 256, 'emb_dim': 192, 'conv_blocks': 2, 'channels_start': 160, 'channel_growth': 'x1.5', 'kernel_sizes': '3-5-7', 'dropout': 0.2, 'weight_decay': 0.0002, 'label_smoothing': 0.0, 'learning_rate': 0.0008, 'batch_size': 64, 'epochs': 8, 'loss_fn': 'bce_logits'}\n"
     ]
    },
    {
     "name": "stderr",
     "output_type": "stream",
     "text": [
      "                                                          \r"
     ]
    },
    {
     "name": "stdout",
     "output_type": "stream",
     "text": [
      "[SCRATCH] Epoch 1/8 AUC=0.76434 ACC=0.6355 (best 0.76434, patience 0/3)\n"
     ]
    },
    {
     "name": "stderr",
     "output_type": "stream",
     "text": [
      "                                                          \r"
     ]
    },
    {
     "name": "stdout",
     "output_type": "stream",
     "text": [
      "[SCRATCH] Epoch 2/8 AUC=0.79303 ACC=0.6478 (best 0.79303, patience 0/3)\n"
     ]
    },
    {
     "name": "stderr",
     "output_type": "stream",
     "text": [
      "                                                          \r"
     ]
    },
    {
     "name": "stdout",
     "output_type": "stream",
     "text": [
      "[SCRATCH] Epoch 3/8 AUC=0.79854 ACC=0.6995 (best 0.79854, patience 0/3)\n"
     ]
    },
    {
     "name": "stderr",
     "output_type": "stream",
     "text": [
      "                                                          \r"
     ]
    },
    {
     "name": "stdout",
     "output_type": "stream",
     "text": [
      "[SCRATCH] Epoch 4/8 AUC=0.79595 ACC=0.6946 (best 0.79854, patience 1/3)\n"
     ]
    },
    {
     "name": "stderr",
     "output_type": "stream",
     "text": [
      "                                                          \r"
     ]
    },
    {
     "name": "stdout",
     "output_type": "stream",
     "text": [
      "[SCRATCH] Epoch 5/8 AUC=0.80058 ACC=0.6823 (best 0.80058, patience 0/3)\n"
     ]
    },
    {
     "name": "stderr",
     "output_type": "stream",
     "text": [
      "                                                          \r"
     ]
    },
    {
     "name": "stdout",
     "output_type": "stream",
     "text": [
      "[SCRATCH] Epoch 6/8 AUC=0.80231 ACC=0.6995 (best 0.80231, patience 0/3)\n"
     ]
    },
    {
     "name": "stderr",
     "output_type": "stream",
     "text": [
      "                                                          \r"
     ]
    },
    {
     "name": "stdout",
     "output_type": "stream",
     "text": [
      "[SCRATCH] Epoch 7/8 AUC=0.79626 ACC=0.7094 (best 0.80231, patience 1/3)\n"
     ]
    },
    {
     "name": "stderr",
     "output_type": "stream",
     "text": [
      "                                                          \r"
     ]
    },
    {
     "name": "stdout",
     "output_type": "stream",
     "text": [
      "[SCRATCH] Epoch 8/8 AUC=0.77833 ACC=0.7241 (best 0.80231, patience 2/3)\n",
      "\n",
      "=== Trial 42/200 | idx=68 ===\n",
      "{'seq_len': 256, 'emb_dim': 128, 'conv_blocks': 1, 'channels_start': 128, 'channel_growth': 'x1.5', 'kernel_sizes': '3-5-7', 'dropout': 0.25, 'weight_decay': 0.0002, 'label_smoothing': 0.03, 'learning_rate': 0.001, 'batch_size': 64, 'epochs': 8, 'loss_fn': 'bce_logits'}\n"
     ]
    },
    {
     "name": "stderr",
     "output_type": "stream",
     "text": [
      "                                                          \r"
     ]
    },
    {
     "name": "stdout",
     "output_type": "stream",
     "text": [
      "[SCRATCH] Epoch 1/8 AUC=0.73500 ACC=0.6798 (best 0.73500, patience 0/3)\n"
     ]
    },
    {
     "name": "stderr",
     "output_type": "stream",
     "text": [
      "                                                          \r"
     ]
    },
    {
     "name": "stdout",
     "output_type": "stream",
     "text": [
      "[SCRATCH] Epoch 2/8 AUC=0.76447 ACC=0.7020 (best 0.76447, patience 0/3)\n"
     ]
    },
    {
     "name": "stderr",
     "output_type": "stream",
     "text": [
      "                                                          \r"
     ]
    },
    {
     "name": "stdout",
     "output_type": "stream",
     "text": [
      "[SCRATCH] Epoch 3/8 AUC=0.76915 ACC=0.7069 (best 0.76915, patience 0/3)\n"
     ]
    },
    {
     "name": "stderr",
     "output_type": "stream",
     "text": [
      "                                                          \r"
     ]
    },
    {
     "name": "stdout",
     "output_type": "stream",
     "text": [
      "[SCRATCH] Epoch 4/8 AUC=0.78607 ACC=0.7069 (best 0.78607, patience 0/3)\n"
     ]
    },
    {
     "name": "stderr",
     "output_type": "stream",
     "text": [
      "                                                          \r"
     ]
    },
    {
     "name": "stdout",
     "output_type": "stream",
     "text": [
      "[SCRATCH] Epoch 5/8 AUC=0.78333 ACC=0.6970 (best 0.78607, patience 1/3)\n"
     ]
    },
    {
     "name": "stderr",
     "output_type": "stream",
     "text": [
      "                                                          \r"
     ]
    },
    {
     "name": "stdout",
     "output_type": "stream",
     "text": [
      "[SCRATCH] Epoch 6/8 AUC=0.77510 ACC=0.6724 (best 0.78607, patience 2/3)\n"
     ]
    },
    {
     "name": "stderr",
     "output_type": "stream",
     "text": [
      "                                                          \r"
     ]
    },
    {
     "name": "stdout",
     "output_type": "stream",
     "text": [
      "[SCRATCH] Epoch 7/8 AUC=0.78141 ACC=0.7069 (best 0.78607, patience 3/3)\n",
      "Early stopping: no improvement.\n",
      "\n",
      "=== Trial 43/200 | idx=69 ===\n",
      "{'seq_len': 256, 'emb_dim': 128, 'conv_blocks': 2, 'channels_start': 128, 'channel_growth': 'x1.5', 'kernel_sizes': '3-5-7', 'dropout': 0.25, 'weight_decay': 0.0001, 'label_smoothing': 0.03, 'learning_rate': 0.001, 'batch_size': 64, 'epochs': 8, 'loss_fn': 'bce_logits'}\n"
     ]
    },
    {
     "name": "stderr",
     "output_type": "stream",
     "text": [
      "                                                          \r"
     ]
    },
    {
     "name": "stdout",
     "output_type": "stream",
     "text": [
      "[SCRATCH] Epoch 1/8 AUC=0.75328 ACC=0.6675 (best 0.75328, patience 0/3)\n"
     ]
    },
    {
     "name": "stderr",
     "output_type": "stream",
     "text": [
      "                                                          \r"
     ]
    },
    {
     "name": "stdout",
     "output_type": "stream",
     "text": [
      "[SCRATCH] Epoch 2/8 AUC=0.78760 ACC=0.6872 (best 0.78760, patience 0/3)\n"
     ]
    },
    {
     "name": "stderr",
     "output_type": "stream",
     "text": [
      "                                                          \r"
     ]
    },
    {
     "name": "stdout",
     "output_type": "stream",
     "text": [
      "[SCRATCH] Epoch 3/8 AUC=0.75133 ACC=0.6675 (best 0.78760, patience 1/3)\n"
     ]
    },
    {
     "name": "stderr",
     "output_type": "stream",
     "text": [
      "                                                          \r"
     ]
    },
    {
     "name": "stdout",
     "output_type": "stream",
     "text": [
      "[SCRATCH] Epoch 4/8 AUC=0.77252 ACC=0.6232 (best 0.78760, patience 2/3)\n"
     ]
    },
    {
     "name": "stderr",
     "output_type": "stream",
     "text": [
      "                                                          \r"
     ]
    },
    {
     "name": "stdout",
     "output_type": "stream",
     "text": [
      "[SCRATCH] Epoch 5/8 AUC=0.77158 ACC=0.6404 (best 0.78760, patience 3/3)\n",
      "Early stopping: no improvement.\n",
      "\n",
      "=== Trial 44/200 | idx=70 ===\n",
      "{'seq_len': 224, 'emb_dim': 192, 'conv_blocks': 1, 'channels_start': 128, 'channel_growth': 'x1.5', 'kernel_sizes': '3-5-7', 'dropout': 0.2, 'weight_decay': 0.0002, 'label_smoothing': 0.03, 'learning_rate': 0.0012, 'batch_size': 128, 'epochs': 8, 'loss_fn': 'bce_logits'}\n"
     ]
    },
    {
     "name": "stderr",
     "output_type": "stream",
     "text": [
      "                                                          \r"
     ]
    },
    {
     "name": "stdout",
     "output_type": "stream",
     "text": [
      "[SCRATCH] Epoch 1/8 AUC=0.75505 ACC=0.6724 (best 0.75505, patience 0/3)\n"
     ]
    },
    {
     "name": "stderr",
     "output_type": "stream",
     "text": [
      "                                                          \r"
     ]
    },
    {
     "name": "stdout",
     "output_type": "stream",
     "text": [
      "[SCRATCH] Epoch 2/8 AUC=0.77269 ACC=0.6995 (best 0.77269, patience 0/3)\n"
     ]
    },
    {
     "name": "stderr",
     "output_type": "stream",
     "text": [
      "                                                          \r"
     ]
    },
    {
     "name": "stdout",
     "output_type": "stream",
     "text": [
      "[SCRATCH] Epoch 3/8 AUC=0.79614 ACC=0.7315 (best 0.79614, patience 0/3)\n"
     ]
    },
    {
     "name": "stderr",
     "output_type": "stream",
     "text": [
      "                                                          \r"
     ]
    },
    {
     "name": "stdout",
     "output_type": "stream",
     "text": [
      "[SCRATCH] Epoch 4/8 AUC=0.79966 ACC=0.7167 (best 0.79966, patience 0/3)\n"
     ]
    },
    {
     "name": "stderr",
     "output_type": "stream",
     "text": [
      "                                                          \r"
     ]
    },
    {
     "name": "stdout",
     "output_type": "stream",
     "text": [
      "[SCRATCH] Epoch 5/8 AUC=0.79039 ACC=0.7217 (best 0.79966, patience 1/3)\n"
     ]
    },
    {
     "name": "stderr",
     "output_type": "stream",
     "text": [
      "                                                          \r"
     ]
    },
    {
     "name": "stdout",
     "output_type": "stream",
     "text": [
      "[SCRATCH] Epoch 6/8 AUC=0.78592 ACC=0.7389 (best 0.79966, patience 2/3)\n"
     ]
    },
    {
     "name": "stderr",
     "output_type": "stream",
     "text": [
      "                                                          \r"
     ]
    },
    {
     "name": "stdout",
     "output_type": "stream",
     "text": [
      "[SCRATCH] Epoch 7/8 AUC=0.78988 ACC=0.7044 (best 0.79966, patience 3/3)\n",
      "Early stopping: no improvement.\n",
      "\n",
      "=== Trial 45/200 | idx=71 ===\n",
      "{'seq_len': 200, 'emb_dim': 160, 'conv_blocks': 1, 'channels_start': 128, 'channel_growth': 'x1.5', 'kernel_sizes': '3-5-7', 'dropout': 0.25, 'weight_decay': 0.0002, 'label_smoothing': 0.03, 'learning_rate': 0.0008, 'batch_size': 64, 'epochs': 8, 'loss_fn': 'bce_logits'}\n"
     ]
    },
    {
     "name": "stderr",
     "output_type": "stream",
     "text": [
      "                                                          \r"
     ]
    },
    {
     "name": "stdout",
     "output_type": "stream",
     "text": [
      "[SCRATCH] Epoch 1/8 AUC=0.76767 ACC=0.6823 (best 0.76767, patience 0/3)\n"
     ]
    },
    {
     "name": "stderr",
     "output_type": "stream",
     "text": [
      "                                                          \r"
     ]
    },
    {
     "name": "stdout",
     "output_type": "stream",
     "text": [
      "[SCRATCH] Epoch 2/8 AUC=0.72677 ACC=0.6823 (best 0.76767, patience 1/3)\n"
     ]
    },
    {
     "name": "stderr",
     "output_type": "stream",
     "text": [
      "                                                          \r"
     ]
    },
    {
     "name": "stdout",
     "output_type": "stream",
     "text": [
      "[SCRATCH] Epoch 3/8 AUC=0.73718 ACC=0.6921 (best 0.76767, patience 2/3)\n"
     ]
    },
    {
     "name": "stderr",
     "output_type": "stream",
     "text": [
      "                                                          \r"
     ]
    },
    {
     "name": "stdout",
     "output_type": "stream",
     "text": [
      "[SCRATCH] Epoch 4/8 AUC=0.76320 ACC=0.7020 (best 0.76767, patience 3/3)\n",
      "Early stopping: no improvement.\n",
      "\n",
      "=== Trial 46/200 | idx=72 ===\n",
      "{'seq_len': 200, 'emb_dim': 192, 'conv_blocks': 2, 'channels_start': 128, 'channel_growth': 'x1.5', 'kernel_sizes': '3-5-7', 'dropout': 0.25, 'weight_decay': 0.0001, 'label_smoothing': 0.03, 'learning_rate': 0.0012, 'batch_size': 64, 'epochs': 8, 'loss_fn': 'bce_logits'}\n"
     ]
    },
    {
     "name": "stderr",
     "output_type": "stream",
     "text": [
      "                                                          \r"
     ]
    },
    {
     "name": "stdout",
     "output_type": "stream",
     "text": [
      "[SCRATCH] Epoch 1/8 AUC=0.78340 ACC=0.7118 (best 0.78340, patience 0/3)\n"
     ]
    },
    {
     "name": "stderr",
     "output_type": "stream",
     "text": [
      "                                                          \r"
     ]
    },
    {
     "name": "stdout",
     "output_type": "stream",
     "text": [
      "[SCRATCH] Epoch 2/8 AUC=0.77061 ACC=0.5961 (best 0.78340, patience 1/3)\n"
     ]
    },
    {
     "name": "stderr",
     "output_type": "stream",
     "text": [
      "                                                          \r"
     ]
    },
    {
     "name": "stdout",
     "output_type": "stream",
     "text": [
      "[SCRATCH] Epoch 3/8 AUC=0.79342 ACC=0.7020 (best 0.79342, patience 0/3)\n"
     ]
    },
    {
     "name": "stderr",
     "output_type": "stream",
     "text": [
      "                                                          \r"
     ]
    },
    {
     "name": "stdout",
     "output_type": "stream",
     "text": [
      "[SCRATCH] Epoch 4/8 AUC=0.79306 ACC=0.6798 (best 0.79342, patience 1/3)\n"
     ]
    },
    {
     "name": "stderr",
     "output_type": "stream",
     "text": [
      "                                                          \r"
     ]
    },
    {
     "name": "stdout",
     "output_type": "stream",
     "text": [
      "[SCRATCH] Epoch 5/8 AUC=0.79706 ACC=0.7044 (best 0.79706, patience 0/3)\n"
     ]
    },
    {
     "name": "stderr",
     "output_type": "stream",
     "text": [
      "                                                          \r"
     ]
    },
    {
     "name": "stdout",
     "output_type": "stream",
     "text": [
      "[SCRATCH] Epoch 6/8 AUC=0.76279 ACC=0.6700 (best 0.79706, patience 1/3)\n"
     ]
    },
    {
     "name": "stderr",
     "output_type": "stream",
     "text": [
      "                                                          \r"
     ]
    },
    {
     "name": "stdout",
     "output_type": "stream",
     "text": [
      "[SCRATCH] Epoch 7/8 AUC=0.78840 ACC=0.7192 (best 0.79706, patience 2/3)\n"
     ]
    },
    {
     "name": "stderr",
     "output_type": "stream",
     "text": [
      "                                                          \r"
     ]
    },
    {
     "name": "stdout",
     "output_type": "stream",
     "text": [
      "[SCRATCH] Epoch 8/8 AUC=0.78706 ACC=0.7167 (best 0.79706, patience 3/3)\n",
      "Early stopping: no improvement.\n",
      "\n",
      "=== Trial 47/200 | idx=73 ===\n",
      "{'seq_len': 200, 'emb_dim': 128, 'conv_blocks': 1, 'channels_start': 128, 'channel_growth': 'x1.5', 'kernel_sizes': '3-5-7', 'dropout': 0.25, 'weight_decay': 0.0001, 'label_smoothing': 0.03, 'learning_rate': 0.0012, 'batch_size': 128, 'epochs': 8, 'loss_fn': 'bce_logits'}\n"
     ]
    },
    {
     "name": "stderr",
     "output_type": "stream",
     "text": [
      "                                                          \r"
     ]
    },
    {
     "name": "stdout",
     "output_type": "stream",
     "text": [
      "[SCRATCH] Epoch 1/8 AUC=0.72876 ACC=0.6626 (best 0.72876, patience 0/3)\n"
     ]
    },
    {
     "name": "stderr",
     "output_type": "stream",
     "text": [
      "                                                          \r"
     ]
    },
    {
     "name": "stdout",
     "output_type": "stream",
     "text": [
      "[SCRATCH] Epoch 2/8 AUC=0.76150 ACC=0.6897 (best 0.76150, patience 0/3)\n"
     ]
    },
    {
     "name": "stderr",
     "output_type": "stream",
     "text": [
      "                                                          \r"
     ]
    },
    {
     "name": "stdout",
     "output_type": "stream",
     "text": [
      "[SCRATCH] Epoch 3/8 AUC=0.77335 ACC=0.6897 (best 0.77335, patience 0/3)\n"
     ]
    },
    {
     "name": "stderr",
     "output_type": "stream",
     "text": [
      "                                                          \r"
     ]
    },
    {
     "name": "stdout",
     "output_type": "stream",
     "text": [
      "[SCRATCH] Epoch 4/8 AUC=0.77488 ACC=0.6675 (best 0.77488, patience 0/3)\n"
     ]
    },
    {
     "name": "stderr",
     "output_type": "stream",
     "text": [
      "                                                          \r"
     ]
    },
    {
     "name": "stdout",
     "output_type": "stream",
     "text": [
      "[SCRATCH] Epoch 5/8 AUC=0.77869 ACC=0.7044 (best 0.77869, patience 0/3)\n"
     ]
    },
    {
     "name": "stderr",
     "output_type": "stream",
     "text": [
      "                                                          \r"
     ]
    },
    {
     "name": "stdout",
     "output_type": "stream",
     "text": [
      "[SCRATCH] Epoch 6/8 AUC=0.77760 ACC=0.6946 (best 0.77869, patience 1/3)\n"
     ]
    },
    {
     "name": "stderr",
     "output_type": "stream",
     "text": [
      "                                                          \r"
     ]
    },
    {
     "name": "stdout",
     "output_type": "stream",
     "text": [
      "[SCRATCH] Epoch 7/8 AUC=0.78354 ACC=0.7020 (best 0.78354, patience 0/3)\n"
     ]
    },
    {
     "name": "stderr",
     "output_type": "stream",
     "text": [
      "                                                          \r"
     ]
    },
    {
     "name": "stdout",
     "output_type": "stream",
     "text": [
      "[SCRATCH] Epoch 8/8 AUC=0.77660 ACC=0.7044 (best 0.78354, patience 1/3)\n",
      "\n",
      "=== Trial 48/200 | idx=74 ===\n",
      "{'seq_len': 224, 'emb_dim': 128, 'conv_blocks': 2, 'channels_start': 160, 'channel_growth': 'x1.5', 'kernel_sizes': '3-5-7', 'dropout': 0.25, 'weight_decay': 0.0002, 'label_smoothing': 0.0, 'learning_rate': 0.001, 'batch_size': 128, 'epochs': 8, 'loss_fn': 'bce_logits'}\n"
     ]
    },
    {
     "name": "stderr",
     "output_type": "stream",
     "text": [
      "                                                          \r"
     ]
    },
    {
     "name": "stdout",
     "output_type": "stream",
     "text": [
      "[SCRATCH] Epoch 1/8 AUC=0.72238 ACC=0.4926 (best 0.72238, patience 0/3)\n"
     ]
    },
    {
     "name": "stderr",
     "output_type": "stream",
     "text": [
      "                                                          \r"
     ]
    },
    {
     "name": "stdout",
     "output_type": "stream",
     "text": [
      "[SCRATCH] Epoch 2/8 AUC=0.77534 ACC=0.6650 (best 0.77534, patience 0/3)\n"
     ]
    },
    {
     "name": "stderr",
     "output_type": "stream",
     "text": [
      "                                                          \r"
     ]
    },
    {
     "name": "stdout",
     "output_type": "stream",
     "text": [
      "[SCRATCH] Epoch 3/8 AUC=0.79129 ACC=0.6108 (best 0.79129, patience 0/3)\n"
     ]
    },
    {
     "name": "stderr",
     "output_type": "stream",
     "text": [
      "                                                          \r"
     ]
    },
    {
     "name": "stdout",
     "output_type": "stream",
     "text": [
      "[SCRATCH] Epoch 4/8 AUC=0.78966 ACC=0.7266 (best 0.79129, patience 1/3)\n"
     ]
    },
    {
     "name": "stderr",
     "output_type": "stream",
     "text": [
      "                                                          \r"
     ]
    },
    {
     "name": "stdout",
     "output_type": "stream",
     "text": [
      "[SCRATCH] Epoch 5/8 AUC=0.79337 ACC=0.6897 (best 0.79337, patience 0/3)\n"
     ]
    },
    {
     "name": "stderr",
     "output_type": "stream",
     "text": [
      "                                                          \r"
     ]
    },
    {
     "name": "stdout",
     "output_type": "stream",
     "text": [
      "[SCRATCH] Epoch 6/8 AUC=0.77699 ACC=0.7094 (best 0.79337, patience 1/3)\n"
     ]
    },
    {
     "name": "stderr",
     "output_type": "stream",
     "text": [
      "                                                          \r"
     ]
    },
    {
     "name": "stdout",
     "output_type": "stream",
     "text": [
      "[SCRATCH] Epoch 7/8 AUC=0.77631 ACC=0.6847 (best 0.79337, patience 2/3)\n"
     ]
    },
    {
     "name": "stderr",
     "output_type": "stream",
     "text": [
      "                                                          \r"
     ]
    },
    {
     "name": "stdout",
     "output_type": "stream",
     "text": [
      "[SCRATCH] Epoch 8/8 AUC=0.77206 ACC=0.7020 (best 0.79337, patience 3/3)\n",
      "Early stopping: no improvement.\n",
      "\n",
      "=== Trial 49/200 | idx=75 ===\n",
      "{'seq_len': 200, 'emb_dim': 192, 'conv_blocks': 1, 'channels_start': 128, 'channel_growth': 'x1.5', 'kernel_sizes': '3-5-7', 'dropout': 0.25, 'weight_decay': 0.0002, 'label_smoothing': 0.0, 'learning_rate': 0.0012, 'batch_size': 64, 'epochs': 8, 'loss_fn': 'bce_logits'}\n"
     ]
    },
    {
     "name": "stderr",
     "output_type": "stream",
     "text": [
      "                                                          \r"
     ]
    },
    {
     "name": "stdout",
     "output_type": "stream",
     "text": [
      "[SCRATCH] Epoch 1/8 AUC=0.73012 ACC=0.6626 (best 0.73012, patience 0/3)\n"
     ]
    },
    {
     "name": "stderr",
     "output_type": "stream",
     "text": [
      "                                                          \r"
     ]
    },
    {
     "name": "stdout",
     "output_type": "stream",
     "text": [
      "[SCRATCH] Epoch 2/8 AUC=0.78883 ACC=0.7167 (best 0.78883, patience 0/3)\n"
     ]
    },
    {
     "name": "stderr",
     "output_type": "stream",
     "text": [
      "                                                          \r"
     ]
    },
    {
     "name": "stdout",
     "output_type": "stream",
     "text": [
      "[SCRATCH] Epoch 3/8 AUC=0.80449 ACC=0.7291 (best 0.80449, patience 0/3)\n"
     ]
    },
    {
     "name": "stderr",
     "output_type": "stream",
     "text": [
      "                                                          \r"
     ]
    },
    {
     "name": "stdout",
     "output_type": "stream",
     "text": [
      "[SCRATCH] Epoch 4/8 AUC=0.79816 ACC=0.7291 (best 0.80449, patience 1/3)\n"
     ]
    },
    {
     "name": "stderr",
     "output_type": "stream",
     "text": [
      "                                                          \r"
     ]
    },
    {
     "name": "stdout",
     "output_type": "stream",
     "text": [
      "[SCRATCH] Epoch 5/8 AUC=0.79296 ACC=0.7291 (best 0.80449, patience 2/3)\n"
     ]
    },
    {
     "name": "stderr",
     "output_type": "stream",
     "text": [
      "                                                          \r"
     ]
    },
    {
     "name": "stdout",
     "output_type": "stream",
     "text": [
      "[SCRATCH] Epoch 6/8 AUC=0.79393 ACC=0.7020 (best 0.80449, patience 3/3)\n",
      "Early stopping: no improvement.\n",
      "\n",
      "=== Trial 50/200 | idx=76 ===\n",
      "{'seq_len': 200, 'emb_dim': 160, 'conv_blocks': 1, 'channels_start': 128, 'channel_growth': 'x1.5', 'kernel_sizes': '3-5-7', 'dropout': 0.2, 'weight_decay': 0.0002, 'label_smoothing': 0.03, 'learning_rate': 0.0012, 'batch_size': 128, 'epochs': 8, 'loss_fn': 'bce_logits'}\n"
     ]
    },
    {
     "name": "stderr",
     "output_type": "stream",
     "text": [
      "                                                          \r"
     ]
    },
    {
     "name": "stdout",
     "output_type": "stream",
     "text": [
      "[SCRATCH] Epoch 1/8 AUC=0.73362 ACC=0.6626 (best 0.73362, patience 0/3)\n"
     ]
    },
    {
     "name": "stderr",
     "output_type": "stream",
     "text": [
      "                                                          \r"
     ]
    },
    {
     "name": "stdout",
     "output_type": "stream",
     "text": [
      "[SCRATCH] Epoch 2/8 AUC=0.77845 ACC=0.6897 (best 0.77845, patience 0/3)\n"
     ]
    },
    {
     "name": "stderr",
     "output_type": "stream",
     "text": [
      "                                                          \r"
     ]
    },
    {
     "name": "stdout",
     "output_type": "stream",
     "text": [
      "[SCRATCH] Epoch 3/8 AUC=0.75728 ACC=0.7069 (best 0.77845, patience 1/3)\n"
     ]
    },
    {
     "name": "stderr",
     "output_type": "stream",
     "text": [
      "                                                          \r"
     ]
    },
    {
     "name": "stdout",
     "output_type": "stream",
     "text": [
      "[SCRATCH] Epoch 4/8 AUC=0.76432 ACC=0.7020 (best 0.77845, patience 2/3)\n"
     ]
    },
    {
     "name": "stderr",
     "output_type": "stream",
     "text": [
      "                                                          \r"
     ]
    },
    {
     "name": "stdout",
     "output_type": "stream",
     "text": [
      "[SCRATCH] Epoch 5/8 AUC=0.76833 ACC=0.6872 (best 0.77845, patience 3/3)\n",
      "Early stopping: no improvement.\n",
      "\n",
      "=== Trial 51/200 | idx=77 ===\n",
      "{'seq_len': 224, 'emb_dim': 192, 'conv_blocks': 1, 'channels_start': 128, 'channel_growth': 'x1.5', 'kernel_sizes': '3-5-7', 'dropout': 0.25, 'weight_decay': 0.0002, 'label_smoothing': 0.03, 'learning_rate': 0.0008, 'batch_size': 64, 'epochs': 8, 'loss_fn': 'bce_logits'}\n"
     ]
    },
    {
     "name": "stderr",
     "output_type": "stream",
     "text": [
      "                                                          \r"
     ]
    },
    {
     "name": "stdout",
     "output_type": "stream",
     "text": [
      "[SCRATCH] Epoch 1/8 AUC=0.76034 ACC=0.6847 (best 0.76034, patience 0/3)\n"
     ]
    },
    {
     "name": "stderr",
     "output_type": "stream",
     "text": [
      "                                                          \r"
     ]
    },
    {
     "name": "stdout",
     "output_type": "stream",
     "text": [
      "[SCRATCH] Epoch 2/8 AUC=0.79112 ACC=0.7020 (best 0.79112, patience 0/3)\n"
     ]
    },
    {
     "name": "stderr",
     "output_type": "stream",
     "text": [
      "                                                          \r"
     ]
    },
    {
     "name": "stdout",
     "output_type": "stream",
     "text": [
      "[SCRATCH] Epoch 3/8 AUC=0.79937 ACC=0.7192 (best 0.79937, patience 0/3)\n"
     ]
    },
    {
     "name": "stderr",
     "output_type": "stream",
     "text": [
      "                                                          \r"
     ]
    },
    {
     "name": "stdout",
     "output_type": "stream",
     "text": [
      "[SCRATCH] Epoch 4/8 AUC=0.80425 ACC=0.7143 (best 0.80425, patience 0/3)\n"
     ]
    },
    {
     "name": "stderr",
     "output_type": "stream",
     "text": [
      "                                                          \r"
     ]
    },
    {
     "name": "stdout",
     "output_type": "stream",
     "text": [
      "[SCRATCH] Epoch 5/8 AUC=0.79296 ACC=0.7020 (best 0.80425, patience 1/3)\n"
     ]
    },
    {
     "name": "stderr",
     "output_type": "stream",
     "text": [
      "                                                          \r"
     ]
    },
    {
     "name": "stdout",
     "output_type": "stream",
     "text": [
      "[SCRATCH] Epoch 6/8 AUC=0.80223 ACC=0.6995 (best 0.80425, patience 2/3)\n"
     ]
    },
    {
     "name": "stderr",
     "output_type": "stream",
     "text": [
      "                                                          \r"
     ]
    },
    {
     "name": "stdout",
     "output_type": "stream",
     "text": [
      "[SCRATCH] Epoch 7/8 AUC=0.79854 ACC=0.7167 (best 0.80425, patience 3/3)\n",
      "Early stopping: no improvement.\n",
      "\n",
      "=== Trial 52/200 | idx=78 ===\n",
      "{'seq_len': 256, 'emb_dim': 128, 'conv_blocks': 2, 'channels_start': 160, 'channel_growth': 'x1.5', 'kernel_sizes': '3-5-7', 'dropout': 0.2, 'weight_decay': 0.0002, 'label_smoothing': 0.03, 'learning_rate': 0.0008, 'batch_size': 128, 'epochs': 8, 'loss_fn': 'bce_logits'}\n"
     ]
    },
    {
     "name": "stderr",
     "output_type": "stream",
     "text": [
      "                                                          \r"
     ]
    },
    {
     "name": "stdout",
     "output_type": "stream",
     "text": [
      "[SCRATCH] Epoch 1/8 AUC=0.71340 ACC=0.4926 (best 0.71340, patience 0/3)\n"
     ]
    },
    {
     "name": "stderr",
     "output_type": "stream",
     "text": [
      "                                                          \r"
     ]
    },
    {
     "name": "stdout",
     "output_type": "stream",
     "text": [
      "[SCRATCH] Epoch 2/8 AUC=0.76881 ACC=0.6724 (best 0.76881, patience 0/3)\n"
     ]
    },
    {
     "name": "stderr",
     "output_type": "stream",
     "text": [
      "                                                          \r"
     ]
    },
    {
     "name": "stdout",
     "output_type": "stream",
     "text": [
      "[SCRATCH] Epoch 3/8 AUC=0.77369 ACC=0.5271 (best 0.77369, patience 0/3)\n"
     ]
    },
    {
     "name": "stderr",
     "output_type": "stream",
     "text": [
      "                                                          \r"
     ]
    },
    {
     "name": "stdout",
     "output_type": "stream",
     "text": [
      "[SCRATCH] Epoch 4/8 AUC=0.78041 ACC=0.6675 (best 0.78041, patience 0/3)\n"
     ]
    },
    {
     "name": "stderr",
     "output_type": "stream",
     "text": [
      "                                                          \r"
     ]
    },
    {
     "name": "stdout",
     "output_type": "stream",
     "text": [
      "[SCRATCH] Epoch 5/8 AUC=0.79049 ACC=0.7167 (best 0.79049, patience 0/3)\n"
     ]
    },
    {
     "name": "stderr",
     "output_type": "stream",
     "text": [
      "                                                          \r"
     ]
    },
    {
     "name": "stdout",
     "output_type": "stream",
     "text": [
      "[SCRATCH] Epoch 6/8 AUC=0.77590 ACC=0.7192 (best 0.79049, patience 1/3)\n"
     ]
    },
    {
     "name": "stderr",
     "output_type": "stream",
     "text": [
      "                                                          \r"
     ]
    },
    {
     "name": "stdout",
     "output_type": "stream",
     "text": [
      "[SCRATCH] Epoch 7/8 AUC=0.78039 ACC=0.7118 (best 0.79049, patience 2/3)\n"
     ]
    },
    {
     "name": "stderr",
     "output_type": "stream",
     "text": [
      "                                                          \r"
     ]
    },
    {
     "name": "stdout",
     "output_type": "stream",
     "text": [
      "[SCRATCH] Epoch 8/8 AUC=0.77439 ACC=0.6995 (best 0.79049, patience 3/3)\n",
      "Early stopping: no improvement.\n",
      "\n",
      "=== Trial 53/200 | idx=79 ===\n",
      "{'seq_len': 224, 'emb_dim': 128, 'conv_blocks': 1, 'channels_start': 128, 'channel_growth': 'x1.5', 'kernel_sizes': '3-5-7', 'dropout': 0.25, 'weight_decay': 0.0001, 'label_smoothing': 0.03, 'learning_rate': 0.001, 'batch_size': 64, 'epochs': 8, 'loss_fn': 'bce_logits'}\n"
     ]
    },
    {
     "name": "stderr",
     "output_type": "stream",
     "text": [
      "                                                          \r"
     ]
    },
    {
     "name": "stdout",
     "output_type": "stream",
     "text": [
      "[SCRATCH] Epoch 1/8 AUC=0.73461 ACC=0.6724 (best 0.73461, patience 0/3)\n"
     ]
    },
    {
     "name": "stderr",
     "output_type": "stream",
     "text": [
      "                                                          \r"
     ]
    },
    {
     "name": "stdout",
     "output_type": "stream",
     "text": [
      "[SCRATCH] Epoch 2/8 AUC=0.76653 ACC=0.7069 (best 0.76653, patience 0/3)\n"
     ]
    },
    {
     "name": "stderr",
     "output_type": "stream",
     "text": [
      "                                                          \r"
     ]
    },
    {
     "name": "stdout",
     "output_type": "stream",
     "text": [
      "[SCRATCH] Epoch 3/8 AUC=0.77189 ACC=0.7094 (best 0.77189, patience 0/3)\n"
     ]
    },
    {
     "name": "stderr",
     "output_type": "stream",
     "text": [
      "                                                          \r"
     ]
    },
    {
     "name": "stdout",
     "output_type": "stream",
     "text": [
      "[SCRATCH] Epoch 4/8 AUC=0.78039 ACC=0.6946 (best 0.78039, patience 0/3)\n"
     ]
    },
    {
     "name": "stderr",
     "output_type": "stream",
     "text": [
      "                                                          \r"
     ]
    },
    {
     "name": "stdout",
     "output_type": "stream",
     "text": [
      "[SCRATCH] Epoch 5/8 AUC=0.77998 ACC=0.6921 (best 0.78039, patience 1/3)\n"
     ]
    },
    {
     "name": "stderr",
     "output_type": "stream",
     "text": [
      "                                                          \r"
     ]
    },
    {
     "name": "stdout",
     "output_type": "stream",
     "text": [
      "[SCRATCH] Epoch 6/8 AUC=0.77471 ACC=0.7020 (best 0.78039, patience 2/3)\n"
     ]
    },
    {
     "name": "stderr",
     "output_type": "stream",
     "text": [
      "                                                          \r"
     ]
    },
    {
     "name": "stdout",
     "output_type": "stream",
     "text": [
      "[SCRATCH] Epoch 7/8 AUC=0.78068 ACC=0.7094 (best 0.78068, patience 0/3)\n"
     ]
    },
    {
     "name": "stderr",
     "output_type": "stream",
     "text": [
      "                                                          \r"
     ]
    },
    {
     "name": "stdout",
     "output_type": "stream",
     "text": [
      "[SCRATCH] Epoch 8/8 AUC=0.76893 ACC=0.6626 (best 0.78068, patience 1/3)\n",
      "\n",
      "=== Trial 54/200 | idx=80 ===\n",
      "{'seq_len': 224, 'emb_dim': 128, 'conv_blocks': 2, 'channels_start': 160, 'channel_growth': 'x1.5', 'kernel_sizes': '3-5-7', 'dropout': 0.25, 'weight_decay': 0.0001, 'label_smoothing': 0.03, 'learning_rate': 0.0008, 'batch_size': 128, 'epochs': 8, 'loss_fn': 'bce_logits'}\n"
     ]
    },
    {
     "name": "stderr",
     "output_type": "stream",
     "text": [
      "                                                          \r"
     ]
    },
    {
     "name": "stdout",
     "output_type": "stream",
     "text": [
      "[SCRATCH] Epoch 1/8 AUC=0.70740 ACC=0.4926 (best 0.70740, patience 0/3)\n"
     ]
    },
    {
     "name": "stderr",
     "output_type": "stream",
     "text": [
      "                                                          \r"
     ]
    },
    {
     "name": "stdout",
     "output_type": "stream",
     "text": [
      "[SCRATCH] Epoch 2/8 AUC=0.77228 ACC=0.6724 (best 0.77228, patience 0/3)\n"
     ]
    },
    {
     "name": "stderr",
     "output_type": "stream",
     "text": [
      "                                                          \r"
     ]
    },
    {
     "name": "stdout",
     "output_type": "stream",
     "text": [
      "[SCRATCH] Epoch 3/8 AUC=0.77845 ACC=0.5542 (best 0.77845, patience 0/3)\n"
     ]
    },
    {
     "name": "stderr",
     "output_type": "stream",
     "text": [
      "                                                          \r"
     ]
    },
    {
     "name": "stdout",
     "output_type": "stream",
     "text": [
      "[SCRATCH] Epoch 4/8 AUC=0.78114 ACC=0.6527 (best 0.78114, patience 0/3)\n"
     ]
    },
    {
     "name": "stderr",
     "output_type": "stream",
     "text": [
      "                                                          \r"
     ]
    },
    {
     "name": "stdout",
     "output_type": "stream",
     "text": [
      "[SCRATCH] Epoch 5/8 AUC=0.78068 ACC=0.6847 (best 0.78114, patience 1/3)\n"
     ]
    },
    {
     "name": "stderr",
     "output_type": "stream",
     "text": [
      "                                                          \r"
     ]
    },
    {
     "name": "stdout",
     "output_type": "stream",
     "text": [
      "[SCRATCH] Epoch 6/8 AUC=0.78095 ACC=0.7143 (best 0.78114, patience 2/3)\n"
     ]
    },
    {
     "name": "stderr",
     "output_type": "stream",
     "text": [
      "                                                          \r"
     ]
    },
    {
     "name": "stdout",
     "output_type": "stream",
     "text": [
      "[SCRATCH] Epoch 7/8 AUC=0.77927 ACC=0.6946 (best 0.78114, patience 3/3)\n",
      "Early stopping: no improvement.\n",
      "\n",
      "=== Trial 55/200 | idx=81 ===\n",
      "{'seq_len': 200, 'emb_dim': 128, 'conv_blocks': 2, 'channels_start': 128, 'channel_growth': 'x1.5', 'kernel_sizes': '3-5-7', 'dropout': 0.2, 'weight_decay': 0.0001, 'label_smoothing': 0.03, 'learning_rate': 0.0012, 'batch_size': 128, 'epochs': 8, 'loss_fn': 'bce_logits'}\n"
     ]
    },
    {
     "name": "stderr",
     "output_type": "stream",
     "text": [
      "                                                          \r"
     ]
    },
    {
     "name": "stdout",
     "output_type": "stream",
     "text": [
      "[SCRATCH] Epoch 1/8 AUC=0.75481 ACC=0.5172 (best 0.75481, patience 0/3)\n"
     ]
    },
    {
     "name": "stderr",
     "output_type": "stream",
     "text": [
      "                                                          \r"
     ]
    },
    {
     "name": "stdout",
     "output_type": "stream",
     "text": [
      "[SCRATCH] Epoch 2/8 AUC=0.76638 ACC=0.7118 (best 0.76638, patience 0/3)\n"
     ]
    },
    {
     "name": "stderr",
     "output_type": "stream",
     "text": [
      "                                                          \r"
     ]
    },
    {
     "name": "stdout",
     "output_type": "stream",
     "text": [
      "[SCRATCH] Epoch 3/8 AUC=0.75956 ACC=0.6921 (best 0.76638, patience 1/3)\n"
     ]
    },
    {
     "name": "stderr",
     "output_type": "stream",
     "text": [
      "                                                          \r"
     ]
    },
    {
     "name": "stdout",
     "output_type": "stream",
     "text": [
      "[SCRATCH] Epoch 4/8 AUC=0.74119 ACC=0.5764 (best 0.76638, patience 2/3)\n"
     ]
    },
    {
     "name": "stderr",
     "output_type": "stream",
     "text": [
      "                                                          \r"
     ]
    },
    {
     "name": "stdout",
     "output_type": "stream",
     "text": [
      "[SCRATCH] Epoch 5/8 AUC=0.75405 ACC=0.6502 (best 0.76638, patience 3/3)\n",
      "Early stopping: no improvement.\n",
      "\n",
      "=== Trial 56/200 | idx=82 ===\n",
      "{'seq_len': 256, 'emb_dim': 128, 'conv_blocks': 1, 'channels_start': 128, 'channel_growth': 'x1.5', 'kernel_sizes': '3-5-7', 'dropout': 0.25, 'weight_decay': 0.0002, 'label_smoothing': 0.03, 'learning_rate': 0.001, 'batch_size': 128, 'epochs': 8, 'loss_fn': 'bce_logits'}\n"
     ]
    },
    {
     "name": "stderr",
     "output_type": "stream",
     "text": [
      "                                                          \r"
     ]
    },
    {
     "name": "stdout",
     "output_type": "stream",
     "text": [
      "[SCRATCH] Epoch 1/8 AUC=0.73883 ACC=0.6650 (best 0.73883, patience 0/3)\n"
     ]
    },
    {
     "name": "stderr",
     "output_type": "stream",
     "text": [
      "                                                          \r"
     ]
    },
    {
     "name": "stdout",
     "output_type": "stream",
     "text": [
      "[SCRATCH] Epoch 2/8 AUC=0.76318 ACC=0.6872 (best 0.76318, patience 0/3)\n"
     ]
    },
    {
     "name": "stderr",
     "output_type": "stream",
     "text": [
      "                                                          \r"
     ]
    },
    {
     "name": "stdout",
     "output_type": "stream",
     "text": [
      "[SCRATCH] Epoch 3/8 AUC=0.77328 ACC=0.6970 (best 0.77328, patience 0/3)\n"
     ]
    },
    {
     "name": "stderr",
     "output_type": "stream",
     "text": [
      "                                                          \r"
     ]
    },
    {
     "name": "stdout",
     "output_type": "stream",
     "text": [
      "[SCRATCH] Epoch 4/8 AUC=0.76675 ACC=0.6724 (best 0.77328, patience 1/3)\n"
     ]
    },
    {
     "name": "stderr",
     "output_type": "stream",
     "text": [
      "                                                          \r"
     ]
    },
    {
     "name": "stdout",
     "output_type": "stream",
     "text": [
      "[SCRATCH] Epoch 5/8 AUC=0.77320 ACC=0.6970 (best 0.77328, patience 2/3)\n"
     ]
    },
    {
     "name": "stderr",
     "output_type": "stream",
     "text": [
      "                                                          \r"
     ]
    },
    {
     "name": "stdout",
     "output_type": "stream",
     "text": [
      "[SCRATCH] Epoch 6/8 AUC=0.77070 ACC=0.6921 (best 0.77328, patience 3/3)\n",
      "Early stopping: no improvement.\n",
      "\n",
      "=== Trial 57/200 | idx=83 ===\n",
      "{'seq_len': 256, 'emb_dim': 160, 'conv_blocks': 1, 'channels_start': 160, 'channel_growth': 'x1.5', 'kernel_sizes': '3-5-7', 'dropout': 0.2, 'weight_decay': 0.0001, 'label_smoothing': 0.03, 'learning_rate': 0.0012, 'batch_size': 64, 'epochs': 8, 'loss_fn': 'bce_logits'}\n"
     ]
    },
    {
     "name": "stderr",
     "output_type": "stream",
     "text": [
      "                                                          \r"
     ]
    },
    {
     "name": "stdout",
     "output_type": "stream",
     "text": [
      "[SCRATCH] Epoch 1/8 AUC=0.77718 ACC=0.6773 (best 0.77718, patience 0/3)\n"
     ]
    },
    {
     "name": "stderr",
     "output_type": "stream",
     "text": [
      "                                                          \r"
     ]
    },
    {
     "name": "stdout",
     "output_type": "stream",
     "text": [
      "[SCRATCH] Epoch 2/8 AUC=0.80078 ACC=0.6921 (best 0.80078, patience 0/3)\n"
     ]
    },
    {
     "name": "stderr",
     "output_type": "stream",
     "text": [
      "                                                          \r"
     ]
    },
    {
     "name": "stdout",
     "output_type": "stream",
     "text": [
      "[SCRATCH] Epoch 3/8 AUC=0.78731 ACC=0.6872 (best 0.80078, patience 1/3)\n"
     ]
    },
    {
     "name": "stderr",
     "output_type": "stream",
     "text": [
      "                                                          \r"
     ]
    },
    {
     "name": "stdout",
     "output_type": "stream",
     "text": [
      "[SCRATCH] Epoch 4/8 AUC=0.79694 ACC=0.7266 (best 0.80078, patience 2/3)\n"
     ]
    },
    {
     "name": "stderr",
     "output_type": "stream",
     "text": [
      "                                                          \r"
     ]
    },
    {
     "name": "stdout",
     "output_type": "stream",
     "text": [
      "[SCRATCH] Epoch 5/8 AUC=0.79364 ACC=0.7094 (best 0.80078, patience 3/3)\n",
      "Early stopping: no improvement.\n",
      "\n",
      "=== Trial 58/200 | idx=84 ===\n",
      "{'seq_len': 256, 'emb_dim': 128, 'conv_blocks': 2, 'channels_start': 160, 'channel_growth': 'x1.5', 'kernel_sizes': '3-5-7', 'dropout': 0.2, 'weight_decay': 0.0001, 'label_smoothing': 0.0, 'learning_rate': 0.0008, 'batch_size': 64, 'epochs': 8, 'loss_fn': 'bce_logits'}\n"
     ]
    },
    {
     "name": "stderr",
     "output_type": "stream",
     "text": [
      "                                                          \r"
     ]
    },
    {
     "name": "stdout",
     "output_type": "stream",
     "text": [
      "[SCRATCH] Epoch 1/8 AUC=0.76917 ACC=0.6305 (best 0.76917, patience 0/3)\n"
     ]
    },
    {
     "name": "stderr",
     "output_type": "stream",
     "text": [
      "                                                          \r"
     ]
    },
    {
     "name": "stdout",
     "output_type": "stream",
     "text": [
      "[SCRATCH] Epoch 2/8 AUC=0.76180 ACC=0.6897 (best 0.76917, patience 1/3)\n"
     ]
    },
    {
     "name": "stderr",
     "output_type": "stream",
     "text": [
      "                                                          \r"
     ]
    },
    {
     "name": "stdout",
     "output_type": "stream",
     "text": [
      "[SCRATCH] Epoch 3/8 AUC=0.76648 ACC=0.6232 (best 0.76917, patience 2/3)\n"
     ]
    },
    {
     "name": "stderr",
     "output_type": "stream",
     "text": [
      "                                                          \r"
     ]
    },
    {
     "name": "stdout",
     "output_type": "stream",
     "text": [
      "[SCRATCH] Epoch 4/8 AUC=0.76726 ACC=0.6946 (best 0.76917, patience 3/3)\n",
      "Early stopping: no improvement.\n",
      "\n",
      "=== Trial 59/200 | idx=85 ===\n",
      "{'seq_len': 256, 'emb_dim': 192, 'conv_blocks': 2, 'channels_start': 128, 'channel_growth': 'x1.5', 'kernel_sizes': '3-5-7', 'dropout': 0.2, 'weight_decay': 0.0002, 'label_smoothing': 0.0, 'learning_rate': 0.001, 'batch_size': 128, 'epochs': 8, 'loss_fn': 'bce_logits'}\n"
     ]
    },
    {
     "name": "stderr",
     "output_type": "stream",
     "text": [
      "                                                          \r"
     ]
    },
    {
     "name": "stdout",
     "output_type": "stream",
     "text": [
      "[SCRATCH] Epoch 1/8 AUC=0.77012 ACC=0.5025 (best 0.77012, patience 0/3)\n"
     ]
    },
    {
     "name": "stderr",
     "output_type": "stream",
     "text": [
      "                                                          \r"
     ]
    },
    {
     "name": "stdout",
     "output_type": "stream",
     "text": [
      "[SCRATCH] Epoch 2/8 AUC=0.78274 ACC=0.6626 (best 0.78274, patience 0/3)\n"
     ]
    },
    {
     "name": "stderr",
     "output_type": "stream",
     "text": [
      "                                                          \r"
     ]
    },
    {
     "name": "stdout",
     "output_type": "stream",
     "text": [
      "[SCRATCH] Epoch 3/8 AUC=0.80005 ACC=0.7167 (best 0.80005, patience 0/3)\n"
     ]
    },
    {
     "name": "stderr",
     "output_type": "stream",
     "text": [
      "                                                          \r"
     ]
    },
    {
     "name": "stdout",
     "output_type": "stream",
     "text": [
      "[SCRATCH] Epoch 4/8 AUC=0.80150 ACC=0.7044 (best 0.80150, patience 0/3)\n"
     ]
    },
    {
     "name": "stderr",
     "output_type": "stream",
     "text": [
      "                                                          \r"
     ]
    },
    {
     "name": "stdout",
     "output_type": "stream",
     "text": [
      "[SCRATCH] Epoch 5/8 AUC=0.79968 ACC=0.7094 (best 0.80150, patience 1/3)\n"
     ]
    },
    {
     "name": "stderr",
     "output_type": "stream",
     "text": [
      "                                                          \r"
     ]
    },
    {
     "name": "stdout",
     "output_type": "stream",
     "text": [
      "[SCRATCH] Epoch 6/8 AUC=0.77677 ACC=0.6921 (best 0.80150, patience 2/3)\n"
     ]
    },
    {
     "name": "stderr",
     "output_type": "stream",
     "text": [
      "                                                          \r"
     ]
    },
    {
     "name": "stdout",
     "output_type": "stream",
     "text": [
      "[SCRATCH] Epoch 7/8 AUC=0.79133 ACC=0.6970 (best 0.80150, patience 3/3)\n",
      "Early stopping: no improvement.\n",
      "\n",
      "=== Trial 60/200 | idx=86 ===\n",
      "{'seq_len': 224, 'emb_dim': 192, 'conv_blocks': 1, 'channels_start': 128, 'channel_growth': 'x1.5', 'kernel_sizes': '3-5-7', 'dropout': 0.25, 'weight_decay': 0.0002, 'label_smoothing': 0.03, 'learning_rate': 0.001, 'batch_size': 64, 'epochs': 8, 'loss_fn': 'bce_logits'}\n"
     ]
    },
    {
     "name": "stderr",
     "output_type": "stream",
     "text": [
      "                                                          \r"
     ]
    },
    {
     "name": "stdout",
     "output_type": "stream",
     "text": [
      "[SCRATCH] Epoch 1/8 AUC=0.75502 ACC=0.6921 (best 0.75502, patience 0/3)\n"
     ]
    },
    {
     "name": "stderr",
     "output_type": "stream",
     "text": [
      "                                                          \r"
     ]
    },
    {
     "name": "stdout",
     "output_type": "stream",
     "text": [
      "[SCRATCH] Epoch 2/8 AUC=0.78301 ACC=0.7167 (best 0.78301, patience 0/3)\n"
     ]
    },
    {
     "name": "stderr",
     "output_type": "stream",
     "text": [
      "                                                          \r"
     ]
    },
    {
     "name": "stdout",
     "output_type": "stream",
     "text": [
      "[SCRATCH] Epoch 3/8 AUC=0.79066 ACC=0.7266 (best 0.79066, patience 0/3)\n"
     ]
    },
    {
     "name": "stderr",
     "output_type": "stream",
     "text": [
      "                                                          \r"
     ]
    },
    {
     "name": "stdout",
     "output_type": "stream",
     "text": [
      "[SCRATCH] Epoch 4/8 AUC=0.78454 ACC=0.7167 (best 0.79066, patience 1/3)\n"
     ]
    },
    {
     "name": "stderr",
     "output_type": "stream",
     "text": [
      "                                                          \r"
     ]
    },
    {
     "name": "stdout",
     "output_type": "stream",
     "text": [
      "[SCRATCH] Epoch 5/8 AUC=0.77799 ACC=0.7118 (best 0.79066, patience 2/3)\n"
     ]
    },
    {
     "name": "stderr",
     "output_type": "stream",
     "text": [
      "                                                          \r"
     ]
    },
    {
     "name": "stdout",
     "output_type": "stream",
     "text": [
      "[SCRATCH] Epoch 6/8 AUC=0.78369 ACC=0.6798 (best 0.79066, patience 3/3)\n",
      "Early stopping: no improvement.\n",
      "\n",
      "=== Trial 61/200 | idx=87 ===\n",
      "{'seq_len': 224, 'emb_dim': 128, 'conv_blocks': 1, 'channels_start': 128, 'channel_growth': 'x1.5', 'kernel_sizes': '3-5-7', 'dropout': 0.2, 'weight_decay': 0.0001, 'label_smoothing': 0.03, 'learning_rate': 0.0012, 'batch_size': 128, 'epochs': 8, 'loss_fn': 'bce_logits'}\n"
     ]
    },
    {
     "name": "stderr",
     "output_type": "stream",
     "text": [
      "                                                          \r"
     ]
    },
    {
     "name": "stdout",
     "output_type": "stream",
     "text": [
      "[SCRATCH] Epoch 1/8 AUC=0.71359 ACC=0.6281 (best 0.71359, patience 0/3)\n"
     ]
    },
    {
     "name": "stderr",
     "output_type": "stream",
     "text": [
      "                                                          \r"
     ]
    },
    {
     "name": "stdout",
     "output_type": "stream",
     "text": [
      "[SCRATCH] Epoch 2/8 AUC=0.75398 ACC=0.6724 (best 0.75398, patience 0/3)\n"
     ]
    },
    {
     "name": "stderr",
     "output_type": "stream",
     "text": [
      "                                                          \r"
     ]
    },
    {
     "name": "stdout",
     "output_type": "stream",
     "text": [
      "[SCRATCH] Epoch 3/8 AUC=0.77350 ACC=0.6995 (best 0.77350, patience 0/3)\n"
     ]
    },
    {
     "name": "stderr",
     "output_type": "stream",
     "text": [
      "                                                          \r"
     ]
    },
    {
     "name": "stdout",
     "output_type": "stream",
     "text": [
      "[SCRATCH] Epoch 4/8 AUC=0.78002 ACC=0.6847 (best 0.78002, patience 0/3)\n"
     ]
    },
    {
     "name": "stderr",
     "output_type": "stream",
     "text": [
      "                                                          \r"
     ]
    },
    {
     "name": "stdout",
     "output_type": "stream",
     "text": [
      "[SCRATCH] Epoch 5/8 AUC=0.77947 ACC=0.7167 (best 0.78002, patience 1/3)\n"
     ]
    },
    {
     "name": "stderr",
     "output_type": "stream",
     "text": [
      "                                                          \r"
     ]
    },
    {
     "name": "stdout",
     "output_type": "stream",
     "text": [
      "[SCRATCH] Epoch 6/8 AUC=0.77905 ACC=0.7167 (best 0.78002, patience 2/3)\n"
     ]
    },
    {
     "name": "stderr",
     "output_type": "stream",
     "text": [
      "                                                          \r"
     ]
    },
    {
     "name": "stdout",
     "output_type": "stream",
     "text": [
      "[SCRATCH] Epoch 7/8 AUC=0.78238 ACC=0.7044 (best 0.78238, patience 0/3)\n"
     ]
    },
    {
     "name": "stderr",
     "output_type": "stream",
     "text": [
      "                                                          \r"
     ]
    },
    {
     "name": "stdout",
     "output_type": "stream",
     "text": [
      "[SCRATCH] Epoch 8/8 AUC=0.77454 ACC=0.6921 (best 0.78238, patience 1/3)\n",
      "\n",
      "=== Trial 62/200 | idx=88 ===\n",
      "{'seq_len': 224, 'emb_dim': 160, 'conv_blocks': 1, 'channels_start': 160, 'channel_growth': 'x1.5', 'kernel_sizes': '3-5-7', 'dropout': 0.2, 'weight_decay': 0.0001, 'label_smoothing': 0.03, 'learning_rate': 0.0008, 'batch_size': 128, 'epochs': 8, 'loss_fn': 'bce_logits'}\n"
     ]
    },
    {
     "name": "stderr",
     "output_type": "stream",
     "text": [
      "                                                          \r"
     ]
    },
    {
     "name": "stdout",
     "output_type": "stream",
     "text": [
      "[SCRATCH] Epoch 1/8 AUC=0.77182 ACC=0.4951 (best 0.77182, patience 0/3)\n"
     ]
    },
    {
     "name": "stderr",
     "output_type": "stream",
     "text": [
      "                                                          \r"
     ]
    },
    {
     "name": "stdout",
     "output_type": "stream",
     "text": [
      "[SCRATCH] Epoch 2/8 AUC=0.79022 ACC=0.5985 (best 0.79022, patience 0/3)\n"
     ]
    },
    {
     "name": "stderr",
     "output_type": "stream",
     "text": [
      "                                                          \r"
     ]
    },
    {
     "name": "stdout",
     "output_type": "stream",
     "text": [
      "[SCRATCH] Epoch 3/8 AUC=0.78930 ACC=0.6823 (best 0.79022, patience 1/3)\n"
     ]
    },
    {
     "name": "stderr",
     "output_type": "stream",
     "text": [
      "                                                          \r"
     ]
    },
    {
     "name": "stdout",
     "output_type": "stream",
     "text": [
      "[SCRATCH] Epoch 4/8 AUC=0.78956 ACC=0.7118 (best 0.79022, patience 2/3)\n"
     ]
    },
    {
     "name": "stderr",
     "output_type": "stream",
     "text": [
      "                                                          \r"
     ]
    },
    {
     "name": "stdout",
     "output_type": "stream",
     "text": [
      "[SCRATCH] Epoch 5/8 AUC=0.80158 ACC=0.7044 (best 0.80158, patience 0/3)\n"
     ]
    },
    {
     "name": "stderr",
     "output_type": "stream",
     "text": [
      "                                                          \r"
     ]
    },
    {
     "name": "stdout",
     "output_type": "stream",
     "text": [
      "[SCRATCH] Epoch 6/8 AUC=0.78903 ACC=0.6946 (best 0.80158, patience 1/3)\n"
     ]
    },
    {
     "name": "stderr",
     "output_type": "stream",
     "text": [
      "                                                          \r"
     ]
    },
    {
     "name": "stdout",
     "output_type": "stream",
     "text": [
      "[SCRATCH] Epoch 7/8 AUC=0.79342 ACC=0.6995 (best 0.80158, patience 2/3)\n"
     ]
    },
    {
     "name": "stderr",
     "output_type": "stream",
     "text": [
      "                                                          \r"
     ]
    },
    {
     "name": "stdout",
     "output_type": "stream",
     "text": [
      "[SCRATCH] Epoch 8/8 AUC=0.77393 ACC=0.6946 (best 0.80158, patience 3/3)\n",
      "Early stopping: no improvement.\n",
      "\n",
      "=== Trial 63/200 | idx=89 ===\n",
      "{'seq_len': 256, 'emb_dim': 128, 'conv_blocks': 1, 'channels_start': 128, 'channel_growth': 'x1.5', 'kernel_sizes': '3-5-7', 'dropout': 0.25, 'weight_decay': 0.0002, 'label_smoothing': 0.03, 'learning_rate': 0.0008, 'batch_size': 64, 'epochs': 8, 'loss_fn': 'bce_logits'}\n"
     ]
    },
    {
     "name": "stderr",
     "output_type": "stream",
     "text": [
      "                                                          \r"
     ]
    },
    {
     "name": "stdout",
     "output_type": "stream",
     "text": [
      "[SCRATCH] Epoch 1/8 AUC=0.70910 ACC=0.6552 (best 0.70910, patience 0/3)\n"
     ]
    },
    {
     "name": "stderr",
     "output_type": "stream",
     "text": [
      "                                                          \r"
     ]
    },
    {
     "name": "stdout",
     "output_type": "stream",
     "text": [
      "[SCRATCH] Epoch 2/8 AUC=0.75738 ACC=0.7020 (best 0.75738, patience 0/3)\n"
     ]
    },
    {
     "name": "stderr",
     "output_type": "stream",
     "text": [
      "                                                          \r"
     ]
    },
    {
     "name": "stdout",
     "output_type": "stream",
     "text": [
      "[SCRATCH] Epoch 3/8 AUC=0.77073 ACC=0.7094 (best 0.77073, patience 0/3)\n"
     ]
    },
    {
     "name": "stderr",
     "output_type": "stream",
     "text": [
      "                                                          \r"
     ]
    },
    {
     "name": "stdout",
     "output_type": "stream",
     "text": [
      "[SCRATCH] Epoch 4/8 AUC=0.77563 ACC=0.6995 (best 0.77563, patience 0/3)\n"
     ]
    },
    {
     "name": "stderr",
     "output_type": "stream",
     "text": [
      "                                                          \r"
     ]
    },
    {
     "name": "stdout",
     "output_type": "stream",
     "text": [
      "[SCRATCH] Epoch 5/8 AUC=0.78044 ACC=0.6995 (best 0.78044, patience 0/3)\n"
     ]
    },
    {
     "name": "stderr",
     "output_type": "stream",
     "text": [
      "                                                          \r"
     ]
    },
    {
     "name": "stdout",
     "output_type": "stream",
     "text": [
      "[SCRATCH] Epoch 6/8 AUC=0.77743 ACC=0.6872 (best 0.78044, patience 1/3)\n"
     ]
    },
    {
     "name": "stderr",
     "output_type": "stream",
     "text": [
      "                                                          \r"
     ]
    },
    {
     "name": "stdout",
     "output_type": "stream",
     "text": [
      "[SCRATCH] Epoch 7/8 AUC=0.77716 ACC=0.6798 (best 0.78044, patience 2/3)\n"
     ]
    },
    {
     "name": "stderr",
     "output_type": "stream",
     "text": [
      "                                                          \r"
     ]
    },
    {
     "name": "stdout",
     "output_type": "stream",
     "text": [
      "[SCRATCH] Epoch 8/8 AUC=0.77005 ACC=0.6921 (best 0.78044, patience 3/3)\n",
      "Early stopping: no improvement.\n",
      "\n",
      "=== Trial 64/200 | idx=90 ===\n",
      "{'seq_len': 256, 'emb_dim': 160, 'conv_blocks': 2, 'channels_start': 128, 'channel_growth': 'x1.5', 'kernel_sizes': '3-5-7', 'dropout': 0.25, 'weight_decay': 0.0001, 'label_smoothing': 0.0, 'learning_rate': 0.001, 'batch_size': 128, 'epochs': 8, 'loss_fn': 'bce_logits'}\n"
     ]
    },
    {
     "name": "stderr",
     "output_type": "stream",
     "text": [
      "                                                          \r"
     ]
    },
    {
     "name": "stdout",
     "output_type": "stream",
     "text": [
      "[SCRATCH] Epoch 1/8 AUC=0.71063 ACC=0.6207 (best 0.71063, patience 0/3)\n"
     ]
    },
    {
     "name": "stderr",
     "output_type": "stream",
     "text": [
      "                                                          \r"
     ]
    },
    {
     "name": "stdout",
     "output_type": "stream",
     "text": [
      "[SCRATCH] Epoch 2/8 AUC=0.73828 ACC=0.6675 (best 0.73828, patience 0/3)\n"
     ]
    },
    {
     "name": "stderr",
     "output_type": "stream",
     "text": [
      "                                                          \r"
     ]
    },
    {
     "name": "stdout",
     "output_type": "stream",
     "text": [
      "[SCRATCH] Epoch 3/8 AUC=0.76017 ACC=0.6897 (best 0.76017, patience 0/3)\n"
     ]
    },
    {
     "name": "stderr",
     "output_type": "stream",
     "text": [
      "                                                          \r"
     ]
    },
    {
     "name": "stdout",
     "output_type": "stream",
     "text": [
      "[SCRATCH] Epoch 4/8 AUC=0.76313 ACC=0.7020 (best 0.76313, patience 0/3)\n"
     ]
    },
    {
     "name": "stderr",
     "output_type": "stream",
     "text": [
      "                                                          \r"
     ]
    },
    {
     "name": "stdout",
     "output_type": "stream",
     "text": [
      "[SCRATCH] Epoch 5/8 AUC=0.76930 ACC=0.6921 (best 0.76930, patience 0/3)\n"
     ]
    },
    {
     "name": "stderr",
     "output_type": "stream",
     "text": [
      "                                                          \r"
     ]
    },
    {
     "name": "stdout",
     "output_type": "stream",
     "text": [
      "[SCRATCH] Epoch 6/8 AUC=0.75114 ACC=0.6700 (best 0.76930, patience 1/3)\n"
     ]
    },
    {
     "name": "stderr",
     "output_type": "stream",
     "text": [
      "                                                          \r"
     ]
    },
    {
     "name": "stdout",
     "output_type": "stream",
     "text": [
      "[SCRATCH] Epoch 7/8 AUC=0.76286 ACC=0.6601 (best 0.76930, patience 2/3)\n"
     ]
    },
    {
     "name": "stderr",
     "output_type": "stream",
     "text": [
      "                                                          \r"
     ]
    },
    {
     "name": "stdout",
     "output_type": "stream",
     "text": [
      "[SCRATCH] Epoch 8/8 AUC=0.74840 ACC=0.6872 (best 0.76930, patience 3/3)\n",
      "Early stopping: no improvement.\n",
      "\n",
      "=== Trial 65/200 | idx=91 ===\n",
      "{'seq_len': 200, 'emb_dim': 160, 'conv_blocks': 1, 'channels_start': 128, 'channel_growth': 'x1.5', 'kernel_sizes': '3-5-7', 'dropout': 0.25, 'weight_decay': 0.0002, 'label_smoothing': 0.0, 'learning_rate': 0.0012, 'batch_size': 128, 'epochs': 8, 'loss_fn': 'bce_logits'}\n"
     ]
    },
    {
     "name": "stderr",
     "output_type": "stream",
     "text": [
      "                                                          \r"
     ]
    },
    {
     "name": "stdout",
     "output_type": "stream",
     "text": [
      "[SCRATCH] Epoch 1/8 AUC=0.75558 ACC=0.6158 (best 0.75558, patience 0/3)\n"
     ]
    },
    {
     "name": "stderr",
     "output_type": "stream",
     "text": [
      "                                                          \r"
     ]
    },
    {
     "name": "stdout",
     "output_type": "stream",
     "text": [
      "[SCRATCH] Epoch 2/8 AUC=0.77468 ACC=0.6798 (best 0.77468, patience 0/3)\n"
     ]
    },
    {
     "name": "stderr",
     "output_type": "stream",
     "text": [
      "                                                          \r"
     ]
    },
    {
     "name": "stdout",
     "output_type": "stream",
     "text": [
      "[SCRATCH] Epoch 3/8 AUC=0.75073 ACC=0.7143 (best 0.77468, patience 1/3)\n"
     ]
    },
    {
     "name": "stderr",
     "output_type": "stream",
     "text": [
      "                                                          \r"
     ]
    },
    {
     "name": "stdout",
     "output_type": "stream",
     "text": [
      "[SCRATCH] Epoch 4/8 AUC=0.76718 ACC=0.7167 (best 0.77468, patience 2/3)\n"
     ]
    },
    {
     "name": "stderr",
     "output_type": "stream",
     "text": [
      "                                                          \r"
     ]
    },
    {
     "name": "stdout",
     "output_type": "stream",
     "text": [
      "[SCRATCH] Epoch 5/8 AUC=0.76214 ACC=0.6897 (best 0.77468, patience 3/3)\n",
      "Early stopping: no improvement.\n",
      "\n",
      "=== Trial 66/200 | idx=92 ===\n",
      "{'seq_len': 256, 'emb_dim': 128, 'conv_blocks': 1, 'channels_start': 128, 'channel_growth': 'x1.5', 'kernel_sizes': '3-5-7', 'dropout': 0.2, 'weight_decay': 0.0002, 'label_smoothing': 0.03, 'learning_rate': 0.001, 'batch_size': 128, 'epochs': 8, 'loss_fn': 'bce_logits'}\n"
     ]
    },
    {
     "name": "stderr",
     "output_type": "stream",
     "text": [
      "                                                          \r"
     ]
    },
    {
     "name": "stdout",
     "output_type": "stream",
     "text": [
      "[SCRATCH] Epoch 1/8 AUC=0.72769 ACC=0.6552 (best 0.72769, patience 0/3)\n"
     ]
    },
    {
     "name": "stderr",
     "output_type": "stream",
     "text": [
      "                                                          \r"
     ]
    },
    {
     "name": "stdout",
     "output_type": "stream",
     "text": [
      "[SCRATCH] Epoch 2/8 AUC=0.76053 ACC=0.6675 (best 0.76053, patience 0/3)\n"
     ]
    },
    {
     "name": "stderr",
     "output_type": "stream",
     "text": [
      "                                                          \r"
     ]
    },
    {
     "name": "stdout",
     "output_type": "stream",
     "text": [
      "[SCRATCH] Epoch 3/8 AUC=0.76850 ACC=0.7069 (best 0.76850, patience 0/3)\n"
     ]
    },
    {
     "name": "stderr",
     "output_type": "stream",
     "text": [
      "                                                          \r"
     ]
    },
    {
     "name": "stdout",
     "output_type": "stream",
     "text": [
      "[SCRATCH] Epoch 4/8 AUC=0.77010 ACC=0.6847 (best 0.77010, patience 0/3)\n"
     ]
    },
    {
     "name": "stderr",
     "output_type": "stream",
     "text": [
      "                                                          \r"
     ]
    },
    {
     "name": "stdout",
     "output_type": "stream",
     "text": [
      "[SCRATCH] Epoch 5/8 AUC=0.77823 ACC=0.6872 (best 0.77823, patience 0/3)\n"
     ]
    },
    {
     "name": "stderr",
     "output_type": "stream",
     "text": [
      "                                                          \r"
     ]
    },
    {
     "name": "stdout",
     "output_type": "stream",
     "text": [
      "[SCRATCH] Epoch 6/8 AUC=0.77510 ACC=0.6946 (best 0.77823, patience 1/3)\n"
     ]
    },
    {
     "name": "stderr",
     "output_type": "stream",
     "text": [
      "                                                          \r"
     ]
    },
    {
     "name": "stdout",
     "output_type": "stream",
     "text": [
      "[SCRATCH] Epoch 7/8 AUC=0.77359 ACC=0.7020 (best 0.77823, patience 2/3)\n"
     ]
    },
    {
     "name": "stderr",
     "output_type": "stream",
     "text": [
      "                                                          \r"
     ]
    },
    {
     "name": "stdout",
     "output_type": "stream",
     "text": [
      "[SCRATCH] Epoch 8/8 AUC=0.76738 ACC=0.7020 (best 0.77823, patience 3/3)\n",
      "Early stopping: no improvement.\n",
      "\n",
      "=== Trial 67/200 | idx=93 ===\n",
      "{'seq_len': 224, 'emb_dim': 160, 'conv_blocks': 1, 'channels_start': 128, 'channel_growth': 'x1.5', 'kernel_sizes': '3-5-7', 'dropout': 0.25, 'weight_decay': 0.0001, 'label_smoothing': 0.03, 'learning_rate': 0.0012, 'batch_size': 64, 'epochs': 8, 'loss_fn': 'bce_logits'}\n"
     ]
    },
    {
     "name": "stderr",
     "output_type": "stream",
     "text": [
      "                                                          \r"
     ]
    },
    {
     "name": "stdout",
     "output_type": "stream",
     "text": [
      "[SCRATCH] Epoch 1/8 AUC=0.76184 ACC=0.6872 (best 0.76184, patience 0/3)\n"
     ]
    },
    {
     "name": "stderr",
     "output_type": "stream",
     "text": [
      "                                                          \r"
     ]
    },
    {
     "name": "stdout",
     "output_type": "stream",
     "text": [
      "[SCRATCH] Epoch 2/8 AUC=0.71381 ACC=0.6552 (best 0.76184, patience 1/3)\n"
     ]
    },
    {
     "name": "stderr",
     "output_type": "stream",
     "text": [
      "                                                          \r"
     ]
    },
    {
     "name": "stdout",
     "output_type": "stream",
     "text": [
      "[SCRATCH] Epoch 3/8 AUC=0.74400 ACC=0.6724 (best 0.76184, patience 2/3)\n"
     ]
    },
    {
     "name": "stderr",
     "output_type": "stream",
     "text": [
      "                                                          \r"
     ]
    },
    {
     "name": "stdout",
     "output_type": "stream",
     "text": [
      "[SCRATCH] Epoch 4/8 AUC=0.77723 ACC=0.6995 (best 0.77723, patience 0/3)\n"
     ]
    },
    {
     "name": "stderr",
     "output_type": "stream",
     "text": [
      "                                                          \r"
     ]
    },
    {
     "name": "stdout",
     "output_type": "stream",
     "text": [
      "[SCRATCH] Epoch 5/8 AUC=0.75636 ACC=0.6724 (best 0.77723, patience 1/3)\n"
     ]
    },
    {
     "name": "stderr",
     "output_type": "stream",
     "text": [
      "                                                          \r"
     ]
    },
    {
     "name": "stdout",
     "output_type": "stream",
     "text": [
      "[SCRATCH] Epoch 6/8 AUC=0.76148 ACC=0.6773 (best 0.77723, patience 2/3)\n"
     ]
    },
    {
     "name": "stderr",
     "output_type": "stream",
     "text": [
      "                                                          \r"
     ]
    },
    {
     "name": "stdout",
     "output_type": "stream",
     "text": [
      "[SCRATCH] Epoch 7/8 AUC=0.77245 ACC=0.6823 (best 0.77723, patience 3/3)\n",
      "Early stopping: no improvement.\n",
      "\n",
      "=== Trial 68/200 | idx=94 ===\n",
      "{'seq_len': 224, 'emb_dim': 128, 'conv_blocks': 1, 'channels_start': 128, 'channel_growth': 'x1.5', 'kernel_sizes': '3-5-7', 'dropout': 0.25, 'weight_decay': 0.0001, 'label_smoothing': 0.0, 'learning_rate': 0.001, 'batch_size': 64, 'epochs': 8, 'loss_fn': 'bce_logits'}\n"
     ]
    },
    {
     "name": "stderr",
     "output_type": "stream",
     "text": [
      "                                                          \r"
     ]
    },
    {
     "name": "stdout",
     "output_type": "stream",
     "text": [
      "[SCRATCH] Epoch 1/8 AUC=0.73189 ACC=0.6773 (best 0.73189, patience 0/3)\n"
     ]
    },
    {
     "name": "stderr",
     "output_type": "stream",
     "text": [
      "                                                          \r"
     ]
    },
    {
     "name": "stdout",
     "output_type": "stream",
     "text": [
      "[SCRATCH] Epoch 2/8 AUC=0.76502 ACC=0.7044 (best 0.76502, patience 0/3)\n"
     ]
    },
    {
     "name": "stderr",
     "output_type": "stream",
     "text": [
      "                                                          \r"
     ]
    },
    {
     "name": "stdout",
     "output_type": "stream",
     "text": [
      "[SCRATCH] Epoch 3/8 AUC=0.77532 ACC=0.7143 (best 0.77532, patience 0/3)\n"
     ]
    },
    {
     "name": "stderr",
     "output_type": "stream",
     "text": [
      "                                                          \r"
     ]
    },
    {
     "name": "stdout",
     "output_type": "stream",
     "text": [
      "[SCRATCH] Epoch 4/8 AUC=0.78117 ACC=0.6946 (best 0.78117, patience 0/3)\n"
     ]
    },
    {
     "name": "stderr",
     "output_type": "stream",
     "text": [
      "                                                          \r"
     ]
    },
    {
     "name": "stdout",
     "output_type": "stream",
     "text": [
      "[SCRATCH] Epoch 5/8 AUC=0.78532 ACC=0.6921 (best 0.78532, patience 0/3)\n"
     ]
    },
    {
     "name": "stderr",
     "output_type": "stream",
     "text": [
      "                                                          \r"
     ]
    },
    {
     "name": "stdout",
     "output_type": "stream",
     "text": [
      "[SCRATCH] Epoch 6/8 AUC=0.77806 ACC=0.6970 (best 0.78532, patience 1/3)\n"
     ]
    },
    {
     "name": "stderr",
     "output_type": "stream",
     "text": [
      "                                                          \r"
     ]
    },
    {
     "name": "stdout",
     "output_type": "stream",
     "text": [
      "[SCRATCH] Epoch 7/8 AUC=0.78124 ACC=0.7094 (best 0.78532, patience 2/3)\n"
     ]
    },
    {
     "name": "stderr",
     "output_type": "stream",
     "text": [
      "                                                          \r"
     ]
    },
    {
     "name": "stdout",
     "output_type": "stream",
     "text": [
      "[SCRATCH] Epoch 8/8 AUC=0.76687 ACC=0.6798 (best 0.78532, patience 3/3)\n",
      "Early stopping: no improvement.\n",
      "\n",
      "=== Trial 69/200 | idx=95 ===\n",
      "{'seq_len': 256, 'emb_dim': 192, 'conv_blocks': 2, 'channels_start': 128, 'channel_growth': 'x1.5', 'kernel_sizes': '3-5-7', 'dropout': 0.2, 'weight_decay': 0.0001, 'label_smoothing': 0.03, 'learning_rate': 0.0008, 'batch_size': 128, 'epochs': 8, 'loss_fn': 'bce_logits'}\n"
     ]
    },
    {
     "name": "stderr",
     "output_type": "stream",
     "text": [
      "                                                          \r"
     ]
    },
    {
     "name": "stdout",
     "output_type": "stream",
     "text": [
      "[SCRATCH] Epoch 1/8 AUC=0.74993 ACC=0.5690 (best 0.74993, patience 0/3)\n"
     ]
    },
    {
     "name": "stderr",
     "output_type": "stream",
     "text": [
      "                                                          \r"
     ]
    },
    {
     "name": "stdout",
     "output_type": "stream",
     "text": [
      "[SCRATCH] Epoch 2/8 AUC=0.78590 ACC=0.6429 (best 0.78590, patience 0/3)\n"
     ]
    },
    {
     "name": "stderr",
     "output_type": "stream",
     "text": [
      "                                                          \r"
     ]
    },
    {
     "name": "stdout",
     "output_type": "stream",
     "text": [
      "[SCRATCH] Epoch 3/8 AUC=0.78223 ACC=0.7020 (best 0.78590, patience 1/3)\n"
     ]
    },
    {
     "name": "stderr",
     "output_type": "stream",
     "text": [
      "                                                          \r"
     ]
    },
    {
     "name": "stdout",
     "output_type": "stream",
     "text": [
      "[SCRATCH] Epoch 4/8 AUC=0.79167 ACC=0.6847 (best 0.79167, patience 0/3)\n"
     ]
    },
    {
     "name": "stderr",
     "output_type": "stream",
     "text": [
      "                                                          \r"
     ]
    },
    {
     "name": "stdout",
     "output_type": "stream",
     "text": [
      "[SCRATCH] Epoch 5/8 AUC=0.79133 ACC=0.7020 (best 0.79167, patience 1/3)\n"
     ]
    },
    {
     "name": "stderr",
     "output_type": "stream",
     "text": [
      "                                                          \r"
     ]
    },
    {
     "name": "stdout",
     "output_type": "stream",
     "text": [
      "[SCRATCH] Epoch 6/8 AUC=0.77932 ACC=0.7069 (best 0.79167, patience 2/3)\n"
     ]
    },
    {
     "name": "stderr",
     "output_type": "stream",
     "text": [
      "                                                          \r"
     ]
    },
    {
     "name": "stdout",
     "output_type": "stream",
     "text": [
      "[SCRATCH] Epoch 7/8 AUC=0.78546 ACC=0.7020 (best 0.79167, patience 3/3)\n",
      "Early stopping: no improvement.\n",
      "\n",
      "=== Trial 70/200 | idx=96 ===\n",
      "{'seq_len': 200, 'emb_dim': 128, 'conv_blocks': 1, 'channels_start': 128, 'channel_growth': 'x1.5', 'kernel_sizes': '3-5-7', 'dropout': 0.25, 'weight_decay': 0.0001, 'label_smoothing': 0.0, 'learning_rate': 0.001, 'batch_size': 128, 'epochs': 8, 'loss_fn': 'bce_logits'}\n"
     ]
    },
    {
     "name": "stderr",
     "output_type": "stream",
     "text": [
      "                                                          \r"
     ]
    },
    {
     "name": "stdout",
     "output_type": "stream",
     "text": [
      "[SCRATCH] Epoch 1/8 AUC=0.74272 ACC=0.6872 (best 0.74272, patience 0/3)\n"
     ]
    },
    {
     "name": "stderr",
     "output_type": "stream",
     "text": [
      "                                                          \r"
     ]
    },
    {
     "name": "stdout",
     "output_type": "stream",
     "text": [
      "[SCRATCH] Epoch 2/8 AUC=0.76660 ACC=0.7044 (best 0.76660, patience 0/3)\n"
     ]
    },
    {
     "name": "stderr",
     "output_type": "stream",
     "text": [
      "                                                          \r"
     ]
    },
    {
     "name": "stdout",
     "output_type": "stream",
     "text": [
      "[SCRATCH] Epoch 3/8 AUC=0.77468 ACC=0.6995 (best 0.77468, patience 0/3)\n"
     ]
    },
    {
     "name": "stderr",
     "output_type": "stream",
     "text": [
      "                                                          \r"
     ]
    },
    {
     "name": "stdout",
     "output_type": "stream",
     "text": [
      "[SCRATCH] Epoch 4/8 AUC=0.77199 ACC=0.6872 (best 0.77468, patience 1/3)\n"
     ]
    },
    {
     "name": "stderr",
     "output_type": "stream",
     "text": [
      "                                                          \r"
     ]
    },
    {
     "name": "stdout",
     "output_type": "stream",
     "text": [
      "[SCRATCH] Epoch 5/8 AUC=0.77799 ACC=0.6995 (best 0.77799, patience 0/3)\n"
     ]
    },
    {
     "name": "stderr",
     "output_type": "stream",
     "text": [
      "                                                          \r"
     ]
    },
    {
     "name": "stdout",
     "output_type": "stream",
     "text": [
      "[SCRATCH] Epoch 6/8 AUC=0.77726 ACC=0.6921 (best 0.77799, patience 1/3)\n"
     ]
    },
    {
     "name": "stderr",
     "output_type": "stream",
     "text": [
      "                                                          \r"
     ]
    },
    {
     "name": "stdout",
     "output_type": "stream",
     "text": [
      "[SCRATCH] Epoch 7/8 AUC=0.78388 ACC=0.6970 (best 0.78388, patience 0/3)\n"
     ]
    },
    {
     "name": "stderr",
     "output_type": "stream",
     "text": [
      "                                                          \r"
     ]
    },
    {
     "name": "stdout",
     "output_type": "stream",
     "text": [
      "[SCRATCH] Epoch 8/8 AUC=0.78109 ACC=0.7020 (best 0.78388, patience 1/3)\n",
      "\n",
      "=== Trial 71/200 | idx=97 ===\n",
      "{'seq_len': 200, 'emb_dim': 128, 'conv_blocks': 1, 'channels_start': 128, 'channel_growth': 'x1.5', 'kernel_sizes': '3-5-7', 'dropout': 0.25, 'weight_decay': 0.0001, 'label_smoothing': 0.03, 'learning_rate': 0.0008, 'batch_size': 64, 'epochs': 8, 'loss_fn': 'bce_logits'}\n"
     ]
    },
    {
     "name": "stderr",
     "output_type": "stream",
     "text": [
      "                                                          \r"
     ]
    },
    {
     "name": "stdout",
     "output_type": "stream",
     "text": [
      "[SCRATCH] Epoch 1/8 AUC=0.71143 ACC=0.6601 (best 0.71143, patience 0/3)\n"
     ]
    },
    {
     "name": "stderr",
     "output_type": "stream",
     "text": [
      "                                                          \r"
     ]
    },
    {
     "name": "stdout",
     "output_type": "stream",
     "text": [
      "[SCRATCH] Epoch 2/8 AUC=0.75653 ACC=0.6946 (best 0.75653, patience 0/3)\n"
     ]
    },
    {
     "name": "stderr",
     "output_type": "stream",
     "text": [
      "                                                          \r"
     ]
    },
    {
     "name": "stdout",
     "output_type": "stream",
     "text": [
      "[SCRATCH] Epoch 3/8 AUC=0.76915 ACC=0.6970 (best 0.76915, patience 0/3)\n"
     ]
    },
    {
     "name": "stderr",
     "output_type": "stream",
     "text": [
      "                                                          \r"
     ]
    },
    {
     "name": "stdout",
     "output_type": "stream",
     "text": [
      "[SCRATCH] Epoch 4/8 AUC=0.78284 ACC=0.7020 (best 0.78284, patience 0/3)\n"
     ]
    },
    {
     "name": "stderr",
     "output_type": "stream",
     "text": [
      "                                                          \r"
     ]
    },
    {
     "name": "stdout",
     "output_type": "stream",
     "text": [
      "[SCRATCH] Epoch 5/8 AUC=0.78612 ACC=0.6921 (best 0.78612, patience 0/3)\n"
     ]
    },
    {
     "name": "stderr",
     "output_type": "stream",
     "text": [
      "                                                          \r"
     ]
    },
    {
     "name": "stdout",
     "output_type": "stream",
     "text": [
      "[SCRATCH] Epoch 6/8 AUC=0.78269 ACC=0.6970 (best 0.78612, patience 1/3)\n"
     ]
    },
    {
     "name": "stderr",
     "output_type": "stream",
     "text": [
      "                                                          \r"
     ]
    },
    {
     "name": "stdout",
     "output_type": "stream",
     "text": [
      "[SCRATCH] Epoch 7/8 AUC=0.78342 ACC=0.6970 (best 0.78612, patience 2/3)\n"
     ]
    },
    {
     "name": "stderr",
     "output_type": "stream",
     "text": [
      "                                                          \r"
     ]
    },
    {
     "name": "stdout",
     "output_type": "stream",
     "text": [
      "[SCRATCH] Epoch 8/8 AUC=0.77808 ACC=0.7020 (best 0.78612, patience 3/3)\n",
      "Early stopping: no improvement.\n",
      "\n",
      "=== Trial 72/200 | idx=98 ===\n",
      "{'seq_len': 256, 'emb_dim': 128, 'conv_blocks': 2, 'channels_start': 160, 'channel_growth': 'x1.5', 'kernel_sizes': '3-5-7', 'dropout': 0.25, 'weight_decay': 0.0002, 'label_smoothing': 0.03, 'learning_rate': 0.0008, 'batch_size': 128, 'epochs': 8, 'loss_fn': 'bce_logits'}\n"
     ]
    },
    {
     "name": "stderr",
     "output_type": "stream",
     "text": [
      "                                                          \r"
     ]
    },
    {
     "name": "stdout",
     "output_type": "stream",
     "text": [
      "[SCRATCH] Epoch 1/8 AUC=0.70600 ACC=0.4926 (best 0.70600, patience 0/3)\n"
     ]
    },
    {
     "name": "stderr",
     "output_type": "stream",
     "text": [
      "                                                          \r"
     ]
    },
    {
     "name": "stdout",
     "output_type": "stream",
     "text": [
      "[SCRATCH] Epoch 2/8 AUC=0.77367 ACC=0.6601 (best 0.77367, patience 0/3)\n"
     ]
    },
    {
     "name": "stderr",
     "output_type": "stream",
     "text": [
      "                                                          \r"
     ]
    },
    {
     "name": "stdout",
     "output_type": "stream",
     "text": [
      "[SCRATCH] Epoch 3/8 AUC=0.78430 ACC=0.6281 (best 0.78430, patience 0/3)\n"
     ]
    },
    {
     "name": "stderr",
     "output_type": "stream",
     "text": [
      "                                                          \r"
     ]
    },
    {
     "name": "stdout",
     "output_type": "stream",
     "text": [
      "[SCRATCH] Epoch 4/8 AUC=0.78658 ACC=0.7044 (best 0.78658, patience 0/3)\n"
     ]
    },
    {
     "name": "stderr",
     "output_type": "stream",
     "text": [
      "                                                          \r"
     ]
    },
    {
     "name": "stdout",
     "output_type": "stream",
     "text": [
      "[SCRATCH] Epoch 5/8 AUC=0.78240 ACC=0.6823 (best 0.78658, patience 1/3)\n"
     ]
    },
    {
     "name": "stderr",
     "output_type": "stream",
     "text": [
      "                                                          \r"
     ]
    },
    {
     "name": "stdout",
     "output_type": "stream",
     "text": [
      "[SCRATCH] Epoch 6/8 AUC=0.78240 ACC=0.5788 (best 0.78658, patience 2/3)\n"
     ]
    },
    {
     "name": "stderr",
     "output_type": "stream",
     "text": [
      "                                                          \r"
     ]
    },
    {
     "name": "stdout",
     "output_type": "stream",
     "text": [
      "[SCRATCH] Epoch 7/8 AUC=0.77197 ACC=0.7167 (best 0.78658, patience 3/3)\n",
      "Early stopping: no improvement.\n",
      "\n",
      "=== Trial 73/200 | idx=99 ===\n",
      "{'seq_len': 256, 'emb_dim': 128, 'conv_blocks': 2, 'channels_start': 160, 'channel_growth': 'x1.5', 'kernel_sizes': '3-5-7', 'dropout': 0.2, 'weight_decay': 0.0002, 'label_smoothing': 0.03, 'learning_rate': 0.0012, 'batch_size': 128, 'epochs': 8, 'loss_fn': 'bce_logits'}\n"
     ]
    },
    {
     "name": "stderr",
     "output_type": "stream",
     "text": [
      "                                                          \r"
     ]
    },
    {
     "name": "stdout",
     "output_type": "stream",
     "text": [
      "[SCRATCH] Epoch 1/8 AUC=0.68485 ACC=0.4926 (best 0.68485, patience 0/3)\n"
     ]
    },
    {
     "name": "stderr",
     "output_type": "stream",
     "text": [
      "                                                          \r"
     ]
    },
    {
     "name": "stdout",
     "output_type": "stream",
     "text": [
      "[SCRATCH] Epoch 2/8 AUC=0.78546 ACC=0.6847 (best 0.78546, patience 0/3)\n"
     ]
    },
    {
     "name": "stderr",
     "output_type": "stream",
     "text": [
      "                                                          \r"
     ]
    },
    {
     "name": "stdout",
     "output_type": "stream",
     "text": [
      "[SCRATCH] Epoch 3/8 AUC=0.80410 ACC=0.6576 (best 0.80410, patience 0/3)\n"
     ]
    },
    {
     "name": "stderr",
     "output_type": "stream",
     "text": [
      "                                                          \r"
     ]
    },
    {
     "name": "stdout",
     "output_type": "stream",
     "text": [
      "[SCRATCH] Epoch 4/8 AUC=0.79704 ACC=0.7291 (best 0.80410, patience 1/3)\n"
     ]
    },
    {
     "name": "stderr",
     "output_type": "stream",
     "text": [
      "                                                          \r"
     ]
    },
    {
     "name": "stdout",
     "output_type": "stream",
     "text": [
      "[SCRATCH] Epoch 5/8 AUC=0.79663 ACC=0.7118 (best 0.80410, patience 2/3)\n"
     ]
    },
    {
     "name": "stderr",
     "output_type": "stream",
     "text": [
      "                                                          \r"
     ]
    },
    {
     "name": "stdout",
     "output_type": "stream",
     "text": [
      "[SCRATCH] Epoch 6/8 AUC=0.79388 ACC=0.7094 (best 0.80410, patience 3/3)\n",
      "Early stopping: no improvement.\n",
      "\n",
      "=== Trial 74/200 | idx=100 ===\n",
      "{'seq_len': 256, 'emb_dim': 128, 'conv_blocks': 1, 'channels_start': 160, 'channel_growth': 'x1.5', 'kernel_sizes': '3-5-7', 'dropout': 0.2, 'weight_decay': 0.0002, 'label_smoothing': 0.03, 'learning_rate': 0.001, 'batch_size': 128, 'epochs': 8, 'loss_fn': 'bce_logits'}\n"
     ]
    },
    {
     "name": "stderr",
     "output_type": "stream",
     "text": [
      "                                                          \r"
     ]
    },
    {
     "name": "stdout",
     "output_type": "stream",
     "text": [
      "[SCRATCH] Epoch 1/8 AUC=0.74580 ACC=0.6650 (best 0.74580, patience 0/3)\n"
     ]
    },
    {
     "name": "stderr",
     "output_type": "stream",
     "text": [
      "                                                          \r"
     ]
    },
    {
     "name": "stdout",
     "output_type": "stream",
     "text": [
      "[SCRATCH] Epoch 2/8 AUC=0.76532 ACC=0.7094 (best 0.76532, patience 0/3)\n"
     ]
    },
    {
     "name": "stderr",
     "output_type": "stream",
     "text": [
      "                                                          \r"
     ]
    },
    {
     "name": "stdout",
     "output_type": "stream",
     "text": [
      "[SCRATCH] Epoch 3/8 AUC=0.78175 ACC=0.7389 (best 0.78175, patience 0/3)\n"
     ]
    },
    {
     "name": "stderr",
     "output_type": "stream",
     "text": [
      "                                                          \r"
     ]
    },
    {
     "name": "stdout",
     "output_type": "stream",
     "text": [
      "[SCRATCH] Epoch 4/8 AUC=0.79313 ACC=0.7365 (best 0.79313, patience 0/3)\n"
     ]
    },
    {
     "name": "stderr",
     "output_type": "stream",
     "text": [
      "                                                          \r"
     ]
    },
    {
     "name": "stdout",
     "output_type": "stream",
     "text": [
      "[SCRATCH] Epoch 5/8 AUC=0.78240 ACC=0.7217 (best 0.79313, patience 1/3)\n"
     ]
    },
    {
     "name": "stderr",
     "output_type": "stream",
     "text": [
      "                                                          \r"
     ]
    },
    {
     "name": "stdout",
     "output_type": "stream",
     "text": [
      "[SCRATCH] Epoch 6/8 AUC=0.78160 ACC=0.7094 (best 0.79313, patience 2/3)\n"
     ]
    },
    {
     "name": "stderr",
     "output_type": "stream",
     "text": [
      "                                                          \r"
     ]
    },
    {
     "name": "stdout",
     "output_type": "stream",
     "text": [
      "[SCRATCH] Epoch 7/8 AUC=0.78672 ACC=0.6946 (best 0.79313, patience 3/3)\n",
      "Early stopping: no improvement.\n",
      "\n",
      "=== Trial 75/200 | idx=101 ===\n",
      "{'seq_len': 224, 'emb_dim': 128, 'conv_blocks': 2, 'channels_start': 160, 'channel_growth': 'x1.5', 'kernel_sizes': '3-5-7', 'dropout': 0.2, 'weight_decay': 0.0002, 'label_smoothing': 0.0, 'learning_rate': 0.0012, 'batch_size': 64, 'epochs': 8, 'loss_fn': 'bce_logits'}\n"
     ]
    },
    {
     "name": "stderr",
     "output_type": "stream",
     "text": [
      "                                                          \r"
     ]
    },
    {
     "name": "stdout",
     "output_type": "stream",
     "text": [
      "[SCRATCH] Epoch 1/8 AUC=0.76915 ACC=0.5714 (best 0.76915, patience 0/3)\n"
     ]
    },
    {
     "name": "stderr",
     "output_type": "stream",
     "text": [
      "                                                          \r"
     ]
    },
    {
     "name": "stdout",
     "output_type": "stream",
     "text": [
      "[SCRATCH] Epoch 2/8 AUC=0.78704 ACC=0.7118 (best 0.78704, patience 0/3)\n"
     ]
    },
    {
     "name": "stderr",
     "output_type": "stream",
     "text": [
      "                                                          \r"
     ]
    },
    {
     "name": "stdout",
     "output_type": "stream",
     "text": [
      "[SCRATCH] Epoch 3/8 AUC=0.78097 ACC=0.7241 (best 0.78704, patience 1/3)\n"
     ]
    },
    {
     "name": "stderr",
     "output_type": "stream",
     "text": [
      "                                                          \r"
     ]
    },
    {
     "name": "stdout",
     "output_type": "stream",
     "text": [
      "[SCRATCH] Epoch 4/8 AUC=0.79517 ACC=0.6897 (best 0.79517, patience 0/3)\n"
     ]
    },
    {
     "name": "stderr",
     "output_type": "stream",
     "text": [
      "                                                          \r"
     ]
    },
    {
     "name": "stdout",
     "output_type": "stream",
     "text": [
      "[SCRATCH] Epoch 5/8 AUC=0.76155 ACC=0.6995 (best 0.79517, patience 1/3)\n"
     ]
    },
    {
     "name": "stderr",
     "output_type": "stream",
     "text": [
      "                                                          \r"
     ]
    },
    {
     "name": "stdout",
     "output_type": "stream",
     "text": [
      "[SCRATCH] Epoch 6/8 AUC=0.77299 ACC=0.6773 (best 0.79517, patience 2/3)\n"
     ]
    },
    {
     "name": "stderr",
     "output_type": "stream",
     "text": [
      "                                                          \r"
     ]
    },
    {
     "name": "stdout",
     "output_type": "stream",
     "text": [
      "[SCRATCH] Epoch 7/8 AUC=0.78568 ACC=0.7241 (best 0.79517, patience 3/3)\n",
      "Early stopping: no improvement.\n",
      "\n",
      "=== Trial 76/200 | idx=102 ===\n",
      "{'seq_len': 256, 'emb_dim': 128, 'conv_blocks': 2, 'channels_start': 128, 'channel_growth': 'x1.5', 'kernel_sizes': '3-5-7', 'dropout': 0.2, 'weight_decay': 0.0002, 'label_smoothing': 0.03, 'learning_rate': 0.0012, 'batch_size': 128, 'epochs': 8, 'loss_fn': 'bce_logits'}\n"
     ]
    },
    {
     "name": "stderr",
     "output_type": "stream",
     "text": [
      "                                                          \r"
     ]
    },
    {
     "name": "stdout",
     "output_type": "stream",
     "text": [
      "[SCRATCH] Epoch 1/8 AUC=0.73949 ACC=0.5172 (best 0.73949, patience 0/3)\n"
     ]
    },
    {
     "name": "stderr",
     "output_type": "stream",
     "text": [
      "                                                          \r"
     ]
    },
    {
     "name": "stdout",
     "output_type": "stream",
     "text": [
      "[SCRATCH] Epoch 2/8 AUC=0.77184 ACC=0.7192 (best 0.77184, patience 0/3)\n"
     ]
    },
    {
     "name": "stderr",
     "output_type": "stream",
     "text": [
      "                                                          \r"
     ]
    },
    {
     "name": "stdout",
     "output_type": "stream",
     "text": [
      "[SCRATCH] Epoch 3/8 AUC=0.73694 ACC=0.6773 (best 0.77184, patience 1/3)\n"
     ]
    },
    {
     "name": "stderr",
     "output_type": "stream",
     "text": [
      "                                                          \r"
     ]
    },
    {
     "name": "stdout",
     "output_type": "stream",
     "text": [
      "[SCRATCH] Epoch 4/8 AUC=0.75095 ACC=0.6232 (best 0.77184, patience 2/3)\n"
     ]
    },
    {
     "name": "stderr",
     "output_type": "stream",
     "text": [
      "                                                          \r"
     ]
    },
    {
     "name": "stdout",
     "output_type": "stream",
     "text": [
      "[SCRATCH] Epoch 5/8 AUC=0.74726 ACC=0.6010 (best 0.77184, patience 3/3)\n",
      "Early stopping: no improvement.\n",
      "\n",
      "=== Trial 77/200 | idx=103 ===\n",
      "{'seq_len': 224, 'emb_dim': 192, 'conv_blocks': 1, 'channels_start': 128, 'channel_growth': 'x1.5', 'kernel_sizes': '3-5-7', 'dropout': 0.2, 'weight_decay': 0.0002, 'label_smoothing': 0.0, 'learning_rate': 0.0012, 'batch_size': 128, 'epochs': 8, 'loss_fn': 'bce_logits'}\n"
     ]
    },
    {
     "name": "stderr",
     "output_type": "stream",
     "text": [
      "                                                          \r"
     ]
    },
    {
     "name": "stdout",
     "output_type": "stream",
     "text": [
      "[SCRATCH] Epoch 1/8 AUC=0.75546 ACC=0.6724 (best 0.75546, patience 0/3)\n"
     ]
    },
    {
     "name": "stderr",
     "output_type": "stream",
     "text": [
      "                                                          \r"
     ]
    },
    {
     "name": "stdout",
     "output_type": "stream",
     "text": [
      "[SCRATCH] Epoch 2/8 AUC=0.78024 ACC=0.6995 (best 0.78024, patience 0/3)\n"
     ]
    },
    {
     "name": "stderr",
     "output_type": "stream",
     "text": [
      "                                                          \r"
     ]
    },
    {
     "name": "stdout",
     "output_type": "stream",
     "text": [
      "[SCRATCH] Epoch 3/8 AUC=0.80279 ACC=0.7389 (best 0.80279, patience 0/3)\n"
     ]
    },
    {
     "name": "stderr",
     "output_type": "stream",
     "text": [
      "                                                          \r"
     ]
    },
    {
     "name": "stdout",
     "output_type": "stream",
     "text": [
      "[SCRATCH] Epoch 4/8 AUC=0.80425 ACC=0.7217 (best 0.80425, patience 0/3)\n"
     ]
    },
    {
     "name": "stderr",
     "output_type": "stream",
     "text": [
      "                                                          \r"
     ]
    },
    {
     "name": "stdout",
     "output_type": "stream",
     "text": [
      "[SCRATCH] Epoch 5/8 AUC=0.79510 ACC=0.7217 (best 0.80425, patience 1/3)\n"
     ]
    },
    {
     "name": "stderr",
     "output_type": "stream",
     "text": [
      "Epoch 6/8:   0%|          | 0/13 [00:00<?, ?it/s]"
     ]
    }
   ],
   "source": [
    "# ============================================================\n",
    "# Jigsaw — SCRATCH Hyperparameter Tuning (Grid/Random, Resumable)\n",
    "# * Windows/VS Code/Jupyter safe DataLoader (num_workers=0 on Windows)\n",
    "# * tqdm console progress bars (no ipywidgets errors)\n",
    "# * Early stopping\n",
    "# * TensorBoard logging (train loss, val AUC/ACC, hparams snapshot)\n",
    "# * Skips combos already logged in trial_results_scratch.csv\n",
    "# * Optional per-trial checkpoints\n",
    "# * Best trial of the session writes submission_scratch.(csv|xlsx)\n",
    "# ============================================================\n",
    "\n",
    "import os, re, json, time, random, hashlib, platform\n",
    "from datetime import datetime, timezone\n",
    "from itertools import product\n",
    "from typing import Dict, Any, List\n",
    "\n",
    "import numpy as np\n",
    "import pandas as pd\n",
    "\n",
    "import torch\n",
    "import torch.nn as nn\n",
    "import torch.nn.functional as F\n",
    "from torch.utils.data import Dataset, DataLoader\n",
    "\n",
    "from sklearn.model_selection import train_test_split\n",
    "from sklearn.metrics import roc_auc_score, accuracy_score\n",
    "\n",
    "# ------------------- Paths & switches -------------------\n",
    "TRAIN_PATH = \"train.csv\"\n",
    "TEST_PATH  = \"test.csv\"\n",
    "SUB_PATH   = \"sample_submission.csv\"\n",
    "\n",
    "RESULTS_CSV = \"trial_results_scratch.csv\"    # resumable log (append)\n",
    "CHECKPOINT_DIR = \"checkpoints_scratch\"       # per-trial .pt files\n",
    "SAVE_CHECKPOINTS = True\n",
    "\n",
    "# TensorBoard\n",
    "ENABLE_TENSORBOARD = True                    # turn on/off\n",
    "TB_LOGDIR_BASE = \"tb_scratch_tune\"           # tensorboard --logdir tb_scratch_tune\n",
    "TB_WRITE_HPARAMS = True\n",
    "\n",
    "EARLY_STOP_PATIENCE = 3                      # epochs without AUC gain before stopping (0 to disable)\n",
    "MAX_TRIALS_PER_RUN  = 10                     # safety cap per session\n",
    "SAVE_BEST_SESSION_SUBMISSION = True\n",
    "SAVE_EVERY_TRIAL_SUBMISSION = True  # NEW: Save submission after every trial\n",
    "SUBMISSION_CSV  = \"submission_scratch.csv\"\n",
    "SUBMISSION_XLSX = \"submission_scratch.xlsx\"\n",
    "\n",
    "# --- IO / dataloader runtime safety (Windows/Jupyter safe) ---\n",
    "IS_WINDOWS = (os.name == \"nt\")\n",
    "NUM_WORKERS = 0 if IS_WINDOWS else 2         # KEY: avoid multiprocessing on Windows\n",
    "PERSISTENT_WORKERS = False\n",
    "PIN_MEMORY = torch.cuda.is_available()\n",
    "LOG_EVERY_N = 50                              # fallback batch logging if tqdm unavailable\n",
    "\n",
    "# Progress bars: force console (no ipywidgets)\n",
    "FORCE_CONSOLE_TQDM = True\n",
    "if FORCE_CONSOLE_TQDM:\n",
    "    os.environ[\"TQDM_NOTEBOOK\"] = \"0\"\n",
    "    try:\n",
    "        from tqdm import tqdm  # console bar\n",
    "    except Exception:\n",
    "        tqdm = None\n",
    "else:\n",
    "    tqdm = None\n",
    "\n",
    "DEVICE = \"cuda\" if torch.cuda.is_available() else \"cpu\"\n",
    "print(\"Device:\", DEVICE)\n",
    "\n",
    "# ------------------- Load data -------------------\n",
    "assert os.path.exists(TRAIN_PATH) and os.path.exists(TEST_PATH) and os.path.exists(SUB_PATH), \\\n",
    "    \"Place train.csv, test.csv, sample_submission.csv in the working directory.\"\n",
    "\n",
    "TEXT_COLS = ['body','rule','subreddit','positive_example_1','positive_example_2','negative_example_1','negative_example_2']\n",
    "train_df = pd.read_csv(TRAIN_PATH)\n",
    "test_df  = pd.read_csv(TEST_PATH)\n",
    "\n",
    "for df in [train_df, test_df]:\n",
    "    for c in TEXT_COLS:\n",
    "        if c in df.columns:\n",
    "            df[c] = df[c].fillna(\"\").astype(str).str.strip()\n",
    "\n",
    "def build_input_template(row):\n",
    "    return \" [SEP] \".join([\n",
    "        f\"[COMMENT] {row['body']}\",\n",
    "        f\"[RULE] {row['rule']}\",\n",
    "        f\"[POS_EX_1] {row['positive_example_1']}\",\n",
    "        f\"[POS_EX_2] {row['positive_example_2']}\",\n",
    "        f\"[NEG_EX_1] {row['negative_example_1']}\",\n",
    "        f\"[NEG_EX_2] {row['negative_example_2']}\",\n",
    "        f\"[SUBREDDIT] r/{row['subreddit']}\"\n",
    "    ])\n",
    "\n",
    "if \"input_text\" not in train_df.columns:\n",
    "    train_df[\"input_text\"] = train_df.apply(build_input_template, axis=1)\n",
    "    test_df[\"input_text\"]  = test_df.apply(build_input_template, axis=1)\n",
    "\n",
    "# ------------------- Utils -------------------\n",
    "def set_seed(seed:int=42):\n",
    "    random.seed(seed); np.random.seed(seed); torch.manual_seed(seed)\n",
    "    if torch.cuda.is_available(): torch.cuda.manual_seed_all(seed)\n",
    "\n",
    "def now_iso(): return datetime.now(timezone.utc).isoformat()\n",
    "\n",
    "def combo_key(params:Dict[str,Any])->str:\n",
    "    s = json.dumps({k:params[k] for k in sorted(params)}, sort_keys=True)\n",
    "    return hashlib.md5(s.encode(\"utf-8\")).hexdigest()\n",
    "\n",
    "def load_done_keys(path:str)->set:\n",
    "    if not os.path.exists(path): return set()\n",
    "    try:\n",
    "        df = pd.read_csv(path)\n",
    "        return set(df[\"key\"].astype(str).tolist()) if \"key\" in df.columns else set()\n",
    "    except Exception:\n",
    "        return set()\n",
    "\n",
    "def append_result_row(row:Dict[str,Any], path=RESULTS_CSV):\n",
    "    df = pd.DataFrame([row], columns=list(row.keys()))\n",
    "    if os.path.exists(path): df.to_csv(path, mode=\"a\", header=False, index=False)\n",
    "    else:                    df.to_csv(path, index=False)\n",
    "\n",
    "os.makedirs(CHECKPOINT_DIR, exist_ok=True)\n",
    "os.makedirs(TB_LOGDIR_BASE, exist_ok=True)\n",
    "\n",
    "# ------------------- Tokenizer/Vocab -------------------\n",
    "TOKEN_RE = re.compile(r\"[A-Za-z0-9_']+\")\n",
    "def tokenize(s): return TOKEN_RE.findall((s or \"\").lower())\n",
    "\n",
    "VOCAB_CACHE: Dict[int, Dict[str,int]] = {}\n",
    "def build_vocab(df:pd.DataFrame, vocab_size:int=30000)->Dict[str,int]:\n",
    "    if vocab_size in VOCAB_CACHE: return VOCAB_CACHE[vocab_size]\n",
    "    from collections import Counter\n",
    "    cnt = Counter()\n",
    "    for col in [\"body\",\"rule\"]:\n",
    "        for txt in df[col].tolist():\n",
    "            cnt.update(tokenize(txt))\n",
    "    vocab = {\"<pad>\":0, \"<unk>\":1}\n",
    "    for i,(tok,_) in enumerate(cnt.most_common(vocab_size-2), start=2):\n",
    "        vocab[tok] = i\n",
    "    VOCAB_CACHE[vocab_size] = vocab\n",
    "    return vocab\n",
    "\n",
    "def encode_text(s, vocab, max_len):\n",
    "    ids = [vocab.get(t,1) for t in tokenize(s)][:max_len]\n",
    "    if len(ids) < max_len: ids += [0]*(max_len-len(ids))\n",
    "    return np.array(ids, dtype=np.int64)\n",
    "\n",
    "class ScratchDataset(Dataset):\n",
    "    def __init__(self, df, vocab, seq_len, with_labels=True):\n",
    "        self.df=df.reset_index(drop=True); self.vocab=vocab; self.seq_len=seq_len; self.with_labels=with_labels\n",
    "    def __len__(self): return len(self.df)\n",
    "    def __getitem__(self, i):\n",
    "        r = self.df.loc[i]\n",
    "        half = self.seq_len//2\n",
    "        x = np.concatenate([encode_text(r[\"body\"], self.vocab, half),\n",
    "                            encode_text(r[\"rule\"], self.vocab, half)])\n",
    "        if self.with_labels:\n",
    "            y = int(r[\"rule_violation\"])\n",
    "            return torch.tensor(x, dtype=torch.long), torch.tensor(y, dtype=torch.float32)\n",
    "        return torch.tensor(x, dtype=torch.long)\n",
    "\n",
    "def make_dataloader(ds: Dataset, batch_size: int, shuffle: bool) -> DataLoader:\n",
    "    kwargs = dict(batch_size=batch_size, shuffle=shuffle, num_workers=NUM_WORKERS)\n",
    "    if NUM_WORKERS > 0:\n",
    "        kwargs[\"prefetch_factor\"] = 2\n",
    "        kwargs[\"persistent_workers\"] = PERSISTENT_WORKERS\n",
    "    if torch.cuda.is_available():\n",
    "        kwargs[\"pin_memory\"] = PIN_MEMORY\n",
    "    return DataLoader(ds, **kwargs)\n",
    "\n",
    "# ------------------- Model -------------------\n",
    "def parse_kernel_sizes(spec:str):\n",
    "    ks = []\n",
    "    for k in str(spec).split(\"-\"):\n",
    "        k = k.strip()\n",
    "        if k.isdigit(): ks.append(int(k))\n",
    "    return ks or [3,5]\n",
    "\n",
    "def channel_schedule(start:int, blocks:int, growth:str):\n",
    "    chs = [start]\n",
    "    for _ in range(1, blocks):\n",
    "        if growth == \"x1.5\": chs.append(int(round(chs[-1]*1.5)))\n",
    "        elif growth == \"x2\": chs.append(chs[-1]*2)\n",
    "        else:                chs.append(chs[-1])\n",
    "    return chs\n",
    "\n",
    "class TextCNN(nn.Module):\n",
    "    def __init__(self, vocab_size, emb_dim, conv_blocks, channels_start,\n",
    "                 channel_growth, kernel_sizes_spec, use_batchnorm=True,\n",
    "                 pooling=\"max\", dropout=0.2):\n",
    "        super().__init__()\n",
    "        self.emb = nn.Embedding(vocab_size, emb_dim, padding_idx=0)\n",
    "        ks = parse_kernel_sizes(kernel_sizes_spec)\n",
    "        chs = channel_schedule(channels_start, conv_blocks, channel_growth)\n",
    "        self.blocks = nn.ModuleList()\n",
    "        in_ch = emb_dim\n",
    "        for bi in range(conv_blocks):\n",
    "            k = ks[min(bi, len(ks)-1)]\n",
    "            out_ch = chs[bi]\n",
    "            conv = nn.Conv1d(in_ch, out_ch, kernel_size=k, padding=k//2)\n",
    "            bn   = nn.BatchNorm1d(out_ch) if use_batchnorm else nn.Identity()\n",
    "            self.blocks.append(nn.Sequential(conv, bn, nn.ReLU()))\n",
    "            in_ch = out_ch\n",
    "        self.pooling = pooling\n",
    "        self.drop = nn.Dropout(dropout)\n",
    "        self.fc = nn.Linear(in_ch, 1)\n",
    "\n",
    "    def forward(self, x):\n",
    "        e = self.emb(x).transpose(1,2)   # [B,E,L]\n",
    "        h = e\n",
    "        for blk in self.blocks: h = blk(h)\n",
    "        if self.pooling == \"avg\": h = F.adaptive_avg_pool1d(h,1).squeeze(-1)\n",
    "        else:                     h = F.adaptive_max_pool1d(h,1).squeeze(-1)\n",
    "        h = self.drop(h)\n",
    "        return self.fc(h).squeeze(-1)\n",
    "\n",
    "# ------------------- Loss/Optim/Val -------------------\n",
    "class BCEWithLS(nn.Module):\n",
    "    def __init__(self, smoothing=0.0): super().__init__(); self.s=smoothing\n",
    "    def forward(self, logits, targets):\n",
    "        if self.s>0: targets = targets*(1-self.s)+0.5*self.s\n",
    "        return F.binary_cross_entropy_with_logits(logits, targets)\n",
    "\n",
    "class FocalLoss(nn.Module):\n",
    "    def __init__(self, gamma=2.0, smoothing=0.0): super().__init__(); self.g=gamma; self.s=smoothing\n",
    "    def forward(self, logits, targets):\n",
    "        p = torch.sigmoid(logits)\n",
    "        if self.s>0: targets = targets*(1-self.s)+0.5*self.s\n",
    "        loss_pos = -targets * ((1-p)**self.g) * torch.log(torch.clamp(p, 1e-8, 1.0))\n",
    "        loss_neg = -(1-targets) * (p**self.g) * torch.log(torch.clamp(1-p, 1.0-1e-8))\n",
    "        return (loss_pos+loss_neg).mean()\n",
    "\n",
    "def get_loss(name, smoothing):\n",
    "    return FocalLoss(2.0, smoothing) if name==\"focal\" else BCEWithLS(smoothing)\n",
    "\n",
    "def make_optimizer(model, name, lr, weight_decay):\n",
    "    if name == \"adamw\": return torch.optim.AdamW(model.parameters(), lr=lr, weight_decay=weight_decay)\n",
    "    elif name == \"sgd\": return torch.optim.SGD(model.parameters(), lr=lr, momentum=0.9, weight_decay=weight_decay)\n",
    "    else: raise ValueError(f\"Unknown optimizer: {name}\")\n",
    "\n",
    "def _epoch_validate(model, dl, device=\"cpu\"):\n",
    "    model.eval()\n",
    "    preds, ys = [], []\n",
    "    with torch.no_grad():\n",
    "        for xb,yb in dl:\n",
    "            xb,yb = xb.to(device), yb.to(device)\n",
    "            p = torch.sigmoid(model(xb)).detach().cpu().numpy()\n",
    "            preds.append(p); ys.append(yb.detach().cpu().numpy())\n",
    "    preds = np.concatenate(preds); ys = np.concatenate(ys)\n",
    "    auc = roc_auc_score(ys, preds)\n",
    "    acc = accuracy_score(ys.astype(int), (preds >= 0.5).astype(int))\n",
    "    return auc, acc, preds, ys\n",
    "\n",
    "# ------------------- Train one combo -------------------\n",
    "def train_eval_once_with_best(params:dict, enable_tb:bool=False):\n",
    "    set_seed(int(params[\"seed\"]))\n",
    "    vocab = build_vocab(train_df, int(params[\"vocab_size\"]))\n",
    "    seq_len = int(params[\"seq_len\"])\n",
    "    tr, va = train_test_split(train_df, test_size=0.2, random_state=int(params[\"seed\"]),\n",
    "                              stratify=train_df[\"rule_violation\"])\n",
    "    ds_tr = ScratchDataset(tr, vocab, seq_len, True)\n",
    "    ds_va = ScratchDataset(va, vocab, seq_len, True)\n",
    "    dl_tr = make_dataloader(ds_tr, int(params[\"batch_size\"]), True)\n",
    "    dl_va = make_dataloader(ds_va, int(params[\"batch_size\"]), False)\n",
    "\n",
    "    model = TextCNN(\n",
    "        vocab_size=len(vocab),\n",
    "        emb_dim=int(params[\"emb_dim\"]),\n",
    "        conv_blocks=int(params[\"conv_blocks\"]),\n",
    "        channels_start=int(params[\"channels_start\"]),\n",
    "        channel_growth=str(params[\"channel_growth\"]),\n",
    "        kernel_sizes_spec=str(params[\"kernel_sizes\"]),\n",
    "        use_batchnorm=bool(params[\"use_batchnorm\"]),\n",
    "        pooling=str(params[\"pooling\"]),\n",
    "        dropout=float(params[\"dropout\"])\n",
    "    ).to(DEVICE)\n",
    "\n",
    "    opt = make_optimizer(model, str(params[\"optimizer\"]), float(params[\"learning_rate\"]), float(params[\"weight_decay\"]))\n",
    "    loss_fn = get_loss(str(params[\"loss_fn\"]), float(params[\"label_smoothing\"]))\n",
    "    grad_clip = float(params[\"grad_clip\"])\n",
    "    epochs = int(params[\"epochs\"])\n",
    "\n",
    "    pos_weight = None\n",
    "    if str(params[\"class_weighting\"])==\"balanced\":\n",
    "        pos_weight = torch.tensor([(len(tr)-tr[\"rule_violation\"].sum())/(tr[\"rule_violation\"].sum()+1e-6)], device=DEVICE)\n",
    "\n",
    "    tb = None\n",
    "    tb_run_dir = None\n",
    "    if enable_tb:\n",
    "        try:\n",
    "            from torch.utils.tensorboard import SummaryWriter\n",
    "            tag = (\n",
    "                f\"emb{params['emb_dim']}_cb{params['conv_blocks']}_ch{params['channels_start']}\"\n",
    "                f\"_lr{params['learning_rate']}_bs{params['batch_size']}\"\n",
    "            )\n",
    "            tb_run_dir = os.path.join(TB_LOGDIR_BASE, f\"{tag}_{datetime.now(timezone.utc).strftime('%Y%m%dT%H%M%S')}\")\n",
    "            tb = SummaryWriter(log_dir=tb_run_dir)\n",
    "            tb.add_text(\"hparams/json\", json.dumps(params, indent=2))\n",
    "        except Exception as e:\n",
    "            print(\"TensorBoard unavailable:\", e)\n",
    "            tb = None\n",
    "\n",
    "    best_auc, best_acc, best_state = -1.0, 0.0, None\n",
    "    global_step = 0\n",
    "    no_improve = 0\n",
    "\n",
    "    for ep in range(epochs):\n",
    "        model.train()\n",
    "        iterator = dl_tr if tqdm is None else tqdm(dl_tr, leave=False, desc=f\"Epoch {ep+1}/{epochs}\")\n",
    "        for i, (xb, yb) in enumerate(iterator):\n",
    "            xb, yb = xb.to(DEVICE), yb.to(DEVICE)\n",
    "            opt.zero_grad()\n",
    "            logits = model(xb)\n",
    "            loss = (F.binary_cross_entropy_with_logits(logits, yb, pos_weight=pos_weight)\n",
    "                    if pos_weight is not None else loss_fn(logits, yb))\n",
    "            loss.backward()\n",
    "            nn.utils.clip_grad_norm_(model.parameters(), grad_clip)\n",
    "            opt.step()\n",
    "            if tqdm is None and (i % LOG_EVERY_N == 0):\n",
    "                print(f\"  batch {i:>4}/{len(dl_tr)}  loss={float(loss.item()):.4f}\")\n",
    "            if tb:\n",
    "                tb.add_scalar(\"train/loss\", float(loss.item()), global_step)\n",
    "            global_step += 1\n",
    "\n",
    "        auc, acc, _, _ = _epoch_validate(model, dl_va, device=DEVICE)\n",
    "        improved = auc > best_auc + 1e-5\n",
    "        if improved:\n",
    "            best_auc, best_acc = auc, acc\n",
    "            best_state = {k: v.detach().cpu() for k,v in model.state_dict().items()}\n",
    "            no_improve = 0\n",
    "        else:\n",
    "            no_improve += 1\n",
    "\n",
    "        print(f\"[SCRATCH] Epoch {ep+1}/{epochs} AUC={auc:.5f} ACC={acc:.4f} \"\n",
    "              f\"(best {best_auc:.5f}, patience {no_improve}/{EARLY_STOP_PATIENCE})\")\n",
    "        if tb:\n",
    "            tb.add_scalar(\"val/auc\", float(auc), ep)\n",
    "            tb.add_scalar(\"val/accuracy\", float(acc), ep)\n",
    "\n",
    "        if EARLY_STOP_PATIENCE and no_improve >= EARLY_STOP_PATIENCE:\n",
    "            print(\"Early stopping: no improvement.\")\n",
    "            break\n",
    "\n",
    "    if tb:\n",
    "        # Snapshot final best metrics + (optional) hparams summary\n",
    "        tb.add_scalar(\"val/best_auc\", float(best_auc))\n",
    "        tb.add_scalar(\"val/best_acc\", float(best_acc))\n",
    "        if TB_WRITE_HPARAMS:\n",
    "            try:\n",
    "                # TensorBoard HParams (writes to a separate event file inside this run)\n",
    "                from torch.utils.tensorboard.summary import hparams\n",
    "                metric_dict = {\"hparam/best_auc\": float(best_auc), \"hparam/best_acc\": float(best_acc)}\n",
    "                tb.file_writer.add_summary(hparams(params, metric_dict))\n",
    "            except Exception:\n",
    "                pass\n",
    "        tb.close()\n",
    "\n",
    "    return best_auc, best_acc, best_state, vocab\n",
    "\n",
    "# ------------------- Predict test with a state -------------------\n",
    "def predict_test_with_state(best_state, params, vocab, out_csv=\"submission_scratch.csv\"):\n",
    "    seq_len = int(params[\"seq_len\"])\n",
    "    class TestDS(Dataset):\n",
    "        def __init__(self, df, vocab, seq_len):\n",
    "            self.df=df.reset_index(drop=True); self.vocab=vocab; self.seq_len=seq_len\n",
    "        def __len__(self): return len(self.df)\n",
    "        def __getitem__(self, i):\n",
    "            r = self.df.loc[i]\n",
    "            half = self.seq_len//2\n",
    "            x = np.concatenate([encode_text(r[\"body\"], self.vocab, half),\n",
    "                                encode_text(r[\"rule\"], self.vocab, half)])\n",
    "            return torch.tensor(x, dtype=torch.long)\n",
    "\n",
    "    test_ds = TestDS(test_df, vocab, seq_len)\n",
    "    test_dl = make_dataloader(test_ds, int(params[\"batch_size\"]), False)\n",
    "\n",
    "    model = TextCNN(\n",
    "        vocab_size=len(vocab),\n",
    "        emb_dim=int(params[\"emb_dim\"]),\n",
    "        conv_blocks=int(params[\"conv_blocks\"]),\n",
    "        channels_start=int(params[\"channels_start\"]),\n",
    "        channel_growth=str(params[\"channel_growth\"]),\n",
    "        kernel_sizes_spec=str(params[\"kernel_sizes\"]),\n",
    "        use_batchnorm=bool(params[\"use_batchnorm\"]),\n",
    "        pooling=str(params[\"pooling\"]),\n",
    "        dropout=float(params[\"dropout\"])\n",
    "    ).to(DEVICE)\n",
    "    model.load_state_dict({k: v.to(DEVICE) for k,v in best_state.items()})\n",
    "    model.eval()\n",
    "\n",
    "    preds = []\n",
    "    with torch.no_grad():\n",
    "        for xb in test_dl:\n",
    "            xb = xb.to(DEVICE)\n",
    "            p = torch.sigmoid(model(xb)).detach().cpu().numpy()\n",
    "            preds.append(p)\n",
    "    preds = np.concatenate(preds).reshape(-1)\n",
    "\n",
    "    sub = pd.read_csv(SUB_PATH).copy()\n",
    "    if \"row_id\" not in sub.columns:\n",
    "        if \"row_id\" in test_df.columns:\n",
    "            sub = test_df[[\"row_id\"]].copy()\n",
    "        else:\n",
    "            sub[\"row_id\"] = np.arange(len(preds))\n",
    "    sub[\"rule_violation\"] = np.clip(preds, 0, 1)\n",
    "    sub.to_csv(out_csv, index=False)\n",
    "    print(f\"✅ Wrote {out_csv} (rows={len(sub)})\")\n",
    "    return out_csv\n",
    "\n",
    "# ------------------- Param space handling -------------------\n",
    "CONSTANTS_DEFAULT = {\n",
    "    \"vocab_size\": 30000,\n",
    "    \"use_batchnorm\": True,\n",
    "    \"pooling\": \"max\",\n",
    "    \"optimizer\": \"adamw\",\n",
    "    \"grad_clip\": 1.0,\n",
    "    \"scheduler\": \"none\",        # catalog only\n",
    "    \"class_weighting\": \"none\",\n",
    "    \"seed\": 42,\n",
    "}\n",
    "REQ = ['seq_len','emb_dim','conv_blocks','channels_start','channel_growth','kernel_sizes',\n",
    "       'dropout','weight_decay','label_smoothing','learning_rate','batch_size','epochs','loss_fn']\n",
    "INTS   = [\"seq_len\",\"emb_dim\",\"conv_blocks\",\"channels_start\",\"batch_size\",\"epochs\",\"seed\"]\n",
    "FLOATS = [\"dropout\",\"weight_decay\",\"label_smoothing\",\"learning_rate\",\"grad_clip\"]\n",
    "STRS   = [\"channel_growth\",\"kernel_sizes\",\"pooling\",\"optimizer\",\"scheduler\",\"loss_fn\",\"class_weighting\"]\n",
    "BOOLS  = [\"use_batchnorm\"]\n",
    "\n",
    "def coerce_one(p:Dict[str,Any])->Dict[str,Any]:\n",
    "    x = {**CONSTANTS_DEFAULT, **p}\n",
    "    missing = [k for k in REQ if k not in x]\n",
    "    if missing: raise KeyError(f\"Missing required param(s): {missing}\")\n",
    "    for k in INTS:   x[k] = int(x[k])\n",
    "    for k in FLOATS: x[k] = float(x[k])\n",
    "    for k in STRS:   x[k] = str(x[k])\n",
    "    for k in BOOLS:\n",
    "        v = x[k]; x[k] = (v.strip().lower() in (\"true\",\"1\",\"yes\",\"y\")) if isinstance(v,str) else bool(v)\n",
    "    return x\n",
    "\n",
    "def expand_grid(space:Dict[str,List[Any]], shuffle=True, seed=42)->List[Dict[str,Any]]:\n",
    "    from itertools import product\n",
    "    keys = list(space.keys())\n",
    "    vals = [space[k] if isinstance(space[k], (list, tuple)) else [space[k]] for k in keys]\n",
    "    combos = []\n",
    "    for tup in product(*vals):\n",
    "        combos.append({k:v for k,v in zip(keys, tup)})\n",
    "    if shuffle:\n",
    "        rnd = random.Random(seed); rnd.shuffle(combos)\n",
    "    return combos\n",
    "\n",
    "# ------------------- Tuner (grid/random + resume) -------------------\n",
    "def run_param_space(space:Dict[str,List[Any]],\n",
    "                    constants:Dict[str,Any]=None,\n",
    "                    mode:str=\"grid\",        # \"grid\" or \"random\"\n",
    "                    n_samples:int=None,     # only for mode=\"random\"\n",
    "                    max_trials:int=10,\n",
    "                    enable_tb:bool=False,\n",
    "                    save_best_submission:bool=True):\n",
    "    constants = constants or {}\n",
    "    grid = expand_grid(space, shuffle=True, seed=int(constants.get(\"seed\", 42)))\n",
    "    if mode == \"random\" and n_samples is not None:\n",
    "        grid = grid[:n_samples]  # shuffled already\n",
    "\n",
    "    done = load_done_keys(RESULTS_CSV)\n",
    "    print(f\"Total combos: {len(grid)} | Completed in CSV: {len(done)}\")\n",
    "\n",
    "    best_auc = -1.0\n",
    "    best_payload = None\n",
    "    ran = 0\n",
    "    t0 = time.time()\n",
    "\n",
    "    for idx, raw in enumerate(grid):\n",
    "        params = coerce_one({**raw, **constants})\n",
    "        key = combo_key(params)\n",
    "        if key in done:\n",
    "            continue\n",
    "\n",
    "        print(f\"\\n=== Trial {ran+1}/{max_trials} | idx={idx} ===\")\n",
    "        print({k: params[k] for k in REQ})\n",
    "\n",
    "        t1 = time.time()\n",
    "        try:\n",
    "            auc, acc, state, vocab = train_eval_once_with_best(params, enable_tb)\n",
    "            status = \"ok\"\n",
    "            if SAVE_CHECKPOINTS and state is not None:\n",
    "                torch.save({\"state_dict\": state, \"params\": params},\n",
    "                           os.path.join(CHECKPOINT_DIR, f\"{key}.pt\"))\n",
    "        except Exception as e:\n",
    "            auc, acc = float(\"nan\"), float(\"nan\")\n",
    "            state, vocab = None, None\n",
    "            status = f\"error: {e}\"\n",
    "            print(\"❌\", e)\n",
    "        dur = time.time() - t1\n",
    "\n",
    "        row_out = {\n",
    "            \"timestamp\": now_iso(),\n",
    "            \"key\": key,\n",
    "            \"mode\": \"scratch\",\n",
    "            \"device\": DEVICE,\n",
    "            \"python\": platform.python_version(),\n",
    "            \"grid_idx\": idx,\n",
    "            \"val_auc\": auc,\n",
    "            \"val_acc\": acc,\n",
    "            \"runtime_sec\": round(dur,2),\n",
    "            \"status\": status,\n",
    "            **{f\"hp/{k}\": params[k] for k in sorted(params)}\n",
    "        }\n",
    "        append_result_row(row_out, RESULTS_CSV)\n",
    "        ran += 1\n",
    "\n",
    "        if status == \"ok\" and auc > best_auc:\n",
    "            best_auc = auc\n",
    "            best_payload = (state, params, vocab)\n",
    "            \n",
    "            # Save submission after every successful trial (if enabled)\n",
    "            if SAVE_EVERY_TRIAL_SUBMISSION:\n",
    "                trial_submission_csv = f\"submission_trial_{ran:03d}_auc_{auc:.4f}.csv\"\n",
    "                trial_submission_xlsx = f\"submission_trial_{ran:03d}_auc_{auc:.4f}.xlsx\"\n",
    "                \n",
    "                predict_test_with_state(state, params, vocab, out_csv=trial_submission_csv)\n",
    "                try:\n",
    "                    sub_df = pd.read_csv(trial_submission_csv)\n",
    "                    with pd.ExcelWriter(trial_submission_xlsx, engine=\"xlsxwriter\") as w:\n",
    "                        sub_df.to_excel(w, sheet_name=\"submission\", index=False)\n",
    "                    print(f\"✅ Wrote trial submission: {trial_submission_csv} and {trial_submission_xlsx}\")\n",
    "                except Exception as e:\n",
    "                    print(f\"Note: could not write XLSX for trial {ran}:\", e)\n",
    "\n",
    "        if ran >= max_trials:\n",
    "            break\n",
    "\n",
    "    print(f\"\\nSession done. Ran {ran} trial(s) in {round(time.time()-t0,2)}s.\")\n",
    "    if best_payload and save_best_submission:\n",
    "        state, params, vocab = best_payload\n",
    "        predict_test_with_state(state, params, vocab, out_csv=SUBMISSION_CSV)\n",
    "        try:\n",
    "            sub_df = pd.read_csv(SUBMISSION_CSV)\n",
    "            with pd.ExcelWriter(SUBMISSION_XLSX, engine=\"xlsxwriter\") as w:\n",
    "                sub_df.to_excel(w, sheet_name=\"submission\", index=False)\n",
    "            print(f\"✅ Wrote {SUBMISSION_XLSX}\")\n",
    "        except Exception as e:\n",
    "            print(\"Note: could not write XLSX submission:\", e)\n",
    "    else:\n",
    "        print(\"No submission written this session.\")\n",
    "\n",
    "# ============================================================\n",
    "# DEFINE YOUR PARAM SPACE HERE (laptop-safe; resume lets you add more)\n",
    "# \n",
    "# HOW TO ADD MORE PARAMETERS:\n",
    "# 1. Add new parameter to PARAM_SPACE with a list of values to try\n",
    "# 2. Update your model/training code to use the new parameter\n",
    "# 3. Add parameter to REQ list if it's required for model creation\n",
    "# 4. The system will automatically generate all combinations\n",
    "#\n",
    "# EXAMPLES:\n",
    "# - Add new optimizers: optimizer=[\"adam\", \"adamw\", \"sgd\", \"rmsprop\"]\n",
    "# - Add new architectures: model_type=[\"cnn\", \"transformer\", \"lstm\"]\n",
    "# - Add new data augmentation: augmentation=[\"none\", \"backtranslation\", \"paraphrase\"]\n",
    "# ============================================================\n",
    "PARAM_SPACE = dict(\n",
    "    # Capacity/structure\n",
    "    seq_len=[200, 224, 256, 288, 320],  # Expanded sequence lengths\n",
    "    emb_dim=[96, 128, 160, 192, 224],   # More embedding dimensions\n",
    "    conv_blocks=[1, 2, 3],              # More convolution blocks\n",
    "    channels_start=[96, 128, 160, 192], # More starting channels\n",
    "    channel_growth=[\"x1.2\", \"x1.5\", \"x2.0\"],  # Different growth rates\n",
    "    kernel_sizes=[\"3-5-7\", \"3-5-7-9\", \"5-7-9\"],  # More kernel size combinations\n",
    "\n",
    "    # Optimization/regularization\n",
    "    optimizer=[\"adam\", \"adamw\", \"sgd\"],  # More optimizers\n",
    "    learning_rate=[5e-4, 8e-4, 1e-3, 1.2e-3, 1.5e-3],  # More learning rates\n",
    "    batch_size=[32, 64, 128, 256],       # More batch sizes\n",
    "    epochs=[6, 8, 10, 12],               # More epoch options\n",
    "    dropout=[0.1, 0.15, 0.2, 0.25, 0.3], # More dropout rates\n",
    "    weight_decay=[0, 1e-5, 1e-4, 2e-4, 5e-4],  # More weight decay options\n",
    "    label_smoothing=[0.0, 0.01, 0.03, 0.05],   # More label smoothing options\n",
    "    loss_fn=[\"bce_logits\", \"focal_loss\"],       # More loss functions\n",
    "    \n",
    "    # NEW: Additional hyperparameters\n",
    "    warmup_epochs=[0, 1, 2],             # Learning rate warmup\n",
    "    scheduler_type=[\"none\", \"cosine\", \"step\", \"plateau\"],  # Learning rate schedulers\n",
    "    grad_clip=[0.5, 1.0, 1.5, 2.0],     # Gradient clipping values\n",
    "    activation=[\"relu\", \"gelu\", \"swish\"], # Activation functions\n",
    "    pooling_type=[\"max\", \"avg\", \"attention\"],  # Pooling methods\n",
    "    use_batchnorm=[True, False],         # Batch normalization toggle\n",
    "    use_residual=[True, False],          # Residual connections\n",
    "    attention_heads=[1, 2, 4],           # Multi-head attention (if using attention pooling)\n",
    ")\n",
    "\n",
    "# Constants applied to every combo (change here if needed)\n",
    "CONSTANTS = dict(\n",
    "    vocab_size=30000,\n",
    "    class_weighting=\"none\",\n",
    "    seed=42,\n",
    "    # Note: use_batchnorm, pooling, grad_clip, scheduler are now in PARAM_SPACE\n",
    ")\n",
    "\n",
    "# ============================================================\n",
    "# GO: run grid (or random sample) with resume\n",
    "# Start TensorBoard in a terminal:  tensorboard --logdir tb_scratch_tune\n",
    "# ============================================================\n",
    "if __name__ == \"__main__\":\n",
    "    run_param_space(\n",
    "        PARAM_SPACE,\n",
    "        constants=CONSTANTS,\n",
    "        mode=\"grid\",             # or \"random\"\n",
    "        n_samples=None,          # only used for mode=\"random\"\n",
    "        max_trials=200, #MAX_TRIALS_PER_RUN\n",
    "        enable_tb=ENABLE_TENSORBOARD,\n",
    "        save_best_submission=SAVE_BEST_SESSION_SUBMISSION\n",
    "    )\n"
   ]
  },
  {
   "cell_type": "code",
   "execution_count": null,
   "id": "204a532d",
   "metadata": {},
   "outputs": [],
   "source": []
  }
 ],
 "metadata": {
  "kernelspec": {
   "display_name": "Python 3",
   "language": "python",
   "name": "python3"
  },
  "language_info": {
   "codemirror_mode": {
    "name": "ipython",
    "version": 3
   },
   "file_extension": ".py",
   "mimetype": "text/x-python",
   "name": "python",
   "nbconvert_exporter": "python",
   "pygments_lexer": "ipython3",
   "version": "3.12.4"
  }
 },
 "nbformat": 4,
 "nbformat_minor": 5
}
